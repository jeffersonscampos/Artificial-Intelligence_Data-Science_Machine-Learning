{
 "cells": [
  {
   "cell_type": "markdown",
   "metadata": {},
   "source": [
    "# <center>Previsão em Poços de petróleo
    <br/>
    UNICAMP - Arthur Ribeiro Nunes - a229688@dac.unicamp.br </center>"
   ]
  },
  {
   "cell_type": "code",
   "execution_count": null,
   "metadata": {},
   "outputs": [],
   "source": [
    "#!pip install lasio"
   ]
  },
  {
   "cell_type": "markdown",
   "metadata": {},
   "source": [
    "## 1 - Definição do Problema"
   ]
  },
  {
   "cell_type": "markdown",
   "metadata": {},
   "source": [
    "Esse projeto tem o objetivo de fazer a previsão de variáveis a partir de dados de poços de petróleo.\n",
    "\n",
    "Os dados utilizados nesse projeto foram gerados de forma sintética pelo LAS - UNICAMP\n",
    "\n",
    "O Problema a ser tratado pode ser dividido em 2 sub problemas\n",
    "- Previsão da variável PERMEABILITY, a partir das demais variáveis da base de dados\n",
    "- Previsão da variável POROSITY, a partir das demais variáveis da base de dados\n",
    "\n",
    "Em ambos os casos, os problemas devem ser tratados como problemas de regressão, pois ambas as variáveis a serem preditas são variáveis contínuas.\n"
   ]
  },
  {
   "cell_type": "markdown",
   "metadata": {},
   "source": [
    "## 2 - Carga dos Dados"
   ]
  },
  {
   "cell_type": "code",
   "execution_count": 1,
   "metadata": {},
   "outputs": [],
   "source": [
    "# imports\n",
    "import numpy as np \n",
    "import pandas as pd\n",
    "import lasio #biblioteca utilizada para a leitura dos dados\n",
    "\n",
    "import seaborn as sns\n",
    "import matplotlib.pyplot as plt\n",
    "\n",
    "from sklearn.svm import SVR\n",
    "from sklearn.linear_model import LinearRegression\n",
    "from sklearn.ensemble import RandomForestRegressor, GradientBoostingRegressor\n",
    "from sklearn.neighbors import KNeighborsRegressor\n",
    "\n",
    "from sklearn.model_selection import train_test_split\n",
    "\n",
    "from sklearn.metrics import r2_score, mean_squared_error"
   ]
  },
  {
   "cell_type": "code",
   "execution_count": 2,
   "metadata": {},
   "outputs": [
    {
     "data": {
      "text/html": [
       "<div>\n",
       "<style scoped>\n",
       "    .dataframe tbody tr th:only-of-type {\n",
       "        vertical-align: middle;\n",
       "    }\n",
       "\n",
       "    .dataframe tbody tr th {\n",
       "        vertical-align: top;\n",
       "    }\n",
       "\n",
       "    .dataframe thead th {\n",
       "        text-align: right;\n",
       "    }\n",
       "</style>\n",
       "<table border=\"1\" class=\"dataframe\">\n",
       "  <thead>\n",
       "    <tr style=\"text-align: right;\">\n",
       "      <th></th>\n",
       "      <th>DEPT</th>\n",
       "      <th>ESTIMATEDLOG</th>\n",
       "      <th>PERMEABILITY</th>\n",
       "      <th>POROSITY</th>\n",
       "      <th>UCF_D</th>\n",
       "      <th>PERMEABILITY_Z</th>\n",
       "      <th>INTENSITY</th>\n",
       "    </tr>\n",
       "  </thead>\n",
       "  <tbody>\n",
       "    <tr>\n",
       "      <th>0</th>\n",
       "      <td>3410.438497</td>\n",
       "      <td>NaN</td>\n",
       "      <td>240.951645</td>\n",
       "      <td>0.140528</td>\n",
       "      <td>1.0</td>\n",
       "      <td>9.638065</td>\n",
       "      <td>0.002880</td>\n",
       "    </tr>\n",
       "    <tr>\n",
       "      <th>1</th>\n",
       "      <td>3412.634966</td>\n",
       "      <td>NaN</td>\n",
       "      <td>240.951645</td>\n",
       "      <td>0.140528</td>\n",
       "      <td>1.0</td>\n",
       "      <td>9.638065</td>\n",
       "      <td>0.002880</td>\n",
       "    </tr>\n",
       "    <tr>\n",
       "      <th>2</th>\n",
       "      <td>3412.637165</td>\n",
       "      <td>NaN</td>\n",
       "      <td>261.061340</td>\n",
       "      <td>0.204155</td>\n",
       "      <td>1.0</td>\n",
       "      <td>10.442453</td>\n",
       "      <td>0.002619</td>\n",
       "    </tr>\n",
       "    <tr>\n",
       "      <th>3</th>\n",
       "      <td>3414.831979</td>\n",
       "      <td>NaN</td>\n",
       "      <td>261.061340</td>\n",
       "      <td>0.204155</td>\n",
       "      <td>1.0</td>\n",
       "      <td>10.442453</td>\n",
       "      <td>0.002619</td>\n",
       "    </tr>\n",
       "    <tr>\n",
       "      <th>4</th>\n",
       "      <td>3414.834176</td>\n",
       "      <td>NaN</td>\n",
       "      <td>280.989838</td>\n",
       "      <td>0.193558</td>\n",
       "      <td>1.0</td>\n",
       "      <td>11.239594</td>\n",
       "      <td>0.005349</td>\n",
       "    </tr>\n",
       "  </tbody>\n",
       "</table>\n",
       "</div>"
      ],
      "text/plain": [
       "          DEPT  ESTIMATEDLOG  PERMEABILITY  POROSITY  UCF_D  PERMEABILITY_Z  \\\n",
       "0  3410.438497           NaN    240.951645  0.140528    1.0        9.638065   \n",
       "1  3412.634966           NaN    240.951645  0.140528    1.0        9.638065   \n",
       "2  3412.637165           NaN    261.061340  0.204155    1.0       10.442453   \n",
       "3  3414.831979           NaN    261.061340  0.204155    1.0       10.442453   \n",
       "4  3414.834176           NaN    280.989838  0.193558    1.0       11.239594   \n",
       "\n",
       "   INTENSITY  \n",
       "0   0.002880  \n",
       "1   0.002880  \n",
       "2   0.002619  \n",
       "3   0.002619  \n",
       "4   0.005349  "
      ]
     },
     "execution_count": 2,
     "metadata": {},
     "output_type": "execute_result"
    }
   ],
   "source": [
    "# os dados são lidos e carregados em um Dataframe chamado df\n",
    "las1 = lasio.read('dados/inj_1')\n",
    "df = pd.DataFrame(las1.data, columns = las1.keys())\n",
    "df.head()"
   ]
  },
  {
   "cell_type": "markdown",
   "metadata": {},
   "source": [
    "## 3 - Análise Exploratória dos dados"
   ]
  },
  {
   "cell_type": "code",
   "execution_count": 3,
   "metadata": {},
   "outputs": [
    {
     "data": {
      "text/plain": [
       "(165, 7)"
      ]
     },
     "execution_count": 3,
     "metadata": {},
     "output_type": "execute_result"
    }
   ],
   "source": [
    "df.shape"
   ]
  },
  {
   "cell_type": "markdown",
   "metadata": {},
   "source": [
    "A base de dados possui 165 registros e 7 colunas."
   ]
  },
  {
   "cell_type": "code",
   "execution_count": 4,
   "metadata": {},
   "outputs": [
    {
     "data": {
      "text/plain": [
       "DEPT              float64\n",
       "ESTIMATEDLOG      float64\n",
       "PERMEABILITY      float64\n",
       "POROSITY          float64\n",
       "UCF_D             float64\n",
       "PERMEABILITY_Z    float64\n",
       "INTENSITY         float64\n",
       "dtype: object"
      ]
     },
     "execution_count": 4,
     "metadata": {},
     "output_type": "execute_result"
    }
   ],
   "source": [
    "# Tipos de Dados\n",
    "df.dtypes"
   ]
  },
  {
   "cell_type": "markdown",
   "metadata": {},
   "source": [
    "Todos os valores são do tipo float"
   ]
  },
  {
   "cell_type": "code",
   "execution_count": 5,
   "metadata": {},
   "outputs": [
    {
     "name": "stdout",
     "output_type": "stream",
     "text": [
      "DEPT                0\n",
      "ESTIMATEDLOG      165\n",
      "PERMEABILITY        1\n",
      "POROSITY            1\n",
      "UCF_D               1\n",
      "PERMEABILITY_Z      1\n",
      "INTENSITY           1\n",
      "dtype: int64\n"
     ]
    }
   ],
   "source": [
    "# Verificando valores missing\n",
    "print(df.isna().sum())"
   ]
  },
  {
   "cell_type": "markdown",
   "metadata": {},
   "source": [
    "Analisando-se a existência de valores faltantes, chegou-se as seguintes conclusões:\n",
    "- A Coluna \"DEPT\" não possui nenhum valor faltante.\n",
    "- As colunas \"PERMEABILITY\", \"POROSITY\", \"UCF_D\", \"PERMEABILITY_Z\" e \"INTENSITY\" possuem apenas 1 valor faltante.\n",
    "- A coluna \"ESTIMATEDLOG\" possui todos os valores faltantes, logo, tal coluna deve ser eliminada, pois ela não irá trazer nenhum ganho para o processo.."
   ]
  },
  {
   "cell_type": "code",
   "execution_count": 6,
   "metadata": {},
   "outputs": [
    {
     "data": {
      "text/html": [
       "<div>\n",
       "<style scoped>\n",
       "    .dataframe tbody tr th:only-of-type {\n",
       "        vertical-align: middle;\n",
       "    }\n",
       "\n",
       "    .dataframe tbody tr th {\n",
       "        vertical-align: top;\n",
       "    }\n",
       "\n",
       "    .dataframe thead th {\n",
       "        text-align: right;\n",
       "    }\n",
       "</style>\n",
       "<table border=\"1\" class=\"dataframe\">\n",
       "  <thead>\n",
       "    <tr style=\"text-align: right;\">\n",
       "      <th></th>\n",
       "      <th>DEPT</th>\n",
       "      <th>PERMEABILITY</th>\n",
       "      <th>POROSITY</th>\n",
       "      <th>UCF_D</th>\n",
       "      <th>PERMEABILITY_Z</th>\n",
       "      <th>INTENSITY</th>\n",
       "    </tr>\n",
       "  </thead>\n",
       "  <tbody>\n",
       "    <tr>\n",
       "      <th>0</th>\n",
       "      <td>3410.438497</td>\n",
       "      <td>240.951645</td>\n",
       "      <td>0.140528</td>\n",
       "      <td>1.0</td>\n",
       "      <td>9.638065</td>\n",
       "      <td>0.002880</td>\n",
       "    </tr>\n",
       "    <tr>\n",
       "      <th>1</th>\n",
       "      <td>3412.634966</td>\n",
       "      <td>240.951645</td>\n",
       "      <td>0.140528</td>\n",
       "      <td>1.0</td>\n",
       "      <td>9.638065</td>\n",
       "      <td>0.002880</td>\n",
       "    </tr>\n",
       "    <tr>\n",
       "      <th>2</th>\n",
       "      <td>3412.637165</td>\n",
       "      <td>261.061340</td>\n",
       "      <td>0.204155</td>\n",
       "      <td>1.0</td>\n",
       "      <td>10.442453</td>\n",
       "      <td>0.002619</td>\n",
       "    </tr>\n",
       "    <tr>\n",
       "      <th>3</th>\n",
       "      <td>3414.831979</td>\n",
       "      <td>261.061340</td>\n",
       "      <td>0.204155</td>\n",
       "      <td>1.0</td>\n",
       "      <td>10.442453</td>\n",
       "      <td>0.002619</td>\n",
       "    </tr>\n",
       "    <tr>\n",
       "      <th>4</th>\n",
       "      <td>3414.834176</td>\n",
       "      <td>280.989838</td>\n",
       "      <td>0.193558</td>\n",
       "      <td>1.0</td>\n",
       "      <td>11.239594</td>\n",
       "      <td>0.005349</td>\n",
       "    </tr>\n",
       "  </tbody>\n",
       "</table>\n",
       "</div>"
      ],
      "text/plain": [
       "          DEPT  PERMEABILITY  POROSITY  UCF_D  PERMEABILITY_Z  INTENSITY\n",
       "0  3410.438497    240.951645  0.140528    1.0        9.638065   0.002880\n",
       "1  3412.634966    240.951645  0.140528    1.0        9.638065   0.002880\n",
       "2  3412.637165    261.061340  0.204155    1.0       10.442453   0.002619\n",
       "3  3414.831979    261.061340  0.204155    1.0       10.442453   0.002619\n",
       "4  3414.834176    280.989838  0.193558    1.0       11.239594   0.005349"
      ]
     },
     "execution_count": 6,
     "metadata": {},
     "output_type": "execute_result"
    }
   ],
   "source": [
    "#retiranda da variável ESTIMATEDLOG da base de dados\n",
    "df.drop('ESTIMATEDLOG', axis=1, inplace=True)\n",
    "df.head()"
   ]
  },
  {
   "cell_type": "markdown",
   "metadata": {},
   "source": [
    "Verificação dos demais casos de valores nulos"
   ]
  },
  {
   "cell_type": "code",
   "execution_count": 7,
   "metadata": {},
   "outputs": [
    {
     "data": {
      "text/html": [
       "<div>\n",
       "<style scoped>\n",
       "    .dataframe tbody tr th:only-of-type {\n",
       "        vertical-align: middle;\n",
       "    }\n",
       "\n",
       "    .dataframe tbody tr th {\n",
       "        vertical-align: top;\n",
       "    }\n",
       "\n",
       "    .dataframe thead th {\n",
       "        text-align: right;\n",
       "    }\n",
       "</style>\n",
       "<table border=\"1\" class=\"dataframe\">\n",
       "  <thead>\n",
       "    <tr style=\"text-align: right;\">\n",
       "      <th></th>\n",
       "      <th>DEPT</th>\n",
       "      <th>PERMEABILITY</th>\n",
       "      <th>POROSITY</th>\n",
       "      <th>UCF_D</th>\n",
       "      <th>PERMEABILITY_Z</th>\n",
       "      <th>INTENSITY</th>\n",
       "    </tr>\n",
       "  </thead>\n",
       "  <tbody>\n",
       "    <tr>\n",
       "      <th>164</th>\n",
       "      <td>3584.78945</td>\n",
       "      <td>NaN</td>\n",
       "      <td>NaN</td>\n",
       "      <td>NaN</td>\n",
       "      <td>NaN</td>\n",
       "      <td>NaN</td>\n",
       "    </tr>\n",
       "  </tbody>\n",
       "</table>\n",
       "</div>"
      ],
      "text/plain": [
       "           DEPT  PERMEABILITY  POROSITY  UCF_D  PERMEABILITY_Z  INTENSITY\n",
       "164  3584.78945           NaN       NaN    NaN             NaN        NaN"
      ]
     },
     "execution_count": 7,
     "metadata": {},
     "output_type": "execute_result"
    }
   ],
   "source": [
    "df[df.PERMEABILITY.isnull()]"
   ]
  },
  {
   "cell_type": "markdown",
   "metadata": {},
   "source": [
    "percebe-se que todos os demais valores nulos estão na mesma linha, logo, esse registro também deve ser eliminado. "
   ]
  },
  {
   "cell_type": "code",
   "execution_count": 8,
   "metadata": {},
   "outputs": [],
   "source": [
    "df=df[~df.PERMEABILITY.isnull()]"
   ]
  },
  {
   "cell_type": "code",
   "execution_count": 9,
   "metadata": {},
   "outputs": [
    {
     "name": "stdout",
     "output_type": "stream",
     "text": [
      "DEPT              0\n",
      "PERMEABILITY      0\n",
      "POROSITY          0\n",
      "UCF_D             0\n",
      "PERMEABILITY_Z    0\n",
      "INTENSITY         0\n",
      "dtype: int64\n"
     ]
    }
   ],
   "source": [
    "# Verificando valores missing\n",
    "print(df.isna().sum())"
   ]
  },
  {
   "cell_type": "code",
   "execution_count": 10,
   "metadata": {},
   "outputs": [
    {
     "data": {
      "text/plain": [
       "(164, 6)"
      ]
     },
     "execution_count": 10,
     "metadata": {},
     "output_type": "execute_result"
    }
   ],
   "source": [
    "df.shape"
   ]
  },
  {
   "cell_type": "markdown",
   "metadata": {},
   "source": [
    "Após os tratamentos, a base ficou sem nenhum valor faltante e passou a ter 164 linha e 6 colunas."
   ]
  },
  {
   "cell_type": "code",
   "execution_count": 11,
   "metadata": {},
   "outputs": [
    {
     "data": {
      "text/plain": [
       "DEPT              164\n",
       "PERMEABILITY       67\n",
       "POROSITY           67\n",
       "UCF_D               4\n",
       "PERMEABILITY_Z     67\n",
       "INTENSITY          82\n",
       "dtype: int64"
      ]
     },
     "execution_count": 11,
     "metadata": {},
     "output_type": "execute_result"
    }
   ],
   "source": [
    "# Verificando Valores Únicos\n",
    "df.nunique()"
   ]
  },
  {
   "cell_type": "markdown",
   "metadata": {},
   "source": [
    "Apesar de ser representada por números (1.0, 2.0, 3.0 e 4.0), a variável \"UCF_D\" é uma variável categórica."
   ]
  },
  {
   "cell_type": "code",
   "execution_count": 12,
   "metadata": {},
   "outputs": [
    {
     "data": {
      "text/plain": [
       "(array([1., 2., 3., 4.]), array([60, 70, 32,  2], dtype=int64))"
      ]
     },
     "execution_count": 12,
     "metadata": {},
     "output_type": "execute_result"
    }
   ],
   "source": [
    "unique, counts = np.unique(df['UCF_D'], return_counts=True)\n",
    "unique, counts"
   ]
  },
  {
   "cell_type": "markdown",
   "metadata": {},
   "source": [
    "Conforme verificado na célula acima, a variável \"UCF_D\" apresenta a seguinte distribuição de valores:\n",
    "- Valor 1: 60 ocorrências \n",
    "- Valor 2: 70 ocorrências \n",
    "- Valor 3: 32 ocorrências \n",
    "- Valor 4: 02 ocorrências "
   ]
  },
  {
   "cell_type": "markdown",
   "metadata": {},
   "source": [
    "### Análise das variáveis continuas"
   ]
  },
  {
   "cell_type": "code",
   "execution_count": 13,
   "metadata": {},
   "outputs": [
    {
     "data": {
      "text/plain": [
       "['DEPT', 'PERMEABILITY', 'POROSITY', 'PERMEABILITY_Z', 'INTENSITY']"
      ]
     },
     "execution_count": 13,
     "metadata": {},
     "output_type": "execute_result"
    }
   ],
   "source": [
    "#aqui, cria-se uma lista para armazenar os nomes das variáveis contínuas \n",
    "continuas = list(df.columns)\n",
    "continuas.remove('UCF_D')\n",
    "continuas"
   ]
  },
  {
   "cell_type": "markdown",
   "metadata": {},
   "source": [
    "Verificação de correlação entre as variáveis"
   ]
  },
  {
   "cell_type": "code",
   "execution_count": 14,
   "metadata": {},
   "outputs": [
    {
     "data": {
      "text/html": [
       "<div>\n",
       "<style scoped>\n",
       "    .dataframe tbody tr th:only-of-type {\n",
       "        vertical-align: middle;\n",
       "    }\n",
       "\n",
       "    .dataframe tbody tr th {\n",
       "        vertical-align: top;\n",
       "    }\n",
       "\n",
       "    .dataframe thead th {\n",
       "        text-align: right;\n",
       "    }\n",
       "</style>\n",
       "<table border=\"1\" class=\"dataframe\">\n",
       "  <thead>\n",
       "    <tr style=\"text-align: right;\">\n",
       "      <th></th>\n",
       "      <th>DEPT</th>\n",
       "      <th>PERMEABILITY</th>\n",
       "      <th>POROSITY</th>\n",
       "      <th>PERMEABILITY_Z</th>\n",
       "      <th>INTENSITY</th>\n",
       "    </tr>\n",
       "  </thead>\n",
       "  <tbody>\n",
       "    <tr>\n",
       "      <th>DEPT</th>\n",
       "      <td>1.000000</td>\n",
       "      <td>-0.175904</td>\n",
       "      <td>0.029849</td>\n",
       "      <td>-0.175904</td>\n",
       "      <td>-0.274487</td>\n",
       "    </tr>\n",
       "    <tr>\n",
       "      <th>PERMEABILITY</th>\n",
       "      <td>-0.175904</td>\n",
       "      <td>1.000000</td>\n",
       "      <td>0.249473</td>\n",
       "      <td>1.000000</td>\n",
       "      <td>0.016798</td>\n",
       "    </tr>\n",
       "    <tr>\n",
       "      <th>POROSITY</th>\n",
       "      <td>0.029849</td>\n",
       "      <td>0.249473</td>\n",
       "      <td>1.000000</td>\n",
       "      <td>0.249473</td>\n",
       "      <td>-0.031536</td>\n",
       "    </tr>\n",
       "    <tr>\n",
       "      <th>PERMEABILITY_Z</th>\n",
       "      <td>-0.175904</td>\n",
       "      <td>1.000000</td>\n",
       "      <td>0.249473</td>\n",
       "      <td>1.000000</td>\n",
       "      <td>0.016798</td>\n",
       "    </tr>\n",
       "    <tr>\n",
       "      <th>INTENSITY</th>\n",
       "      <td>-0.274487</td>\n",
       "      <td>0.016798</td>\n",
       "      <td>-0.031536</td>\n",
       "      <td>0.016798</td>\n",
       "      <td>1.000000</td>\n",
       "    </tr>\n",
       "  </tbody>\n",
       "</table>\n",
       "</div>"
      ],
      "text/plain": [
       "                    DEPT  PERMEABILITY  POROSITY  PERMEABILITY_Z  INTENSITY\n",
       "DEPT            1.000000     -0.175904  0.029849       -0.175904  -0.274487\n",
       "PERMEABILITY   -0.175904      1.000000  0.249473        1.000000   0.016798\n",
       "POROSITY        0.029849      0.249473  1.000000        0.249473  -0.031536\n",
       "PERMEABILITY_Z -0.175904      1.000000  0.249473        1.000000   0.016798\n",
       "INTENSITY      -0.274487      0.016798 -0.031536        0.016798   1.000000"
      ]
     },
     "execution_count": 14,
     "metadata": {},
     "output_type": "execute_result"
    }
   ],
   "source": [
    "df[continuas].corr()"
   ]
  },
  {
   "cell_type": "markdown",
   "metadata": {},
   "source": [
    "Analisando a tabela de correlações, percebe-se que as variáveis PERMEABILITY e PERMEABILITY_Z\n",
    "são totalmente correlacionadas (correlação=1). Logo, não há necessidade de se manter essas 2 variáveis na base de dados."
   ]
  },
  {
   "cell_type": "code",
   "execution_count": 15,
   "metadata": {},
   "outputs": [
    {
     "data": {
      "text/html": [
       "<div>\n",
       "<style scoped>\n",
       "    .dataframe tbody tr th:only-of-type {\n",
       "        vertical-align: middle;\n",
       "    }\n",
       "\n",
       "    .dataframe tbody tr th {\n",
       "        vertical-align: top;\n",
       "    }\n",
       "\n",
       "    .dataframe thead th {\n",
       "        text-align: right;\n",
       "    }\n",
       "</style>\n",
       "<table border=\"1\" class=\"dataframe\">\n",
       "  <thead>\n",
       "    <tr style=\"text-align: right;\">\n",
       "      <th></th>\n",
       "      <th>PERMEABILITY</th>\n",
       "      <th>PERMEABILITY_Z</th>\n",
       "    </tr>\n",
       "  </thead>\n",
       "  <tbody>\n",
       "    <tr>\n",
       "      <th>0</th>\n",
       "      <td>240.951645</td>\n",
       "      <td>9.638065</td>\n",
       "    </tr>\n",
       "    <tr>\n",
       "      <th>1</th>\n",
       "      <td>240.951645</td>\n",
       "      <td>9.638065</td>\n",
       "    </tr>\n",
       "    <tr>\n",
       "      <th>2</th>\n",
       "      <td>261.061340</td>\n",
       "      <td>10.442453</td>\n",
       "    </tr>\n",
       "    <tr>\n",
       "      <th>3</th>\n",
       "      <td>261.061340</td>\n",
       "      <td>10.442453</td>\n",
       "    </tr>\n",
       "    <tr>\n",
       "      <th>4</th>\n",
       "      <td>280.989838</td>\n",
       "      <td>11.239594</td>\n",
       "    </tr>\n",
       "  </tbody>\n",
       "</table>\n",
       "</div>"
      ],
      "text/plain": [
       "   PERMEABILITY  PERMEABILITY_Z\n",
       "0    240.951645        9.638065\n",
       "1    240.951645        9.638065\n",
       "2    261.061340       10.442453\n",
       "3    261.061340       10.442453\n",
       "4    280.989838       11.239594"
      ]
     },
     "execution_count": 15,
     "metadata": {},
     "output_type": "execute_result"
    }
   ],
   "source": [
    "df[['PERMEABILITY','PERMEABILITY_Z']].head()"
   ]
  },
  {
   "cell_type": "code",
   "execution_count": 16,
   "metadata": {},
   "outputs": [
    {
     "data": {
      "text/plain": [
       "0      25.000001\n",
       "1      25.000001\n",
       "2      25.000001\n",
       "3      25.000001\n",
       "4      25.000000\n",
       "         ...    \n",
       "159    25.000000\n",
       "160    25.000000\n",
       "161    25.000000\n",
       "162    25.000000\n",
       "163    25.000000\n",
       "Length: 164, dtype: float64"
      ]
     },
     "execution_count": 16,
     "metadata": {},
     "output_type": "execute_result"
    }
   ],
   "source": [
    "df['PERMEABILITY']/df['PERMEABILITY_Z']"
   ]
  },
  {
   "cell_type": "markdown",
   "metadata": {},
   "source": [
    "Como pode ser visto, a variável PERMEABILITY sempre é 25 vezes maior que a variável PERMEABILITY_Z (PERMEABILITY = 25 * PERMEABILITY_Z). Como a variável PERMEABILITY é uma das variáveis a serem preditas, optou-se pela retirada da variável PERMEABILITY_Z da base de dados. "
   ]
  },
  {
   "cell_type": "code",
   "execution_count": 17,
   "metadata": {},
   "outputs": [
    {
     "data": {
      "text/html": [
       "<div>\n",
       "<style scoped>\n",
       "    .dataframe tbody tr th:only-of-type {\n",
       "        vertical-align: middle;\n",
       "    }\n",
       "\n",
       "    .dataframe tbody tr th {\n",
       "        vertical-align: top;\n",
       "    }\n",
       "\n",
       "    .dataframe thead th {\n",
       "        text-align: right;\n",
       "    }\n",
       "</style>\n",
       "<table border=\"1\" class=\"dataframe\">\n",
       "  <thead>\n",
       "    <tr style=\"text-align: right;\">\n",
       "      <th></th>\n",
       "      <th>DEPT</th>\n",
       "      <th>PERMEABILITY</th>\n",
       "      <th>POROSITY</th>\n",
       "      <th>UCF_D</th>\n",
       "      <th>INTENSITY</th>\n",
       "    </tr>\n",
       "  </thead>\n",
       "  <tbody>\n",
       "    <tr>\n",
       "      <th>0</th>\n",
       "      <td>3410.438497</td>\n",
       "      <td>240.951645</td>\n",
       "      <td>0.140528</td>\n",
       "      <td>1.0</td>\n",
       "      <td>0.002880</td>\n",
       "    </tr>\n",
       "    <tr>\n",
       "      <th>1</th>\n",
       "      <td>3412.634966</td>\n",
       "      <td>240.951645</td>\n",
       "      <td>0.140528</td>\n",
       "      <td>1.0</td>\n",
       "      <td>0.002880</td>\n",
       "    </tr>\n",
       "    <tr>\n",
       "      <th>2</th>\n",
       "      <td>3412.637165</td>\n",
       "      <td>261.061340</td>\n",
       "      <td>0.204155</td>\n",
       "      <td>1.0</td>\n",
       "      <td>0.002619</td>\n",
       "    </tr>\n",
       "    <tr>\n",
       "      <th>3</th>\n",
       "      <td>3414.831979</td>\n",
       "      <td>261.061340</td>\n",
       "      <td>0.204155</td>\n",
       "      <td>1.0</td>\n",
       "      <td>0.002619</td>\n",
       "    </tr>\n",
       "    <tr>\n",
       "      <th>4</th>\n",
       "      <td>3414.834176</td>\n",
       "      <td>280.989838</td>\n",
       "      <td>0.193558</td>\n",
       "      <td>1.0</td>\n",
       "      <td>0.005349</td>\n",
       "    </tr>\n",
       "  </tbody>\n",
       "</table>\n",
       "</div>"
      ],
      "text/plain": [
       "          DEPT  PERMEABILITY  POROSITY  UCF_D  INTENSITY\n",
       "0  3410.438497    240.951645  0.140528    1.0   0.002880\n",
       "1  3412.634966    240.951645  0.140528    1.0   0.002880\n",
       "2  3412.637165    261.061340  0.204155    1.0   0.002619\n",
       "3  3414.831979    261.061340  0.204155    1.0   0.002619\n",
       "4  3414.834176    280.989838  0.193558    1.0   0.005349"
      ]
     },
     "execution_count": 17,
     "metadata": {},
     "output_type": "execute_result"
    }
   ],
   "source": [
    "# retirada da variável PERMEABILITY_Z\n",
    "df.drop('PERMEABILITY_Z', axis=1, inplace=True)\n",
    "df.head()"
   ]
  },
  {
   "cell_type": "markdown",
   "metadata": {},
   "source": [
    "### Verificação de outliers"
   ]
  },
  {
   "cell_type": "code",
   "execution_count": 18,
   "metadata": {},
   "outputs": [
    {
     "data": {
      "image/png": "[encoded data removed]",
      "text/plain": [
       "<Figure size 864x576 with 4 Axes>"
      ]
     },
     "metadata": {
      "needs_background": "light"
     },
     "output_type": "display_data"
    }
   ],
   "source": [
    "# Plot das variáveis contínuas\n",
    "continuas.remove('PERMEABILITY_Z')\n",
    "# Tamanho da área de plotagem\n",
    "fig = plt.figure(figsize = (12,8))\n",
    "\n",
    "# Loop pelas variáveis contínuas\n",
    "for i, col in enumerate(continuas):\n",
    "    plt.subplot(2, 2, i + 1);\n",
    "    df.boxplot(col);\n",
    "    plt.tight_layout()\n",
    "    "
   ]
  },
  {
   "cell_type": "markdown",
   "metadata": {},
   "source": [
    "Analisando-se os Boxplots acima, percebe-se que a variável PERMEABILITY possui um outlier"
   ]
  },
  {
   "cell_type": "code",
   "execution_count": 19,
   "metadata": {},
   "outputs": [
    {
     "data": {
      "text/plain": [
       "44.000728607"
      ]
     },
     "execution_count": 19,
     "metadata": {},
     "output_type": "execute_result"
    }
   ],
   "source": [
    "df['PERMEABILITY'].quantile(0.25)"
   ]
  },
  {
   "cell_type": "code",
   "execution_count": 20,
   "metadata": {},
   "outputs": [
    {
     "name": "stdout",
     "output_type": "stream",
     "text": [
      "O valor do 1º quartil é 44.000728607, o do 2º quartil (mediana) é 73.9114723205 e do 3º quartil é 194.5977478\n",
      "\n",
      "O intervalo inter quartil é 150.597019193\n",
      "\n",
      "\n",
      " Os outliers são:\n"
     ]
    },
    {
     "data": {
      "text/plain": [
       "12    6714.733398\n",
       "13    6714.733398\n",
       "Name: PERMEABILITY, dtype: float64"
      ]
     },
     "execution_count": 20,
     "metadata": {},
     "output_type": "execute_result"
    }
   ],
   "source": [
    "Q1 = df.PERMEABILITY.quantile(0.25)\n",
    "Q2 = df.PERMEABILITY.quantile(0.5)\n",
    "Q3 = df.PERMEABILITY.quantile(0.75)\n",
    "IQR = Q3 - Q1\n",
    "print(\"O valor do 1º quartil é {}, o do 2º quartil (mediana) é {} e do 3º quartil é {}\".format(Q1, Q2, Q3))\n",
    "print(\"\\nO intervalo inter quartil é {}\".format(IQR))\n",
    "#df['PERMEABILITY']=df[~((df.PERMEABILITY < (Q1 - 1.5 * IQR)) | (df.PERMEABILITY > (Q3 + 1.5 * IQR)))]['PERMEABILITY']\n",
    "print('\\n\\n Os outliers são:')\n",
    "df[((df.PERMEABILITY < (Q1 - 1.5 * IQR)) | (df.PERMEABILITY > (Q3 + 1.5 * IQR)))]['PERMEABILITY']"
   ]
  },
  {
   "cell_type": "markdown",
   "metadata": {},
   "source": [
    "Como pode ser observado, os outliers identificados são muito maiores que os demais valores da dessa variável. Esses valores discrepantes também são prejudiciais ao processo de aprendizagem de máquina, e por isso, também devem ser retirados da base de dados.  "
   ]
  },
  {
   "cell_type": "code",
   "execution_count": 21,
   "metadata": {},
   "outputs": [
    {
     "data": {
      "text/html": [
       "<div>\n",
       "<style scoped>\n",
       "    .dataframe tbody tr th:only-of-type {\n",
       "        vertical-align: middle;\n",
       "    }\n",
       "\n",
       "    .dataframe tbody tr th {\n",
       "        vertical-align: top;\n",
       "    }\n",
       "\n",
       "    .dataframe thead th {\n",
       "        text-align: right;\n",
       "    }\n",
       "</style>\n",
       "<table border=\"1\" class=\"dataframe\">\n",
       "  <thead>\n",
       "    <tr style=\"text-align: right;\">\n",
       "      <th></th>\n",
       "      <th>DEPT</th>\n",
       "      <th>PERMEABILITY</th>\n",
       "      <th>POROSITY</th>\n",
       "      <th>UCF_D</th>\n",
       "      <th>INTENSITY</th>\n",
       "    </tr>\n",
       "  </thead>\n",
       "  <tbody>\n",
       "    <tr>\n",
       "      <th>12</th>\n",
       "      <td>3421.410756</td>\n",
       "      <td>6714.733398</td>\n",
       "      <td>0.238339</td>\n",
       "      <td>4.0</td>\n",
       "      <td>0.003097</td>\n",
       "    </tr>\n",
       "    <tr>\n",
       "      <th>13</th>\n",
       "      <td>3423.598108</td>\n",
       "      <td>6714.733398</td>\n",
       "      <td>0.238339</td>\n",
       "      <td>4.0</td>\n",
       "      <td>0.003097</td>\n",
       "    </tr>\n",
       "  </tbody>\n",
       "</table>\n",
       "</div>"
      ],
      "text/plain": [
       "           DEPT  PERMEABILITY  POROSITY  UCF_D  INTENSITY\n",
       "12  3421.410756   6714.733398  0.238339    4.0   0.003097\n",
       "13  3423.598108   6714.733398  0.238339    4.0   0.003097"
      ]
     },
     "execution_count": 21,
     "metadata": {},
     "output_type": "execute_result"
    }
   ],
   "source": [
    "df[((df.PERMEABILITY < (Q1 - 1.5 * IQR)) | (df.PERMEABILITY > (Q3 + 1.5 * IQR)))]"
   ]
  },
  {
   "cell_type": "code",
   "execution_count": 22,
   "metadata": {},
   "outputs": [
    {
     "data": {
      "text/plain": [
       "73.9114723205"
      ]
     },
     "execution_count": 22,
     "metadata": {},
     "output_type": "execute_result"
    }
   ],
   "source": [
    "Q2"
   ]
  },
  {
   "cell_type": "code",
   "execution_count": 23,
   "metadata": {},
   "outputs": [],
   "source": [
    "df=df[~((df.PERMEABILITY < (Q1 - 1.5 * IQR)) | (df.PERMEABILITY > (Q3 + 1.5 * IQR)))]"
   ]
  },
  {
   "cell_type": "markdown",
   "metadata": {},
   "source": [
    "## 4 - Pré-processamento dos dados"
   ]
  },
  {
   "cell_type": "markdown",
   "metadata": {},
   "source": [
    "Como verificado na Análise exploratória dos dados, a variável 'UCF_D' apresenta características de uma variável categórica."
   ]
  },
  {
   "cell_type": "code",
   "execution_count": 24,
   "metadata": {},
   "outputs": [
    {
     "data": {
      "text/plain": [
       "(array([1., 2., 3.]), array([60, 70, 32], dtype=int64))"
      ]
     },
     "execution_count": 24,
     "metadata": {},
     "output_type": "execute_result"
    }
   ],
   "source": [
    "unique, counts = np.unique(df['UCF_D'], return_counts=True)\n",
    "unique, counts"
   ]
  },
  {
   "cell_type": "markdown",
   "metadata": {},
   "source": [
    "Ná análise inicial, a variável UCF_D apresentava 4 valores possíveis, no entanto, após a retirada dos registros com outliers, ela passou a possuir apenas 3 valores distintos."
   ]
  },
  {
   "cell_type": "markdown",
   "metadata": {},
   "source": [
    "Na análise inicial, a variável UCF_D apresentava 4 valores possíveis, no entanto, após a retirada dos registros com outliers, ela passou a possuir apenas 3 valores distintos.\n",
    "\n",
    "Após alguns testes, constatou-se que a variável UCF_D é uma variável categórica não ordenável, logo, tais variáveis não podem ser tratadas como números sequencias, pois, o fato de um registro dessa variável estar com o valor 3 não quer dizer que ele seja maior do que um outro registro dessa mesma variável que esteja com o valor 1. Ou seja, a forma como essa variável está sendo representada não é a mais indicada, pois ela acaba sugerindo um tipo de relação entre os registros que na verdade não existe.\n",
    "\n",
    "Sendo assim, a melhor forma de se representar essa variável é utilizando a representação one-hot encode. Nesse tipo de representação, a distância entre todos os tipos de regitros dessa variável é sempre o mesmo.\n",
    "\n",
    "Para o caso da variável em questão, a representação poderia ser feita da seguinte forma:\n",
    "- valor 1: [1, 0, 0]\n",
    "- valor 2: [0, 1, 0]\n",
    "- valor 3: [0, 0, 1]\n",
    "\n",
    "No entanto, uma forma mais compacta de se fazer essa representação seria:\n",
    "- valor 1: [0, 0]\n",
    "- valor 2: [1, 0]\n",
    "- valor 3: [0, 1]"
   ]
  },
  {
   "cell_type": "code",
   "execution_count": 25,
   "metadata": {},
   "outputs": [
    {
     "data": {
      "text/html": [
       "<div>\n",
       "<style scoped>\n",
       "    .dataframe tbody tr th:only-of-type {\n",
       "        vertical-align: middle;\n",
       "    }\n",
       "\n",
       "    .dataframe tbody tr th {\n",
       "        vertical-align: top;\n",
       "    }\n",
       "\n",
       "    .dataframe thead th {\n",
       "        text-align: right;\n",
       "    }\n",
       "</style>\n",
       "<table border=\"1\" class=\"dataframe\">\n",
       "  <thead>\n",
       "    <tr style=\"text-align: right;\">\n",
       "      <th></th>\n",
       "      <th>DEPT</th>\n",
       "      <th>PERMEABILITY</th>\n",
       "      <th>POROSITY</th>\n",
       "      <th>UCF_D</th>\n",
       "      <th>INTENSITY</th>\n",
       "    </tr>\n",
       "  </thead>\n",
       "  <tbody>\n",
       "    <tr>\n",
       "      <th>0</th>\n",
       "      <td>3410.438497</td>\n",
       "      <td>240.951645</td>\n",
       "      <td>0.140528</td>\n",
       "      <td>1.0</td>\n",
       "      <td>0.002880</td>\n",
       "    </tr>\n",
       "    <tr>\n",
       "      <th>1</th>\n",
       "      <td>3412.634966</td>\n",
       "      <td>240.951645</td>\n",
       "      <td>0.140528</td>\n",
       "      <td>1.0</td>\n",
       "      <td>0.002880</td>\n",
       "    </tr>\n",
       "    <tr>\n",
       "      <th>2</th>\n",
       "      <td>3412.637165</td>\n",
       "      <td>261.061340</td>\n",
       "      <td>0.204155</td>\n",
       "      <td>1.0</td>\n",
       "      <td>0.002619</td>\n",
       "    </tr>\n",
       "    <tr>\n",
       "      <th>3</th>\n",
       "      <td>3414.831979</td>\n",
       "      <td>261.061340</td>\n",
       "      <td>0.204155</td>\n",
       "      <td>1.0</td>\n",
       "      <td>0.002619</td>\n",
       "    </tr>\n",
       "    <tr>\n",
       "      <th>4</th>\n",
       "      <td>3414.834176</td>\n",
       "      <td>280.989838</td>\n",
       "      <td>0.193558</td>\n",
       "      <td>1.0</td>\n",
       "      <td>0.005349</td>\n",
       "    </tr>\n",
       "  </tbody>\n",
       "</table>\n",
       "</div>"
      ],
      "text/plain": [
       "          DEPT  PERMEABILITY  POROSITY  UCF_D  INTENSITY\n",
       "0  3410.438497    240.951645  0.140528    1.0   0.002880\n",
       "1  3412.634966    240.951645  0.140528    1.0   0.002880\n",
       "2  3412.637165    261.061340  0.204155    1.0   0.002619\n",
       "3  3414.831979    261.061340  0.204155    1.0   0.002619\n",
       "4  3414.834176    280.989838  0.193558    1.0   0.005349"
      ]
     },
     "execution_count": 25,
     "metadata": {},
     "output_type": "execute_result"
    }
   ],
   "source": [
    "df.head()"
   ]
  },
  {
   "cell_type": "code",
   "execution_count": 26,
   "metadata": {},
   "outputs": [
    {
     "data": {
      "text/html": [
       "<div>\n",
       "<style scoped>\n",
       "    .dataframe tbody tr th:only-of-type {\n",
       "        vertical-align: middle;\n",
       "    }\n",
       "\n",
       "    .dataframe tbody tr th {\n",
       "        vertical-align: top;\n",
       "    }\n",
       "\n",
       "    .dataframe thead th {\n",
       "        text-align: right;\n",
       "    }\n",
       "</style>\n",
       "<table border=\"1\" class=\"dataframe\">\n",
       "  <thead>\n",
       "    <tr style=\"text-align: right;\">\n",
       "      <th></th>\n",
       "      <th>DEPT</th>\n",
       "      <th>PERMEABILITY</th>\n",
       "      <th>POROSITY</th>\n",
       "      <th>INTENSITY</th>\n",
       "      <th>UCF_D_2.0</th>\n",
       "      <th>UCF_D_3.0</th>\n",
       "    </tr>\n",
       "  </thead>\n",
       "  <tbody>\n",
       "    <tr>\n",
       "      <th>0</th>\n",
       "      <td>3410.438497</td>\n",
       "      <td>240.951645</td>\n",
       "      <td>0.140528</td>\n",
       "      <td>0.002880</td>\n",
       "      <td>0</td>\n",
       "      <td>0</td>\n",
       "    </tr>\n",
       "    <tr>\n",
       "      <th>1</th>\n",
       "      <td>3412.634966</td>\n",
       "      <td>240.951645</td>\n",
       "      <td>0.140528</td>\n",
       "      <td>0.002880</td>\n",
       "      <td>0</td>\n",
       "      <td>0</td>\n",
       "    </tr>\n",
       "    <tr>\n",
       "      <th>2</th>\n",
       "      <td>3412.637165</td>\n",
       "      <td>261.061340</td>\n",
       "      <td>0.204155</td>\n",
       "      <td>0.002619</td>\n",
       "      <td>0</td>\n",
       "      <td>0</td>\n",
       "    </tr>\n",
       "    <tr>\n",
       "      <th>3</th>\n",
       "      <td>3414.831979</td>\n",
       "      <td>261.061340</td>\n",
       "      <td>0.204155</td>\n",
       "      <td>0.002619</td>\n",
       "      <td>0</td>\n",
       "      <td>0</td>\n",
       "    </tr>\n",
       "    <tr>\n",
       "      <th>4</th>\n",
       "      <td>3414.834176</td>\n",
       "      <td>280.989838</td>\n",
       "      <td>0.193558</td>\n",
       "      <td>0.005349</td>\n",
       "      <td>0</td>\n",
       "      <td>0</td>\n",
       "    </tr>\n",
       "  </tbody>\n",
       "</table>\n",
       "</div>"
      ],
      "text/plain": [
       "          DEPT  PERMEABILITY  POROSITY  INTENSITY  UCF_D_2.0  UCF_D_3.0\n",
       "0  3410.438497    240.951645  0.140528   0.002880          0          0\n",
       "1  3412.634966    240.951645  0.140528   0.002880          0          0\n",
       "2  3412.637165    261.061340  0.204155   0.002619          0          0\n",
       "3  3414.831979    261.061340  0.204155   0.002619          0          0\n",
       "4  3414.834176    280.989838  0.193558   0.005349          0          0"
      ]
     },
     "execution_count": 26,
     "metadata": {},
     "output_type": "execute_result"
    }
   ],
   "source": [
    "#transformação da variável UCF_D\n",
    "df=pd.get_dummies(df,columns=['UCF_D'],drop_first=True)\n",
    "df.head()"
   ]
  },
  {
   "cell_type": "markdown",
   "metadata": {},
   "source": [
    "# 5 - Geração dos Modelos"
   ]
  },
  {
   "cell_type": "markdown",
   "metadata": {},
   "source": [
    "## Métricas de Avaliação"
   ]
  },
  {
   "cell_type": "markdown",
   "metadata": {},
   "source": [
    "Serão utilizadas 2 métricas de avaliação para se medir o desempenho dos modelos\n",
    "- Erro Quadrado Médio (Mean Squared Error - MSE)\n",
    "\n",
    "Esse erro é dado pela média da soma dos quadrados das diferenças entre os valores previstos e os valores reais. Nesse caso, quanto menor o valor dessa métrica, melhor será o modelo.\n",
    "\n",
    "- Coeficiente de Determinação (R2)\n",
    "\n",
    "O coeficiente de determinação (R2) é um valor que indica o percentual de variabilidade da variável alvo que pode ser explicado pelo modelo. Um modelo perfeito possui um valor de R2 igual a 1 e um modelo constante, que sempre prevê como saída o valor médio da variável alvo, apresenta um valor de R2 igual a zero. Caso o resultado do modelo seja pior que a previsão pela média, o valor resultante de R2 será negativo.\n",
    "Dessa forma, quanto mais alto o valor de R2 (quanto mais próximo de 1), melhor será o modelo."
   ]
  },
  {
   "cell_type": "markdown",
   "metadata": {},
   "source": [
    "## 5.1 - Geração dos Modelos para Previsão da variável PERMEABILITY  "
   ]
  },
  {
   "cell_type": "markdown",
   "metadata": {},
   "source": [
    "### Separação das variáveis preditoras e da variável alvo"
   ]
  },
  {
   "cell_type": "code",
   "execution_count": 27,
   "metadata": {},
   "outputs": [
    {
     "data": {
      "text/html": [
       "<div>\n",
       "<style scoped>\n",
       "    .dataframe tbody tr th:only-of-type {\n",
       "        vertical-align: middle;\n",
       "    }\n",
       "\n",
       "    .dataframe tbody tr th {\n",
       "        vertical-align: top;\n",
       "    }\n",
       "\n",
       "    .dataframe thead th {\n",
       "        text-align: right;\n",
       "    }\n",
       "</style>\n",
       "<table border=\"1\" class=\"dataframe\">\n",
       "  <thead>\n",
       "    <tr style=\"text-align: right;\">\n",
       "      <th></th>\n",
       "      <th>DEPT</th>\n",
       "      <th>PERMEABILITY</th>\n",
       "      <th>POROSITY</th>\n",
       "      <th>INTENSITY</th>\n",
       "      <th>UCF_D_2.0</th>\n",
       "      <th>UCF_D_3.0</th>\n",
       "    </tr>\n",
       "  </thead>\n",
       "  <tbody>\n",
       "    <tr>\n",
       "      <th>0</th>\n",
       "      <td>3410.438497</td>\n",
       "      <td>240.951645</td>\n",
       "      <td>0.140528</td>\n",
       "      <td>0.002880</td>\n",
       "      <td>0</td>\n",
       "      <td>0</td>\n",
       "    </tr>\n",
       "    <tr>\n",
       "      <th>1</th>\n",
       "      <td>3412.634966</td>\n",
       "      <td>240.951645</td>\n",
       "      <td>0.140528</td>\n",
       "      <td>0.002880</td>\n",
       "      <td>0</td>\n",
       "      <td>0</td>\n",
       "    </tr>\n",
       "    <tr>\n",
       "      <th>2</th>\n",
       "      <td>3412.637165</td>\n",
       "      <td>261.061340</td>\n",
       "      <td>0.204155</td>\n",
       "      <td>0.002619</td>\n",
       "      <td>0</td>\n",
       "      <td>0</td>\n",
       "    </tr>\n",
       "    <tr>\n",
       "      <th>3</th>\n",
       "      <td>3414.831979</td>\n",
       "      <td>261.061340</td>\n",
       "      <td>0.204155</td>\n",
       "      <td>0.002619</td>\n",
       "      <td>0</td>\n",
       "      <td>0</td>\n",
       "    </tr>\n",
       "    <tr>\n",
       "      <th>4</th>\n",
       "      <td>3414.834176</td>\n",
       "      <td>280.989838</td>\n",
       "      <td>0.193558</td>\n",
       "      <td>0.005349</td>\n",
       "      <td>0</td>\n",
       "      <td>0</td>\n",
       "    </tr>\n",
       "  </tbody>\n",
       "</table>\n",
       "</div>"
      ],
      "text/plain": [
       "          DEPT  PERMEABILITY  POROSITY  INTENSITY  UCF_D_2.0  UCF_D_3.0\n",
       "0  3410.438497    240.951645  0.140528   0.002880          0          0\n",
       "1  3412.634966    240.951645  0.140528   0.002880          0          0\n",
       "2  3412.637165    261.061340  0.204155   0.002619          0          0\n",
       "3  3414.831979    261.061340  0.204155   0.002619          0          0\n",
       "4  3414.834176    280.989838  0.193558   0.005349          0          0"
      ]
     },
     "execution_count": 27,
     "metadata": {},
     "output_type": "execute_result"
    }
   ],
   "source": [
    "df.head()"
   ]
  },
  {
   "cell_type": "code",
   "execution_count": 66,
   "metadata": {},
   "outputs": [
    {
     "data": {
      "text/plain": [
       "((162, 5), (162,))"
      ]
     },
     "execution_count": 66,
     "metadata": {},
     "output_type": "execute_result"
    }
   ],
   "source": [
    "colunas_preditoras=['DEPT','POROSITY','INTENSITY','UCF_D_2.0','UCF_D_3.0']\n",
    "X=df[colunas_preditoras]\n",
    "y=df['PERMEABILITY']\n",
    "X.shape, y.shape"
   ]
  },
  {
   "cell_type": "markdown",
   "metadata": {},
   "source": [
    "Como pode ser observado, a variável preditora (X) possui 5 colunas, e a variável alvo apenas 1 (que é o valor a ser predito)."
   ]
  },
  {
   "cell_type": "markdown",
   "metadata": {},
   "source": [
    "### Separação dos dados de teste e de treino"
   ]
  },
  {
   "cell_type": "markdown",
   "metadata": {},
   "source": [
    "A base de dados deve ser dividida, de forma que uma parte dos dados seja utilizado para a geração do modelo e a outra parte seja utilizada para a avaliação do modelo gerado.\n",
    "\n",
    "Sendo assim, o conjunto de dados será dividido de forma que 70% desses dados seja utilizado para a geração do modelo e 30% para a avaliação"
   ]
  },
  {
   "cell_type": "code",
   "execution_count": 67,
   "metadata": {},
   "outputs": [],
   "source": [
    "X_train, X_test, y_train, y_test = train_test_split(X, y, test_size = 0.30, random_state=0)"
   ]
  },
  {
   "cell_type": "code",
   "execution_count": 68,
   "metadata": {},
   "outputs": [
    {
     "data": {
      "text/plain": [
       "((113, 5), (49, 5), (113,), (49,))"
      ]
     },
     "execution_count": 68,
     "metadata": {},
     "output_type": "execute_result"
    }
   ],
   "source": [
    "X_train.shape , X_test.shape, y_train.shape, y_test.shape "
   ]
  },
  {
   "cell_type": "markdown",
   "metadata": {},
   "source": [
    "Como pode ser visto, serão utilizados 113 registros para o treinamento do modelo, e 49 para o teste."
   ]
  },
  {
   "cell_type": "markdown",
   "metadata": {},
   "source": [
    "### Padronização dos dados"
   ]
  },
  {
   "cell_type": "code",
   "execution_count": 69,
   "metadata": {},
   "outputs": [
    {
     "data": {
      "text/html": [
       "<div>\n",
       "<style scoped>\n",
       "    .dataframe tbody tr th:only-of-type {\n",
       "        vertical-align: middle;\n",
       "    }\n",
       "\n",
       "    .dataframe tbody tr th {\n",
       "        vertical-align: top;\n",
       "    }\n",
       "\n",
       "    .dataframe thead th {\n",
       "        text-align: right;\n",
       "    }\n",
       "</style>\n",
       "<table border=\"1\" class=\"dataframe\">\n",
       "  <thead>\n",
       "    <tr style=\"text-align: right;\">\n",
       "      <th></th>\n",
       "      <th>DEPT</th>\n",
       "      <th>POROSITY</th>\n",
       "      <th>INTENSITY</th>\n",
       "      <th>UCF_D_2.0</th>\n",
       "      <th>UCF_D_3.0</th>\n",
       "    </tr>\n",
       "  </thead>\n",
       "  <tbody>\n",
       "    <tr>\n",
       "      <th>87</th>\n",
       "      <td>3502.484302</td>\n",
       "      <td>0.190019</td>\n",
       "      <td>0.002028</td>\n",
       "      <td>1</td>\n",
       "      <td>0</td>\n",
       "    </tr>\n",
       "    <tr>\n",
       "      <th>57</th>\n",
       "      <td>3469.571825</td>\n",
       "      <td>0.211876</td>\n",
       "      <td>0.004536</td>\n",
       "      <td>0</td>\n",
       "      <td>0</td>\n",
       "    </tr>\n",
       "    <tr>\n",
       "      <th>162</th>\n",
       "      <td>3582.642072</td>\n",
       "      <td>0.179122</td>\n",
       "      <td>0.003157</td>\n",
       "      <td>1</td>\n",
       "      <td>0</td>\n",
       "    </tr>\n",
       "    <tr>\n",
       "      <th>20</th>\n",
       "      <td>3430.162337</td>\n",
       "      <td>0.000000</td>\n",
       "      <td>0.004584</td>\n",
       "      <td>0</td>\n",
       "      <td>1</td>\n",
       "    </tr>\n",
       "    <tr>\n",
       "      <th>94</th>\n",
       "      <td>3509.040309</td>\n",
       "      <td>0.108074</td>\n",
       "      <td>0.002421</td>\n",
       "      <td>1</td>\n",
       "      <td>0</td>\n",
       "    </tr>\n",
       "  </tbody>\n",
       "</table>\n",
       "</div>"
      ],
      "text/plain": [
       "            DEPT  POROSITY  INTENSITY  UCF_D_2.0  UCF_D_3.0\n",
       "87   3502.484302  0.190019   0.002028          1          0\n",
       "57   3469.571825  0.211876   0.004536          0          0\n",
       "162  3582.642072  0.179122   0.003157          1          0\n",
       "20   3430.162337  0.000000   0.004584          0          1\n",
       "94   3509.040309  0.108074   0.002421          1          0"
      ]
     },
     "execution_count": 69,
     "metadata": {},
     "output_type": "execute_result"
    }
   ],
   "source": [
    "X_train.head()"
   ]
  },
  {
   "cell_type": "markdown",
   "metadata": {},
   "source": [
    "Conforme pode ser visto na célula acima as variáveis da base de dados possuem ordens de grandeza muito diferentes. \n",
    "- variáveis: UCF_D_2.0 e UCF_D_3.0 -> só apresentam valores zero ou um\n",
    "- variável: DEPT -> apresenta valores em torno de 3410\n",
    "- Variável: POROSITY -> apresenta valores em torno de 0.1, 0,2\n",
    "- variável: INTENSITY -> apresenta valores em torno de 0.002, 0.005\n",
    "\n",
    "Essa diferença de ordem de grandezas é prejudicial, e por isso esses dados devem ser colocados na mesma escala."
   ]
  },
  {
   "cell_type": "code",
   "execution_count": 70,
   "metadata": {},
   "outputs": [],
   "source": [
    "from sklearn.preprocessing import StandardScaler\n",
    "sc = StandardScaler()\n",
    "X_train_scaled = sc.fit_transform(X_train)\n",
    "X_test_scaled = sc.transform(X_test)"
   ]
  },
  {
   "cell_type": "code",
   "execution_count": 71,
   "metadata": {},
   "outputs": [
    {
     "data": {
      "text/plain": [
       "array([[ 0.13812036,  0.60438689, -0.86724014,  1.08308676, -0.4495861 ],\n",
       "       [-0.50432163,  0.87889813,  1.22944523, -0.92328707, -0.4495861 ],\n",
       "       [ 1.70277672,  0.4675314 ,  0.07675584,  1.08308676, -0.4495861 ],\n",
       "       [-1.27358337, -1.78213173,  1.26913778, -0.92328707,  2.22426806],\n",
       "       [ 0.26609171, -0.42479201, -0.53842595,  1.08308676, -0.4495861 ]])"
      ]
     },
     "execution_count": 71,
     "metadata": {},
     "output_type": "execute_result"
    }
   ],
   "source": [
    "X_train_scaled[:5]"
   ]
  },
  {
   "cell_type": "markdown",
   "metadata": {},
   "source": [
    "Como pode ser observado na célula acima, agora todos os valores estão mesma escala, o que é mais apropriado para algoritmos de Aprendizagem de Máquina."
   ]
  },
  {
   "cell_type": "markdown",
   "metadata": {},
   "source": [
    "### Geração dos Modelos"
   ]
  },
  {
   "cell_type": "markdown",
   "metadata": {},
   "source": [
    "Testou-se o conjunto de dados preparado em 5 Algoritmos de aprendizagem de máquina para problemas de regressão distintos."
   ]
  },
  {
   "cell_type": "code",
   "execution_count": 72,
   "metadata": {},
   "outputs": [],
   "source": [
    "from sklearn.linear_model import LinearRegression\n",
    "from sklearn.linear_model import Ridge\n",
    "from sklearn.linear_model import Lasso\n",
    "from sklearn.neighbors import KNeighborsRegressor\n",
    "from sklearn.tree import DecisionTreeRegressor\n",
    "from sklearn.svm import SVR\n"
   ]
  },
  {
   "cell_type": "markdown",
   "metadata": {},
   "source": [
    "#### Regressão Linear Simples"
   ]
  },
  {
   "cell_type": "code",
   "execution_count": 73,
   "metadata": {},
   "outputs": [
    {
     "name": "stdout",
     "output_type": "stream",
     "text": [
      "r2 = 0.8943354680406971 e MSE = 1546.6342577209086\n"
     ]
    }
   ],
   "source": [
    "mdl=LinearRegression()\n",
    "mdl.fit(X_train_scaled, y_train)\n",
    "p=mdl.predict(X_test_scaled)\n",
    "r2=r2_score(y_test, p)\n",
    "mse=mean_squared_error(y_test, p)\n",
    "print(\"r2 = {} e MSE = {}\".format(r2,mse))"
   ]
  },
  {
   "cell_type": "markdown",
   "metadata": {},
   "source": [
    "#### Regressão Ridge"
   ]
  },
  {
   "cell_type": "code",
   "execution_count": 74,
   "metadata": {},
   "outputs": [
    {
     "name": "stdout",
     "output_type": "stream",
     "text": [
      "r2 = 0.8936572938003343 e MSE = 1556.5608385082332\n"
     ]
    }
   ],
   "source": [
    "mdl=Ridge()\n",
    "mdl.fit(X_train_scaled, y_train)\n",
    "p=mdl.predict(X_test_scaled)\n",
    "r2=r2_score(y_test, p)\n",
    "mse=mean_squared_error(y_test, p)\n",
    "print(\"r2 = {} e MSE = {}\".format(r2,mse))"
   ]
  },
  {
   "cell_type": "markdown",
   "metadata": {},
   "source": [
    "#### Regressão Lasso"
   ]
  },
  {
   "cell_type": "code",
   "execution_count": 75,
   "metadata": {},
   "outputs": [
    {
     "name": "stdout",
     "output_type": "stream",
     "text": [
      "r2 = 0.8961453321600551 e MSE = 1520.1428911581231\n"
     ]
    }
   ],
   "source": [
    "mdl=Lasso()\n",
    "mdl.fit(X_train_scaled, y_train)\n",
    "p=mdl.predict(X_test_scaled)\n",
    "r2=r2_score(y_test, p)\n",
    "mse=mean_squared_error(y_test, p)\n",
    "print(\"r2 = {} e MSE = {}\".format(r2,mse))"
   ]
  },
  {
   "cell_type": "markdown",
   "metadata": {},
   "source": [
    "#### KNN Regressor"
   ]
  },
  {
   "cell_type": "code",
   "execution_count": 76,
   "metadata": {},
   "outputs": [
    {
     "name": "stdout",
     "output_type": "stream",
     "text": [
      "r2 = 0.8605764478651554 e MSE = 2040.772225707119\n"
     ]
    }
   ],
   "source": [
    "mdl=KNeighborsRegressor()\n",
    "mdl.fit(X_train_scaled, y_train)\n",
    "p=mdl.predict(X_test_scaled)\n",
    "r2=r2_score(y_test, p)\n",
    "mse=mean_squared_error(y_test, p)\n",
    "print(\"r2 = {} e MSE = {}\".format(r2,mse))"
   ]
  },
  {
   "cell_type": "markdown",
   "metadata": {},
   "source": [
    "#### DecisionTreeRegressor"
   ]
  },
  {
   "cell_type": "code",
   "execution_count": 77,
   "metadata": {},
   "outputs": [
    {
     "name": "stdout",
     "output_type": "stream",
     "text": [
      "r2 = 0.9525700094973327 e MSE = 694.2428721783022\n"
     ]
    }
   ],
   "source": [
    "mdl=DecisionTreeRegressor()\n",
    "mdl.fit(X_train_scaled, y_train)\n",
    "p=mdl.predict(X_test_scaled)\n",
    "r2=r2_score(y_test, p)\n",
    "mse=mean_squared_error(y_test, p)\n",
    "print(\"r2 = {} e MSE = {}\".format(r2,mse))"
   ]
  },
  {
   "cell_type": "markdown",
   "metadata": {},
   "source": [
    "#### Regressor SVM"
   ]
  },
  {
   "cell_type": "code",
   "execution_count": 78,
   "metadata": {},
   "outputs": [
    {
     "name": "stdout",
     "output_type": "stream",
     "text": [
      "r2 = 0.9162123514442686 e MSE = 1226.4176562111259\n"
     ]
    }
   ],
   "source": [
    "mdl=SVR(C = 1000, gamma = 0.1)\n",
    "mdl.fit(X_train_scaled, y_train)\n",
    "p=mdl.predict(X_test_scaled)\n",
    "r2=r2_score(y_test, p)\n",
    "mse=mean_squared_error(y_test, p)\n",
    "print(\"r2 = {} e MSE = {}\".format(r2,mse))"
   ]
  },
  {
   "cell_type": "markdown",
   "metadata": {},
   "source": [
    "#### Gradient Boosting Regressor"
   ]
  },
  {
   "cell_type": "code",
   "execution_count": 79,
   "metadata": {},
   "outputs": [
    {
     "name": "stdout",
     "output_type": "stream",
     "text": [
      "r2 = 0.9518678834644054 e MSE = 704.520040454422\n"
     ]
    }
   ],
   "source": [
    "mdl=GradientBoostingRegressor()\n",
    "mdl.fit(X_train_scaled, y_train)\n",
    "p=mdl.predict(X_test_scaled)\n",
    "r2=r2_score(y_test, p)\n",
    "mse=mean_squared_error(y_test, p)\n",
    "print(\"r2 = {} e MSE = {}\".format(r2,mse))"
   ]
  },
  {
   "cell_type": "markdown",
   "metadata": {},
   "source": [
    "### Otimização de Parâmetros"
   ]
  },
  {
   "cell_type": "code",
   "execution_count": 80,
   "metadata": {},
   "outputs": [
    {
     "data": {
      "text/plain": [
       "GradientBoostingRegressor(alpha=0.9, ccp_alpha=0.0, criterion='friedman_mse',\n",
       "                          init=None, learning_rate=0.1, loss='ls', max_depth=3,\n",
       "                          max_features=None, max_leaf_nodes=None,\n",
       "                          min_impurity_decrease=0.0, min_impurity_split=None,\n",
       "                          min_samples_leaf=1, min_samples_split=2,\n",
       "                          min_weight_fraction_leaf=0.0, n_estimators=100,\n",
       "                          n_iter_no_change=None, presort='deprecated',\n",
       "                          random_state=None, subsample=1.0, tol=0.0001,\n",
       "                          validation_fraction=0.1, verbose=0, warm_start=False)"
      ]
     },
     "execution_count": 80,
     "metadata": {},
     "output_type": "execute_result"
    }
   ],
   "source": [
    "GradientBoostingRegressor()"
   ]
  },
  {
   "cell_type": "code",
   "execution_count": 81,
   "metadata": {},
   "outputs": [
    {
     "data": {
      "text/plain": [
       "GridSearchCV(cv=None, error_score=nan,\n",
       "             estimator=GradientBoostingRegressor(alpha=0.9, ccp_alpha=0.0,\n",
       "                                                 criterion='friedman_mse',\n",
       "                                                 init=None, learning_rate=0.1,\n",
       "                                                 loss='ls', max_depth=3,\n",
       "                                                 max_features=None,\n",
       "                                                 max_leaf_nodes=None,\n",
       "                                                 min_impurity_decrease=0.0,\n",
       "                                                 min_impurity_split=None,\n",
       "                                                 min_samples_leaf=1,\n",
       "                                                 min_samples_split=2,\n",
       "                                                 min_weight_fraction_leaf=0.0,\n",
       "                                                 n_estimators=100,\n",
       "                                                 n_ite...\n",
       "                                                 presort='deprecated',\n",
       "                                                 random_state=None,\n",
       "                                                 subsample=1.0, tol=0.0001,\n",
       "                                                 validation_fraction=0.1,\n",
       "                                                 verbose=0, warm_start=False),\n",
       "             iid='deprecated', n_jobs=None,\n",
       "             param_grid={'learning_rate': [0.02, 0.05], 'max_depth': [1, 2],\n",
       "                         'min_samples_leaf': [5, 10],\n",
       "                         'min_samples_split': [5, 10],\n",
       "                         'n_estimators': [500, 1000]},\n",
       "             pre_dispatch='2*n_jobs', refit=True, return_train_score=False,\n",
       "             scoring=None, verbose=0)"
      ]
     },
     "execution_count": 81,
     "metadata": {},
     "output_type": "execute_result"
    }
   ],
   "source": [
    "from sklearn.model_selection import GridSearchCV\n",
    "from sklearn.ensemble import GradientBoostingRegressor\n",
    "num_estimators = [500,1000]\n",
    "learn_rates = [0.02, 0.05]\n",
    "max_depths = [1, 2]\n",
    "min_samples_leaf = [5,10]\n",
    "min_samples_split = [5,10]\n",
    "\n",
    "param_grid = {'n_estimators': num_estimators,\n",
    "              'learning_rate': learn_rates,\n",
    "              'max_depth': max_depths,\n",
    "              'min_samples_leaf': min_samples_leaf,\n",
    "              'min_samples_split': min_samples_split}\n",
    "\n",
    "gbr=GradientBoostingRegressor()\n",
    "mdl = GridSearchCV(gbr, param_grid)\n",
    "mdl.fit(X_train_scaled, y_train)\n"
   ]
  },
  {
   "cell_type": "code",
   "execution_count": 84,
   "metadata": {},
   "outputs": [
    {
     "name": "stdout",
     "output_type": "stream",
     "text": [
      "r2 = 0.9696071893347065 e MSE = 444.86604248124814\n"
     ]
    }
   ],
   "source": [
    "p=mdl.predict(X_test_scaled)\n",
    "r2=r2_score(y_test, p)\n",
    "mse=mean_squared_error(y_test, p)\n",
    "print(\"r2 = {} e MSE = {}\".format(r2,mse))"
   ]
  },
  {
   "cell_type": "code",
   "execution_count": 85,
   "metadata": {},
   "outputs": [],
   "source": [
    "y_Real_PERMEABILITY=y_test\n",
    "y_Predito_PERMEABILITY=p"
   ]
  },
  {
   "cell_type": "code",
   "execution_count": 86,
   "metadata": {},
   "outputs": [
    {
     "data": {
      "text/plain": [
       "{'learning_rate': 0.05,\n",
       " 'max_depth': 2,\n",
       " 'min_samples_leaf': 5,\n",
       " 'min_samples_split': 5,\n",
       " 'n_estimators': 1000}"
      ]
     },
     "execution_count": 86,
     "metadata": {},
     "output_type": "execute_result"
    }
   ],
   "source": [
    "mdl.best_params_"
   ]
  },
  {
   "cell_type": "markdown",
   "metadata": {},
   "source": [
    "Como pode ser observado, após a otimização houve uma melhora no resultado, sendo assim, esse será o modelo final escolhido para a realização das predições da variável PERMEABILITY."
   ]
  },
  {
   "cell_type": "markdown",
   "metadata": {},
   "source": [
    "## 5.2 - Geração dos Modelos para Previsão da variável POROSITY  "
   ]
  },
  {
   "cell_type": "markdown",
   "metadata": {},
   "source": [
    "### Separação das variáveis preditoras e da variável alvo"
   ]
  },
  {
   "cell_type": "code",
   "execution_count": 46,
   "metadata": {},
   "outputs": [
    {
     "data": {
      "text/plain": [
       "((162, 5), (162,))"
      ]
     },
     "execution_count": 46,
     "metadata": {},
     "output_type": "execute_result"
    }
   ],
   "source": [
    "colunas_preditoras=['DEPT','PERMEABILITY','INTENSITY','UCF_D_2.0','UCF_D_3.0']\n",
    "X=df[colunas_preditoras]\n",
    "y=df['POROSITY']\n",
    "X.shape, y.shape"
   ]
  },
  {
   "cell_type": "markdown",
   "metadata": {},
   "source": [
    "### Separação dos dados de teste e de treino"
   ]
  },
  {
   "cell_type": "code",
   "execution_count": 47,
   "metadata": {},
   "outputs": [],
   "source": [
    "X_train, X_test, y_train, y_test = train_test_split(X, y, test_size = 0.30, random_state=0)"
   ]
  },
  {
   "cell_type": "markdown",
   "metadata": {},
   "source": [
    "### Padronização dos dados"
   ]
  },
  {
   "cell_type": "code",
   "execution_count": 48,
   "metadata": {},
   "outputs": [],
   "source": [
    "from sklearn.preprocessing import StandardScaler\n",
    "sc = StandardScaler()\n",
    "X_train_scaled = sc.fit_transform(X_train)\n",
    "X_test_scaled = sc.transform(X_test)"
   ]
  },
  {
   "cell_type": "markdown",
   "metadata": {},
   "source": [
    "#### Regressão Linear Simples"
   ]
  },
  {
   "cell_type": "code",
   "execution_count": 49,
   "metadata": {},
   "outputs": [
    {
     "name": "stdout",
     "output_type": "stream",
     "text": [
      "r2 = 0.9112316783449137 e MSE = 0.0007959484122641096\n"
     ]
    }
   ],
   "source": [
    "mdl=LinearRegression()\n",
    "mdl.fit(X_train_scaled, y_train)\n",
    "p=mdl.predict(X_test_scaled)\n",
    "r2=r2_score(y_test, p)\n",
    "mse=mean_squared_error(y_test, p)\n",
    "print(\"r2 = {} e MSE = {}\".format(r2,mse))"
   ]
  },
  {
   "cell_type": "code",
   "execution_count": 50,
   "metadata": {},
   "outputs": [
    {
     "data": {
      "text/plain": [
       "0.0007959484122641096"
      ]
     },
     "execution_count": 50,
     "metadata": {},
     "output_type": "execute_result"
    }
   ],
   "source": [
    "mean_squared_error(y_test, p)"
   ]
  },
  {
   "cell_type": "markdown",
   "metadata": {},
   "source": [
    "#### Regressão Ridge"
   ]
  },
  {
   "cell_type": "code",
   "execution_count": 51,
   "metadata": {},
   "outputs": [
    {
     "name": "stdout",
     "output_type": "stream",
     "text": [
      "r2 = 0.9107661443937893 e MSE = 0.0008001226604907707\n"
     ]
    }
   ],
   "source": [
    "mdl=Ridge()\n",
    "mdl.fit(X_train_scaled, y_train)\n",
    "p=mdl.predict(X_test_scaled)\n",
    "r2=r2_score(y_test, p)\n",
    "mse=mean_squared_error(y_test, p)\n",
    "print(\"r2 = {} e MSE = {}\".format(r2,mse))"
   ]
  },
  {
   "cell_type": "markdown",
   "metadata": {},
   "source": [
    "#### Regressão Lasso"
   ]
  },
  {
   "cell_type": "code",
   "execution_count": 52,
   "metadata": {},
   "outputs": [
    {
     "name": "stdout",
     "output_type": "stream",
     "text": [
      "r2 = -0.01065686042346159 e MSE = 0.009062137352596786\n"
     ]
    }
   ],
   "source": [
    "mdl=Lasso()\n",
    "mdl.fit(X_train_scaled, y_train)\n",
    "p=mdl.predict(X_test_scaled)\n",
    "r2=r2_score(y_test, p)\n",
    "mse=mean_squared_error(y_test, p)\n",
    "print(\"r2 = {} e MSE = {}\".format(r2,mse))"
   ]
  },
  {
   "cell_type": "markdown",
   "metadata": {},
   "source": [
    "O resultado da regressão LASSO ficou muito ruim, ficando inclusive pior de que se estivéssemos prevendo todos os valores como a média da variável POROSITY"
   ]
  },
  {
   "cell_type": "markdown",
   "metadata": {},
   "source": [
    "#### KNN Regressor"
   ]
  },
  {
   "cell_type": "code",
   "execution_count": 53,
   "metadata": {},
   "outputs": [
    {
     "name": "stdout",
     "output_type": "stream",
     "text": [
      "r2 = 0.8451925366992816 e MSE = 0.001388093774033644\n"
     ]
    }
   ],
   "source": [
    "mdl=KNeighborsRegressor()\n",
    "mdl.fit(X_train_scaled, y_train)\n",
    "p=mdl.predict(X_test_scaled)\n",
    "r2=r2_score(y_test, p)\n",
    "mse=mean_squared_error(y_test, p)\n",
    "print(\"r2 = {} e MSE = {}\".format(r2,mse))"
   ]
  },
  {
   "cell_type": "markdown",
   "metadata": {},
   "source": [
    "#### DecisionTreeRegressor"
   ]
  },
  {
   "cell_type": "code",
   "execution_count": 54,
   "metadata": {},
   "outputs": [
    {
     "name": "stdout",
     "output_type": "stream",
     "text": [
      "r2 = 0.955803241043231 e MSE = 0.00039629385193906203\n"
     ]
    }
   ],
   "source": [
    "mdl=DecisionTreeRegressor()\n",
    "mdl.fit(X_train_scaled, y_train)\n",
    "p=mdl.predict(X_test_scaled)\n",
    "r2=r2_score(y_test, p)\n",
    "mse=mean_squared_error(y_test, p)\n",
    "print(\"r2 = {} e MSE = {}\".format(r2,mse))"
   ]
  },
  {
   "cell_type": "markdown",
   "metadata": {},
   "source": [
    "#### Regressor SVM"
   ]
  },
  {
   "cell_type": "code",
   "execution_count": 55,
   "metadata": {},
   "outputs": [
    {
     "name": "stdout",
     "output_type": "stream",
     "text": [
      "r2 = 0.4413077227026615 e MSE = 0.005009559973285311\n"
     ]
    }
   ],
   "source": [
    "mdl=SVR(C = 1000, gamma = 0.1)\n",
    "mdl.fit(X_train_scaled, y_train)\n",
    "p=mdl.predict(X_test_scaled)\n",
    "r2=r2_score(y_test, p)\n",
    "mse=mean_squared_error(y_test, p)\n",
    "print(\"r2 = {} e MSE = {}\".format(r2,mse))"
   ]
  },
  {
   "cell_type": "code",
   "execution_count": 56,
   "metadata": {},
   "outputs": [
    {
     "name": "stdout",
     "output_type": "stream",
     "text": [
      "r2 = 0.6730290170046015 e MSE = 0.0029318120464510377\n"
     ]
    }
   ],
   "source": [
    "mdl=SVR(kernel='sigmoid' ,C = 1000, gamma = 'scale')\n",
    "mdl.fit(X_train_scaled, y_train)\n",
    "p=mdl.predict(X_test_scaled)\n",
    "r2=r2_score(y_test, p)\n",
    "mse=mean_squared_error(y_test, p)\n",
    "print(\"r2 = {} e MSE = {}\".format(r2,mse))"
   ]
  },
  {
   "cell_type": "markdown",
   "metadata": {},
   "source": [
    "Percebeu-se que o resultado obtido com o pelo repressor SVM ficou bem abaixo de outros modelos. Após a alteração de alguns parâmetros conseguiu-se melhorar um pouco o resultado."
   ]
  },
  {
   "cell_type": "markdown",
   "metadata": {},
   "source": [
    "#### Gradient Boosting Regressor"
   ]
  },
  {
   "cell_type": "code",
   "execution_count": 62,
   "metadata": {},
   "outputs": [
    {
     "name": "stdout",
     "output_type": "stream",
     "text": [
      "r2 = 0.9686275186203506 e MSE = 0.0002813039187554189\n"
     ]
    }
   ],
   "source": [
    "mdl=GradientBoostingRegressor()\n",
    "mdl.fit(X_train, y_train)\n",
    "p=mdl.predict(X_test)\n",
    "r2=r2_score(y_test, p)\n",
    "mse=mean_squared_error(y_test, p)\n",
    "print(\"r2 = {} e MSE = {}\".format(r2,mse))"
   ]
  },
  {
   "cell_type": "code",
   "execution_count": 64,
   "metadata": {},
   "outputs": [],
   "source": [
    "y_Real_POROSITY=y_test\n",
    "y_Predito_POROSITY=p"
   ]
  },
  {
   "cell_type": "markdown",
   "metadata": {},
   "source": [
    "Novamente, o algoritmo que apresentou melhor resultado foi Gradient Boosting Regressor. Dessa Forma, o próximo passo será a busca de parâmetros, a fim de se tentar um resultado ainda melhor."
   ]
  },
  {
   "cell_type": "markdown",
   "metadata": {},
   "source": [
    "### Otimização de Parâmetros"
   ]
  },
  {
   "cell_type": "code",
   "execution_count": 59,
   "metadata": {},
   "outputs": [
    {
     "data": {
      "text/plain": [
       "GridSearchCV(cv=None, error_score=nan,\n",
       "             estimator=GradientBoostingRegressor(alpha=0.9, ccp_alpha=0.0,\n",
       "                                                 criterion='friedman_mse',\n",
       "                                                 init=None, learning_rate=0.1,\n",
       "                                                 loss='ls', max_depth=3,\n",
       "                                                 max_features=None,\n",
       "                                                 max_leaf_nodes=None,\n",
       "                                                 min_impurity_decrease=0.0,\n",
       "                                                 min_impurity_split=None,\n",
       "                                                 min_samples_leaf=1,\n",
       "                                                 min_samples_split=2,\n",
       "                                                 min_weight_fraction_leaf=0.0,\n",
       "                                                 n_estimators=100,\n",
       "                                                 n_ite...\n",
       "                                                 presort='deprecated',\n",
       "                                                 random_state=None,\n",
       "                                                 subsample=1.0, tol=0.0001,\n",
       "                                                 validation_fraction=0.1,\n",
       "                                                 verbose=0, warm_start=False),\n",
       "             iid='deprecated', n_jobs=None,\n",
       "             param_grid={'learning_rate': [0.02, 0.05], 'max_depth': [1, 2],\n",
       "                         'min_samples_leaf': [5, 10],\n",
       "                         'min_samples_split': [5, 10],\n",
       "                         'n_estimators': [500, 1000]},\n",
       "             pre_dispatch='2*n_jobs', refit=True, return_train_score=False,\n",
       "             scoring=None, verbose=0)"
      ]
     },
     "execution_count": 59,
     "metadata": {},
     "output_type": "execute_result"
    }
   ],
   "source": [
    "num_estimators = [500,1000]\n",
    "learn_rates = [0.02, 0.05]\n",
    "max_depths = [1, 2]\n",
    "min_samples_leaf = [5,10]\n",
    "min_samples_split = [5,10]\n",
    "\n",
    "param_grid = {'n_estimators': num_estimators,\n",
    "              'learning_rate': learn_rates,\n",
    "              'max_depth': max_depths,\n",
    "              'min_samples_leaf': min_samples_leaf,\n",
    "              'min_samples_split': min_samples_split}\n",
    "\n",
    "gbr=GradientBoostingRegressor()\n",
    "mdl = GridSearchCV(gbr, param_grid)\n",
    "mdl.fit(X_train_scaled, y_train)\n"
   ]
  },
  {
   "cell_type": "code",
   "execution_count": 60,
   "metadata": {},
   "outputs": [
    {
     "name": "stdout",
     "output_type": "stream",
     "text": [
      "r2 = 0.9427232282991602 e MSE = 0.0005135768554016032\n"
     ]
    }
   ],
   "source": [
    "p=mdl.predict(X_test_scaled)\n",
    "r2=r2_score(y_test, p)\n",
    "mse=mean_squared_error(y_test, p)\n",
    "print(\"r2 = {} e MSE = {}\".format(r2,mse))"
   ]
  },
  {
   "cell_type": "code",
   "execution_count": 61,
   "metadata": {},
   "outputs": [
    {
     "data": {
      "text/plain": [
       "{'learning_rate': 0.05,\n",
       " 'max_depth': 2,\n",
       " 'min_samples_leaf': 10,\n",
       " 'min_samples_split': 5,\n",
       " 'n_estimators': 1000}"
      ]
     },
     "execution_count": 61,
     "metadata": {},
     "output_type": "execute_result"
    }
   ],
   "source": [
    "mdl.best_params_"
   ]
  },
  {
   "cell_type": "markdown",
   "metadata": {},
   "source": [
    "Apesar dos testes realizados, não se consegui melhorar os resultados com o processo de otimização. Sendo assim, o modelo escolhido para a realização das predições da variável POROSITY foi o primeiro modelo gerado com o GradientBoostingRegressor."
   ]
  },
  {
   "cell_type": "markdown",
   "metadata": {},
   "source": [
    "# 6 - Análise dos Resultados"
   ]
  },
  {
   "cell_type": "markdown",
   "metadata": {},
   "source": [
    "O algoritmo Gradient Boosting Regressor foi o que obteve melhores resultados, tanto para a previsão da variável PERMEABILITY quanto para a variável POROSITY.\n",
    "\n",
    "Em ambos os casos, conseguiu-se obter excelentes resultados\n",
    "- PERMEABILITY -> r2 = 0.9696071893347064 e MSE = 444.86604248124826\n",
    "- POROSITY -> r2 = 0.9687940234800001 e MSE = 0.0002798109393208495\n",
    "\n",
    "O MSE ficou bem diferente porque essa métrica é sensível ao valor que está sendo predito. No entanto, com relação ao coeficiente de determinação (R2), que mede o percentual de variabilidade total que é explicada pelo modelo, ambos os modelos apresentaram valores bem semelhantes, e bem próximo da perfeição (visto que, um modelo perfeito chegaria a um valor de R2=1).\n",
    "\n",
    "Cabe ressaltar que esses tipos de resultados, tão bons, não são muito comuns. Dessa forma, tais resultados devem ser vistos com certo tipo de desconfiança. No entanto, uma explicação para a performance tão boa para os classificadores gerados pode ser dada pelo fato dos dados utilizados terem sido gerados de forma sintética, o que de alguma forma obedece a alguma regra de geração e não está tão sujeito as aleatoriedades e circunstâncias presentes na natureza.\n",
    "\n",
    "Sendo assim, caso se utilizou o mesmo processo de geração dos modelos para dados coletados de poços de petróleo reais, é bem provável que os resultados não sejam tão bons quanto este, pois via de regra, independente do modelo a ser utilizado, geralmente os dados não conseguem explicar tão bem as variabilidade da variável alvo, até porque, essa variável alvo também pode ser influenciada por outras variáveis que não estão na base de dados, sem contar que o próprio processo de coleta desses dados também está sujeito a erros.\n"
   ]
  },
  {
   "cell_type": "markdown",
   "metadata": {},
   "source": [
    "# Gráficos"
   ]
  },
  {
   "cell_type": "markdown",
   "metadata": {},
   "source": [
    "Abaixo um gráfico que faz a comparação entre os valores reais (Eixo X) e os valores preditos (Eixo Y), para os melhores modelos de cada uma das predições feitas (PERMEABILITY e POROSITY). Quanto mais próximo os pontos extiverem da linha preta, melhot será o modelo "
   ]
  },
  {
   "cell_type": "code",
   "execution_count": 87,
   "metadata": {},
   "outputs": [
    {
     "data": {
      "image/png": "[encoded data removed]",
      "text/plain": [
       "<Figure size 432x288 with 1 Axes>"
      ]
     },
     "metadata": {
      "needs_background": "light"
     },
     "output_type": "display_data"
    }
   ],
   "source": [
    "y=y_test\n",
    "fig, ax = plt.subplots()\n",
    "ax.scatter(y_Real_PERMEABILITY, y_Predito_PERMEABILITY)\n",
    "ax.plot([y_Real_PERMEABILITY.min(), y_Real_PERMEABILITY.max()], [y_Real_PERMEABILITY.min(), y_Real_PERMEABILITY.max()], 'k--', lw=2)\n",
    "\n",
    "ax.set_title('Predição da Variávels PERMEABILITY')\n",
    "ax.set_xlabel('Valores Reais')\n",
    "ax.set_ylabel('Valores Preditos')\n",
    "plt.show()"
   ]
  },
  {
   "cell_type": "code",
   "execution_count": 65,
   "metadata": {},
   "outputs": [
    {
     "data": {
      "image/png": "[encoded data removed]",
      "text/plain": [
       "<Figure size 432x288 with 1 Axes>"
      ]
     },
     "metadata": {
      "needs_background": "light"
     },
     "output_type": "display_data"
    }
   ],
   "source": [
    "fig, ax = plt.subplots()\n",
    "ax.scatter(y_Real_POROSITY, y_Predito_POROSITY)\n",
    "ax.plot([y_Real_POROSITY.min(), y_Real_POROSITY.max()], [y_Real_POROSITY.min(), y_Real_POROSITY.max()], 'k--', lw=2)\n",
    "\n",
    "ax.set_title('Predição da Variávels POROSITY')\n",
    "ax.set_xlabel('Valores Reais')\n",
    "ax.set_ylabel('Valores Preditos')\n",
    "plt.show()"
   ]
  }
 ],
 "metadata": {
  "kernelspec": {
   "display_name": "Python 3",
   "language": "python",
   "name": "python3"
  },
  "language_info": {
   "codemirror_mode": {
    "name": "ipython",
    "version": 3
   },
   "file_extension": ".py",
   "mimetype": "text/x-python",
   "name": "python",
   "nbconvert_exporter": "python",
   "pygments_lexer": "ipython3",
   "version": "3.7.6"
  }
 },
 "nbformat": 4,
 "nbformat_minor": 4
}
