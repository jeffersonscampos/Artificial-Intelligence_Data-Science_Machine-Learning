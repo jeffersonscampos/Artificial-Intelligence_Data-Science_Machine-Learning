{
  "nbformat": 4,
  "nbformat_minor": 0,
  "metadata": {
    "kernelspec": {
      "display_name": "Python 3",
      "language": "python",
      "name": "python3"
    },
    "language_info": {
      "codemirror_mode": {
        "name": "ipython",
        "version": 3
      },
      "file_extension": ".py",
      "mimetype": "text/x-python",
      "name": "python",
      "nbconvert_exporter": "python",
      "pygments_lexer": "ipython3",
      "version": "3.7.6"
    },
    "colab": {
      "name": "ML_Pocos_Petroleo_Interpolacao.ipynb",
      "provenance": [],
      "collapsed_sections": [],
      "toc_visible": true,
      "include_colab_link": true
    }
  },
  "cells": [
    {
      "cell_type": "markdown",
      "metadata": {
        "id": "view-in-github",
        "colab_type": "text"
      },
      "source": [
        "<a href=\"https://colab.research.google.com/github/jeffersonscampos/Artificial-Intelligence_Data-Science_Machine-Learning/blob/master/ML_Pocos_Petroleo_Interpolacao.ipynb\" target=\"_parent\"><img src=\"https://colab.research.google.com/assets/colab-badge.svg\" alt=\"Open In Colab\"/></a>"
      ]
    },
    {
      "cell_type": "markdown",
      "metadata": {
        "id": "4JedbVhMTLhQ",
        "colab_type": "text"
      },
      "source": [
        "# <center>Previsão em Poços de petróleo</center>"
      ]
    },
    {
      "cell_type": "code",
      "metadata": {
        "id": "psmfjblvTLhn",
        "colab_type": "code",
        "outputId": "809b4059-6aca-4115-9521-f041c0848a21",
        "colab": {
          "base_uri": "https://localhost:8080/",
          "height": 54
        }
      },
      "source": [
        "!pip install lasio"
      ],
      "execution_count": 0,
      "outputs": [
        {
          "output_type": "stream",
          "text": [
            "Requirement already satisfied: lasio in /usr/local/lib/python3.6/dist-packages (0.25.1)\n",
            "Requirement already satisfied: numpy in /usr/local/lib/python3.6/dist-packages (from lasio) (1.18.5)\n"
          ],
          "name": "stdout"
        }
      ]
    },
    {
      "cell_type": "markdown",
      "metadata": {
        "id": "dmcp2u5KTLi7",
        "colab_type": "text"
      },
      "source": [
        "## 1 - Definição do Problema"
      ]
    },
    {
      "cell_type": "markdown",
      "metadata": {
        "id": "4kfMWW4nTLja",
        "colab_type": "text"
      },
      "source": [
        "Esse projeto tem o objetivo de fazer a previsão de variáveis a partir de dados de poços de petróleo.\n",
        "\n",
        "Os dados utilizados nesse projeto foram gerados de forma sintética pelo LAS - UNICAMP\n",
        "\n",
        "O Problema a ser tratado pode ser dividido em 2 sub problemas\n",
        "- Previsão da variável PERMEABILITY, a partir das demais variáveis da base de dados\n",
        "- Previsão da variável POROSITY, a partir das demais variáveis da base de dados\n",
        "\n",
        "Em ambos os casos, os problemas devem ser tratados como problemas de regressão, pois ambas as variáveis a serem preditas são variáveis contínuas.\n"
      ]
    },
    {
      "cell_type": "markdown",
      "metadata": {
        "id": "d9jS8Ro-TLjr",
        "colab_type": "text"
      },
      "source": [
        "## 2 - Carga dos Dados"
      ]
    },
    {
      "cell_type": "code",
      "metadata": {
        "id": "ARrn_6baTLj0",
        "colab_type": "code",
        "colab": {}
      },
      "source": [
        "# imports\n",
        "import numpy as np \n",
        "import pandas as pd\n",
        "import lasio #biblioteca utilizada para a leitura dos dados\n",
        "\n",
        "import seaborn as sns\n",
        "import matplotlib.pyplot as plt\n",
        "\n",
        "from sklearn.svm import SVR\n",
        "from sklearn.linear_model import LinearRegression\n",
        "from sklearn.ensemble import RandomForestRegressor, GradientBoostingRegressor\n",
        "from sklearn.neighbors import KNeighborsRegressor\n",
        "\n",
        "from sklearn.model_selection import train_test_split\n",
        "\n",
        "from sklearn.metrics import r2_score, mean_squared_error"
      ],
      "execution_count": 0,
      "outputs": []
    },
    {
      "cell_type": "code",
      "metadata": {
        "id": "B2L60WoETLks",
        "colab_type": "code",
        "outputId": "298a3274-476e-4d91-e86f-7539b46b7d41",
        "colab": {
          "base_uri": "https://localhost:8080/",
          "height": 206
        }
      },
      "source": [
        "# os dados são lidos e carregados em um Dataframe chamado df\n",
        "las1 = lasio.read('dados/inj_1')\n",
        "df = pd.DataFrame(las1.data, columns = las1.keys())\n",
        "df.head()"
      ],
      "execution_count": 0,
      "outputs": [
        {
          "output_type": "execute_result",
          "data": {
            "text/html": [
              "<div>\n",
              "<style scoped>\n",
              "    .dataframe tbody tr th:only-of-type {\n",
              "        vertical-align: middle;\n",
              "    }\n",
              "\n",
              "    .dataframe tbody tr th {\n",
              "        vertical-align: top;\n",
              "    }\n",
              "\n",
              "    .dataframe thead th {\n",
              "        text-align: right;\n",
              "    }\n",
              "</style>\n",
              "<table border=\"1\" class=\"dataframe\">\n",
              "  <thead>\n",
              "    <tr style=\"text-align: right;\">\n",
              "      <th></th>\n",
              "      <th>DEPT</th>\n",
              "      <th>ESTIMATEDLOG</th>\n",
              "      <th>PERMEABILITY</th>\n",
              "      <th>POROSITY</th>\n",
              "      <th>UCF_D</th>\n",
              "      <th>PERMEABILITY_Z</th>\n",
              "      <th>INTENSITY</th>\n",
              "    </tr>\n",
              "  </thead>\n",
              "  <tbody>\n",
              "    <tr>\n",
              "      <th>0</th>\n",
              "      <td>3410.438497</td>\n",
              "      <td>NaN</td>\n",
              "      <td>240.951645</td>\n",
              "      <td>0.140528</td>\n",
              "      <td>1.0</td>\n",
              "      <td>9.638065</td>\n",
              "      <td>0.002880</td>\n",
              "    </tr>\n",
              "    <tr>\n",
              "      <th>1</th>\n",
              "      <td>3412.634966</td>\n",
              "      <td>NaN</td>\n",
              "      <td>240.951645</td>\n",
              "      <td>0.140528</td>\n",
              "      <td>1.0</td>\n",
              "      <td>9.638065</td>\n",
              "      <td>0.002880</td>\n",
              "    </tr>\n",
              "    <tr>\n",
              "      <th>2</th>\n",
              "      <td>3412.637165</td>\n",
              "      <td>NaN</td>\n",
              "      <td>261.061340</td>\n",
              "      <td>0.204155</td>\n",
              "      <td>1.0</td>\n",
              "      <td>10.442453</td>\n",
              "      <td>0.002619</td>\n",
              "    </tr>\n",
              "    <tr>\n",
              "      <th>3</th>\n",
              "      <td>3414.831979</td>\n",
              "      <td>NaN</td>\n",
              "      <td>261.061340</td>\n",
              "      <td>0.204155</td>\n",
              "      <td>1.0</td>\n",
              "      <td>10.442453</td>\n",
              "      <td>0.002619</td>\n",
              "    </tr>\n",
              "    <tr>\n",
              "      <th>4</th>\n",
              "      <td>3414.834176</td>\n",
              "      <td>NaN</td>\n",
              "      <td>280.989838</td>\n",
              "      <td>0.193558</td>\n",
              "      <td>1.0</td>\n",
              "      <td>11.239594</td>\n",
              "      <td>0.005349</td>\n",
              "    </tr>\n",
              "  </tbody>\n",
              "</table>\n",
              "</div>"
            ],
            "text/plain": [
              "          DEPT  ESTIMATEDLOG  PERMEABILITY  ...  UCF_D  PERMEABILITY_Z  INTENSITY\n",
              "0  3410.438497           NaN    240.951645  ...    1.0        9.638065   0.002880\n",
              "1  3412.634966           NaN    240.951645  ...    1.0        9.638065   0.002880\n",
              "2  3412.637165           NaN    261.061340  ...    1.0       10.442453   0.002619\n",
              "3  3414.831979           NaN    261.061340  ...    1.0       10.442453   0.002619\n",
              "4  3414.834176           NaN    280.989838  ...    1.0       11.239594   0.005349\n",
              "\n",
              "[5 rows x 7 columns]"
            ]
          },
          "metadata": {
            "tags": []
          },
          "execution_count": 347
        }
      ]
    },
    {
      "cell_type": "markdown",
      "metadata": {
        "id": "QjmdJXVZTLlz",
        "colab_type": "text"
      },
      "source": [
        "## 3 - Análise Exploratória dos dados"
      ]
    },
    {
      "cell_type": "code",
      "metadata": {
        "id": "H_FZ52mcUMAr",
        "colab_type": "code",
        "outputId": "92f695c1-1150-435c-f205-0294e1ca7cfa",
        "colab": {
          "base_uri": "https://localhost:8080/",
          "height": 55
        }
      },
      "source": [
        "from google.colab import drive\n",
        "drive.mount('/content/drive')"
      ],
      "execution_count": 0,
      "outputs": [
        {
          "output_type": "stream",
          "text": [
            "Drive already mounted at /content/drive; to attempt to forcibly remount, call drive.mount(\"/content/drive\", force_remount=True).\n"
          ],
          "name": "stdout"
        }
      ]
    },
    {
      "cell_type": "code",
      "metadata": {
        "id": "thy1rhbkTLmG",
        "colab_type": "code",
        "outputId": "76b5f558-eeb2-45d0-ab8a-d6cea9e7323f",
        "colab": {
          "base_uri": "https://localhost:8080/",
          "height": 35
        }
      },
      "source": [
        "df.shape"
      ],
      "execution_count": 0,
      "outputs": [
        {
          "output_type": "execute_result",
          "data": {
            "text/plain": [
              "(165, 7)"
            ]
          },
          "metadata": {
            "tags": []
          },
          "execution_count": 349
        }
      ]
    },
    {
      "cell_type": "markdown",
      "metadata": {
        "id": "BO355KWKTLnR",
        "colab_type": "text"
      },
      "source": [
        "A base de dados possui 165 registros e 7 colunas."
      ]
    },
    {
      "cell_type": "code",
      "metadata": {
        "id": "AVEfIU5tTLnj",
        "colab_type": "code",
        "outputId": "2b57d5da-1d80-47a2-ddb3-43a356d9d9bd",
        "colab": {
          "base_uri": "https://localhost:8080/",
          "height": 164
        }
      },
      "source": [
        "# Tipos de Dados\n",
        "df.dtypes"
      ],
      "execution_count": 0,
      "outputs": [
        {
          "output_type": "execute_result",
          "data": {
            "text/plain": [
              "DEPT              float64\n",
              "ESTIMATEDLOG      float64\n",
              "PERMEABILITY      float64\n",
              "POROSITY          float64\n",
              "UCF_D             float64\n",
              "PERMEABILITY_Z    float64\n",
              "INTENSITY         float64\n",
              "dtype: object"
            ]
          },
          "metadata": {
            "tags": []
          },
          "execution_count": 350
        }
      ]
    },
    {
      "cell_type": "markdown",
      "metadata": {
        "id": "Qcka6CUWTLo9",
        "colab_type": "text"
      },
      "source": [
        "Todos os valores são do tipo float"
      ]
    },
    {
      "cell_type": "code",
      "metadata": {
        "id": "i0q4T7m_TLpJ",
        "colab_type": "code",
        "outputId": "cceb5edb-1fcc-4333-a1a8-87abb72d1b47",
        "colab": {
          "base_uri": "https://localhost:8080/",
          "height": 164
        }
      },
      "source": [
        "# Verificando valores missing\n",
        "print(df.isna().sum())"
      ],
      "execution_count": 0,
      "outputs": [
        {
          "output_type": "stream",
          "text": [
            "DEPT                0\n",
            "ESTIMATEDLOG      165\n",
            "PERMEABILITY        1\n",
            "POROSITY            1\n",
            "UCF_D               1\n",
            "PERMEABILITY_Z      1\n",
            "INTENSITY           1\n",
            "dtype: int64\n"
          ],
          "name": "stdout"
        }
      ]
    },
    {
      "cell_type": "markdown",
      "metadata": {
        "id": "IVQ-VH1dTLqN",
        "colab_type": "text"
      },
      "source": [
        "Analisando-se a existência de valores faltantes, chegou-se as seguintes conclusões:\n",
        "- A Coluna \"DEPT\" não possui nenhum valor faltante.\n",
        "- As colunas \"PERMEABILITY\", \"POROSITY\", \"UCF_D\", \"PERMEABILITY_Z\" e \"INTENSITY\" possuem apenas 1 valor faltante.\n",
        "- A coluna \"ESTIMATEDLOG\" possui todos os valores faltantes, logo, tal coluna deve ser eliminada, pois ela não irá trazer nenhum ganho para o processo.."
      ]
    },
    {
      "cell_type": "code",
      "metadata": {
        "id": "MN0eYnO4TLqZ",
        "colab_type": "code",
        "outputId": "05e98f90-6ccc-4fbc-f718-0898cb490ba4",
        "colab": {
          "base_uri": "https://localhost:8080/",
          "height": 206
        }
      },
      "source": [
        "#retiranda da variável ESTIMATEDLOG da base de dados\n",
        "df.drop('ESTIMATEDLOG', axis=1, inplace=True)\n",
        "df.head()"
      ],
      "execution_count": 0,
      "outputs": [
        {
          "output_type": "execute_result",
          "data": {
            "text/html": [
              "<div>\n",
              "<style scoped>\n",
              "    .dataframe tbody tr th:only-of-type {\n",
              "        vertical-align: middle;\n",
              "    }\n",
              "\n",
              "    .dataframe tbody tr th {\n",
              "        vertical-align: top;\n",
              "    }\n",
              "\n",
              "    .dataframe thead th {\n",
              "        text-align: right;\n",
              "    }\n",
              "</style>\n",
              "<table border=\"1\" class=\"dataframe\">\n",
              "  <thead>\n",
              "    <tr style=\"text-align: right;\">\n",
              "      <th></th>\n",
              "      <th>DEPT</th>\n",
              "      <th>PERMEABILITY</th>\n",
              "      <th>POROSITY</th>\n",
              "      <th>UCF_D</th>\n",
              "      <th>PERMEABILITY_Z</th>\n",
              "      <th>INTENSITY</th>\n",
              "    </tr>\n",
              "  </thead>\n",
              "  <tbody>\n",
              "    <tr>\n",
              "      <th>0</th>\n",
              "      <td>3410.438497</td>\n",
              "      <td>240.951645</td>\n",
              "      <td>0.140528</td>\n",
              "      <td>1.0</td>\n",
              "      <td>9.638065</td>\n",
              "      <td>0.002880</td>\n",
              "    </tr>\n",
              "    <tr>\n",
              "      <th>1</th>\n",
              "      <td>3412.634966</td>\n",
              "      <td>240.951645</td>\n",
              "      <td>0.140528</td>\n",
              "      <td>1.0</td>\n",
              "      <td>9.638065</td>\n",
              "      <td>0.002880</td>\n",
              "    </tr>\n",
              "    <tr>\n",
              "      <th>2</th>\n",
              "      <td>3412.637165</td>\n",
              "      <td>261.061340</td>\n",
              "      <td>0.204155</td>\n",
              "      <td>1.0</td>\n",
              "      <td>10.442453</td>\n",
              "      <td>0.002619</td>\n",
              "    </tr>\n",
              "    <tr>\n",
              "      <th>3</th>\n",
              "      <td>3414.831979</td>\n",
              "      <td>261.061340</td>\n",
              "      <td>0.204155</td>\n",
              "      <td>1.0</td>\n",
              "      <td>10.442453</td>\n",
              "      <td>0.002619</td>\n",
              "    </tr>\n",
              "    <tr>\n",
              "      <th>4</th>\n",
              "      <td>3414.834176</td>\n",
              "      <td>280.989838</td>\n",
              "      <td>0.193558</td>\n",
              "      <td>1.0</td>\n",
              "      <td>11.239594</td>\n",
              "      <td>0.005349</td>\n",
              "    </tr>\n",
              "  </tbody>\n",
              "</table>\n",
              "</div>"
            ],
            "text/plain": [
              "          DEPT  PERMEABILITY  POROSITY  UCF_D  PERMEABILITY_Z  INTENSITY\n",
              "0  3410.438497    240.951645  0.140528    1.0        9.638065   0.002880\n",
              "1  3412.634966    240.951645  0.140528    1.0        9.638065   0.002880\n",
              "2  3412.637165    261.061340  0.204155    1.0       10.442453   0.002619\n",
              "3  3414.831979    261.061340  0.204155    1.0       10.442453   0.002619\n",
              "4  3414.834176    280.989838  0.193558    1.0       11.239594   0.005349"
            ]
          },
          "metadata": {
            "tags": []
          },
          "execution_count": 352
        }
      ]
    },
    {
      "cell_type": "markdown",
      "metadata": {
        "id": "TQNUbsSPTLrV",
        "colab_type": "text"
      },
      "source": [
        "Verificação dos demais casos de valores nulos"
      ]
    },
    {
      "cell_type": "code",
      "metadata": {
        "id": "o9BUMEmcTLrh",
        "colab_type": "code",
        "outputId": "533d605c-f8d5-4b58-f580-ab73f4cb255a",
        "colab": {
          "base_uri": "https://localhost:8080/",
          "height": 81
        }
      },
      "source": [
        "df[df.PERMEABILITY.isnull()]"
      ],
      "execution_count": 0,
      "outputs": [
        {
          "output_type": "execute_result",
          "data": {
            "text/html": [
              "<div>\n",
              "<style scoped>\n",
              "    .dataframe tbody tr th:only-of-type {\n",
              "        vertical-align: middle;\n",
              "    }\n",
              "\n",
              "    .dataframe tbody tr th {\n",
              "        vertical-align: top;\n",
              "    }\n",
              "\n",
              "    .dataframe thead th {\n",
              "        text-align: right;\n",
              "    }\n",
              "</style>\n",
              "<table border=\"1\" class=\"dataframe\">\n",
              "  <thead>\n",
              "    <tr style=\"text-align: right;\">\n",
              "      <th></th>\n",
              "      <th>DEPT</th>\n",
              "      <th>PERMEABILITY</th>\n",
              "      <th>POROSITY</th>\n",
              "      <th>UCF_D</th>\n",
              "      <th>PERMEABILITY_Z</th>\n",
              "      <th>INTENSITY</th>\n",
              "    </tr>\n",
              "  </thead>\n",
              "  <tbody>\n",
              "    <tr>\n",
              "      <th>164</th>\n",
              "      <td>3584.78945</td>\n",
              "      <td>NaN</td>\n",
              "      <td>NaN</td>\n",
              "      <td>NaN</td>\n",
              "      <td>NaN</td>\n",
              "      <td>NaN</td>\n",
              "    </tr>\n",
              "  </tbody>\n",
              "</table>\n",
              "</div>"
            ],
            "text/plain": [
              "           DEPT  PERMEABILITY  POROSITY  UCF_D  PERMEABILITY_Z  INTENSITY\n",
              "164  3584.78945           NaN       NaN    NaN             NaN        NaN"
            ]
          },
          "metadata": {
            "tags": []
          },
          "execution_count": 353
        }
      ]
    },
    {
      "cell_type": "markdown",
      "metadata": {
        "id": "x5qcwTQETLsi",
        "colab_type": "text"
      },
      "source": [
        "percebe-se que todos os demais valores nulos estão na mesma linha, logo, esse registro também deve ser eliminado. "
      ]
    },
    {
      "cell_type": "code",
      "metadata": {
        "id": "OH084K1VTLsp",
        "colab_type": "code",
        "colab": {}
      },
      "source": [
        "df=df[~df.PERMEABILITY.isnull()]"
      ],
      "execution_count": 0,
      "outputs": []
    },
    {
      "cell_type": "code",
      "metadata": {
        "id": "IYKG4VYXTLtj",
        "colab_type": "code",
        "outputId": "e09049aa-583d-4793-c011-42a1a666a2a9",
        "colab": {
          "base_uri": "https://localhost:8080/",
          "height": 146
        }
      },
      "source": [
        "# Verificando valores missing\n",
        "print(df.isna().sum())"
      ],
      "execution_count": 0,
      "outputs": [
        {
          "output_type": "stream",
          "text": [
            "DEPT              0\n",
            "PERMEABILITY      0\n",
            "POROSITY          0\n",
            "UCF_D             0\n",
            "PERMEABILITY_Z    0\n",
            "INTENSITY         0\n",
            "dtype: int64\n"
          ],
          "name": "stdout"
        }
      ]
    },
    {
      "cell_type": "code",
      "metadata": {
        "id": "Tnix3OE_TLuc",
        "colab_type": "code",
        "outputId": "86afe3a9-6333-4a62-c23b-61ce952b4a85",
        "colab": {
          "base_uri": "https://localhost:8080/",
          "height": 35
        }
      },
      "source": [
        "df.shape"
      ],
      "execution_count": 0,
      "outputs": [
        {
          "output_type": "execute_result",
          "data": {
            "text/plain": [
              "(164, 6)"
            ]
          },
          "metadata": {
            "tags": []
          },
          "execution_count": 356
        }
      ]
    },
    {
      "cell_type": "markdown",
      "metadata": {
        "id": "sCQFQ29dTLv5",
        "colab_type": "text"
      },
      "source": [
        "Após os tratamentos, a base ficou sem nenhum valor faltante e passou a ter 164 linha e 6 colunas."
      ]
    },
    {
      "cell_type": "code",
      "metadata": {
        "id": "4UmR3dG3TLwI",
        "colab_type": "code",
        "outputId": "11b56542-4b07-4a1c-cf14-fc48fbb71a3e",
        "colab": {
          "base_uri": "https://localhost:8080/",
          "height": 146
        }
      },
      "source": [
        "# Verificando Valores Únicos\n",
        "df.nunique()"
      ],
      "execution_count": 0,
      "outputs": [
        {
          "output_type": "execute_result",
          "data": {
            "text/plain": [
              "DEPT              164\n",
              "PERMEABILITY       67\n",
              "POROSITY           67\n",
              "UCF_D               4\n",
              "PERMEABILITY_Z     67\n",
              "INTENSITY          82\n",
              "dtype: int64"
            ]
          },
          "metadata": {
            "tags": []
          },
          "execution_count": 357
        }
      ]
    },
    {
      "cell_type": "markdown",
      "metadata": {
        "id": "o3JOEL_oTLw_",
        "colab_type": "text"
      },
      "source": [
        "Apesar de ser representada por números (1.0, 2.0, 3.0 e 4.0), a variável \"UCF_D\" é uma variável categórica."
      ]
    },
    {
      "cell_type": "code",
      "metadata": {
        "id": "lZQlhBILTLxK",
        "colab_type": "code",
        "outputId": "63f5ec2d-2290-4a7c-e9dd-1a1aec199b15",
        "colab": {
          "base_uri": "https://localhost:8080/",
          "height": 35
        }
      },
      "source": [
        "unique, counts = np.unique(df['UCF_D'], return_counts=True)\n",
        "unique, counts"
      ],
      "execution_count": 0,
      "outputs": [
        {
          "output_type": "execute_result",
          "data": {
            "text/plain": [
              "(array([1., 2., 3., 4.]), array([60, 70, 32,  2]))"
            ]
          },
          "metadata": {
            "tags": []
          },
          "execution_count": 358
        }
      ]
    },
    {
      "cell_type": "markdown",
      "metadata": {
        "id": "IRXTsywOTLxv",
        "colab_type": "text"
      },
      "source": [
        "Conforme verificado na célula acima, a variável \"UCF_D\" apresenta a seguinte distribuição de valores:\n",
        "- Valor 1: 60 ocorrências \n",
        "- Valor 2: 70 ocorrências \n",
        "- Valor 3: 32 ocorrências \n",
        "- Valor 4: 02 ocorrências "
      ]
    },
    {
      "cell_type": "markdown",
      "metadata": {
        "id": "FKmYbYmjTLx2",
        "colab_type": "text"
      },
      "source": [
        "### Análise das variáveis continuas"
      ]
    },
    {
      "cell_type": "code",
      "metadata": {
        "id": "8PSJ25JZTLx_",
        "colab_type": "code",
        "outputId": "2157b3a7-40c9-4252-df26-cc6b8e0ebf45",
        "colab": {
          "base_uri": "https://localhost:8080/",
          "height": 35
        }
      },
      "source": [
        "#aqui, cria-se uma lista para armazenar os nomes das variáveis contínuas \n",
        "continuas = list(df.columns)\n",
        "continuas.remove('UCF_D')\n",
        "continuas"
      ],
      "execution_count": 0,
      "outputs": [
        {
          "output_type": "execute_result",
          "data": {
            "text/plain": [
              "['DEPT', 'PERMEABILITY', 'POROSITY', 'PERMEABILITY_Z', 'INTENSITY']"
            ]
          },
          "metadata": {
            "tags": []
          },
          "execution_count": 359
        }
      ]
    },
    {
      "cell_type": "markdown",
      "metadata": {
        "id": "BQiFaPcoTLyd",
        "colab_type": "text"
      },
      "source": [
        "Verificação de correlação entre as variáveis"
      ]
    },
    {
      "cell_type": "code",
      "metadata": {
        "id": "ljl3dhh0TLyk",
        "colab_type": "code",
        "outputId": "7a1ae7d5-c9f9-47e7-e348-4ce51f394cad",
        "colab": {
          "base_uri": "https://localhost:8080/",
          "height": 206
        }
      },
      "source": [
        "df[continuas].corr()"
      ],
      "execution_count": 0,
      "outputs": [
        {
          "output_type": "execute_result",
          "data": {
            "text/html": [
              "<div>\n",
              "<style scoped>\n",
              "    .dataframe tbody tr th:only-of-type {\n",
              "        vertical-align: middle;\n",
              "    }\n",
              "\n",
              "    .dataframe tbody tr th {\n",
              "        vertical-align: top;\n",
              "    }\n",
              "\n",
              "    .dataframe thead th {\n",
              "        text-align: right;\n",
              "    }\n",
              "</style>\n",
              "<table border=\"1\" class=\"dataframe\">\n",
              "  <thead>\n",
              "    <tr style=\"text-align: right;\">\n",
              "      <th></th>\n",
              "      <th>DEPT</th>\n",
              "      <th>PERMEABILITY</th>\n",
              "      <th>POROSITY</th>\n",
              "      <th>PERMEABILITY_Z</th>\n",
              "      <th>INTENSITY</th>\n",
              "    </tr>\n",
              "  </thead>\n",
              "  <tbody>\n",
              "    <tr>\n",
              "      <th>DEPT</th>\n",
              "      <td>1.000000</td>\n",
              "      <td>-0.175904</td>\n",
              "      <td>0.029849</td>\n",
              "      <td>-0.175904</td>\n",
              "      <td>-0.274487</td>\n",
              "    </tr>\n",
              "    <tr>\n",
              "      <th>PERMEABILITY</th>\n",
              "      <td>-0.175904</td>\n",
              "      <td>1.000000</td>\n",
              "      <td>0.249473</td>\n",
              "      <td>1.000000</td>\n",
              "      <td>0.016798</td>\n",
              "    </tr>\n",
              "    <tr>\n",
              "      <th>POROSITY</th>\n",
              "      <td>0.029849</td>\n",
              "      <td>0.249473</td>\n",
              "      <td>1.000000</td>\n",
              "      <td>0.249473</td>\n",
              "      <td>-0.031536</td>\n",
              "    </tr>\n",
              "    <tr>\n",
              "      <th>PERMEABILITY_Z</th>\n",
              "      <td>-0.175904</td>\n",
              "      <td>1.000000</td>\n",
              "      <td>0.249473</td>\n",
              "      <td>1.000000</td>\n",
              "      <td>0.016798</td>\n",
              "    </tr>\n",
              "    <tr>\n",
              "      <th>INTENSITY</th>\n",
              "      <td>-0.274487</td>\n",
              "      <td>0.016798</td>\n",
              "      <td>-0.031536</td>\n",
              "      <td>0.016798</td>\n",
              "      <td>1.000000</td>\n",
              "    </tr>\n",
              "  </tbody>\n",
              "</table>\n",
              "</div>"
            ],
            "text/plain": [
              "                    DEPT  PERMEABILITY  POROSITY  PERMEABILITY_Z  INTENSITY\n",
              "DEPT            1.000000     -0.175904  0.029849       -0.175904  -0.274487\n",
              "PERMEABILITY   -0.175904      1.000000  0.249473        1.000000   0.016798\n",
              "POROSITY        0.029849      0.249473  1.000000        0.249473  -0.031536\n",
              "PERMEABILITY_Z -0.175904      1.000000  0.249473        1.000000   0.016798\n",
              "INTENSITY      -0.274487      0.016798 -0.031536        0.016798   1.000000"
            ]
          },
          "metadata": {
            "tags": []
          },
          "execution_count": 360
        }
      ]
    },
    {
      "cell_type": "markdown",
      "metadata": {
        "id": "RrKJoEC4TLzE",
        "colab_type": "text"
      },
      "source": [
        "Analisando a tabela de correlações, percebe-se que as variáveis PERMEABILITY e PERMEABILITY_Z\n",
        "são totalmente correlacionadas (correlação=1). Logo, não há necessidade de se manter essas 2 variáveis na base de dados."
      ]
    },
    {
      "cell_type": "code",
      "metadata": {
        "id": "G5fnyQJsTLzN",
        "colab_type": "code",
        "outputId": "d84f6c49-50d4-41cf-ce9b-40ae259048e4",
        "colab": {
          "base_uri": "https://localhost:8080/",
          "height": 206
        }
      },
      "source": [
        "df[['PERMEABILITY','PERMEABILITY_Z']].head()"
      ],
      "execution_count": 0,
      "outputs": [
        {
          "output_type": "execute_result",
          "data": {
            "text/html": [
              "<div>\n",
              "<style scoped>\n",
              "    .dataframe tbody tr th:only-of-type {\n",
              "        vertical-align: middle;\n",
              "    }\n",
              "\n",
              "    .dataframe tbody tr th {\n",
              "        vertical-align: top;\n",
              "    }\n",
              "\n",
              "    .dataframe thead th {\n",
              "        text-align: right;\n",
              "    }\n",
              "</style>\n",
              "<table border=\"1\" class=\"dataframe\">\n",
              "  <thead>\n",
              "    <tr style=\"text-align: right;\">\n",
              "      <th></th>\n",
              "      <th>PERMEABILITY</th>\n",
              "      <th>PERMEABILITY_Z</th>\n",
              "    </tr>\n",
              "  </thead>\n",
              "  <tbody>\n",
              "    <tr>\n",
              "      <th>0</th>\n",
              "      <td>240.951645</td>\n",
              "      <td>9.638065</td>\n",
              "    </tr>\n",
              "    <tr>\n",
              "      <th>1</th>\n",
              "      <td>240.951645</td>\n",
              "      <td>9.638065</td>\n",
              "    </tr>\n",
              "    <tr>\n",
              "      <th>2</th>\n",
              "      <td>261.061340</td>\n",
              "      <td>10.442453</td>\n",
              "    </tr>\n",
              "    <tr>\n",
              "      <th>3</th>\n",
              "      <td>261.061340</td>\n",
              "      <td>10.442453</td>\n",
              "    </tr>\n",
              "    <tr>\n",
              "      <th>4</th>\n",
              "      <td>280.989838</td>\n",
              "      <td>11.239594</td>\n",
              "    </tr>\n",
              "  </tbody>\n",
              "</table>\n",
              "</div>"
            ],
            "text/plain": [
              "   PERMEABILITY  PERMEABILITY_Z\n",
              "0    240.951645        9.638065\n",
              "1    240.951645        9.638065\n",
              "2    261.061340       10.442453\n",
              "3    261.061340       10.442453\n",
              "4    280.989838       11.239594"
            ]
          },
          "metadata": {
            "tags": []
          },
          "execution_count": 361
        }
      ]
    },
    {
      "cell_type": "code",
      "metadata": {
        "id": "Exz2tDfJTLzk",
        "colab_type": "code",
        "outputId": "76f9fef5-b99a-4318-f76a-d73972e3e96e",
        "colab": {
          "base_uri": "https://localhost:8080/",
          "height": 237
        }
      },
      "source": [
        "df['PERMEABILITY']/df['PERMEABILITY_Z']"
      ],
      "execution_count": 0,
      "outputs": [
        {
          "output_type": "execute_result",
          "data": {
            "text/plain": [
              "0      25.000001\n",
              "1      25.000001\n",
              "2      25.000001\n",
              "3      25.000001\n",
              "4      25.000000\n",
              "         ...    \n",
              "159    25.000000\n",
              "160    25.000000\n",
              "161    25.000000\n",
              "162    25.000000\n",
              "163    25.000000\n",
              "Length: 164, dtype: float64"
            ]
          },
          "metadata": {
            "tags": []
          },
          "execution_count": 362
        }
      ]
    },
    {
      "cell_type": "markdown",
      "metadata": {
        "id": "7flRAwxuTLz6",
        "colab_type": "text"
      },
      "source": [
        "Como pode ser visto, a variável PERMEABILITY sempre é 25 vezes maior que a variável PERMEABILITY_Z (PERMEABILITY = 25 * PERMEABILITY_Z). Como a variável PERMEABILITY é uma das variáveis a serem preditas, optou-se pela retirada da variável PERMEABILITY_Z da base de dados. "
      ]
    },
    {
      "cell_type": "code",
      "metadata": {
        "id": "SQYRZmxYTL0G",
        "colab_type": "code",
        "outputId": "ca8db3f7-538e-45ee-cda4-8db58d25d353",
        "colab": {
          "base_uri": "https://localhost:8080/",
          "height": 206
        }
      },
      "source": [
        "# retirada da variável PERMEABILITY_Z\n",
        "df.drop('PERMEABILITY_Z', axis=1, inplace=True)\n",
        "df.head()"
      ],
      "execution_count": 0,
      "outputs": [
        {
          "output_type": "execute_result",
          "data": {
            "text/html": [
              "<div>\n",
              "<style scoped>\n",
              "    .dataframe tbody tr th:only-of-type {\n",
              "        vertical-align: middle;\n",
              "    }\n",
              "\n",
              "    .dataframe tbody tr th {\n",
              "        vertical-align: top;\n",
              "    }\n",
              "\n",
              "    .dataframe thead th {\n",
              "        text-align: right;\n",
              "    }\n",
              "</style>\n",
              "<table border=\"1\" class=\"dataframe\">\n",
              "  <thead>\n",
              "    <tr style=\"text-align: right;\">\n",
              "      <th></th>\n",
              "      <th>DEPT</th>\n",
              "      <th>PERMEABILITY</th>\n",
              "      <th>POROSITY</th>\n",
              "      <th>UCF_D</th>\n",
              "      <th>INTENSITY</th>\n",
              "    </tr>\n",
              "  </thead>\n",
              "  <tbody>\n",
              "    <tr>\n",
              "      <th>0</th>\n",
              "      <td>3410.438497</td>\n",
              "      <td>240.951645</td>\n",
              "      <td>0.140528</td>\n",
              "      <td>1.0</td>\n",
              "      <td>0.002880</td>\n",
              "    </tr>\n",
              "    <tr>\n",
              "      <th>1</th>\n",
              "      <td>3412.634966</td>\n",
              "      <td>240.951645</td>\n",
              "      <td>0.140528</td>\n",
              "      <td>1.0</td>\n",
              "      <td>0.002880</td>\n",
              "    </tr>\n",
              "    <tr>\n",
              "      <th>2</th>\n",
              "      <td>3412.637165</td>\n",
              "      <td>261.061340</td>\n",
              "      <td>0.204155</td>\n",
              "      <td>1.0</td>\n",
              "      <td>0.002619</td>\n",
              "    </tr>\n",
              "    <tr>\n",
              "      <th>3</th>\n",
              "      <td>3414.831979</td>\n",
              "      <td>261.061340</td>\n",
              "      <td>0.204155</td>\n",
              "      <td>1.0</td>\n",
              "      <td>0.002619</td>\n",
              "    </tr>\n",
              "    <tr>\n",
              "      <th>4</th>\n",
              "      <td>3414.834176</td>\n",
              "      <td>280.989838</td>\n",
              "      <td>0.193558</td>\n",
              "      <td>1.0</td>\n",
              "      <td>0.005349</td>\n",
              "    </tr>\n",
              "  </tbody>\n",
              "</table>\n",
              "</div>"
            ],
            "text/plain": [
              "          DEPT  PERMEABILITY  POROSITY  UCF_D  INTENSITY\n",
              "0  3410.438497    240.951645  0.140528    1.0   0.002880\n",
              "1  3412.634966    240.951645  0.140528    1.0   0.002880\n",
              "2  3412.637165    261.061340  0.204155    1.0   0.002619\n",
              "3  3414.831979    261.061340  0.204155    1.0   0.002619\n",
              "4  3414.834176    280.989838  0.193558    1.0   0.005349"
            ]
          },
          "metadata": {
            "tags": []
          },
          "execution_count": 363
        }
      ]
    },
    {
      "cell_type": "markdown",
      "metadata": {
        "id": "zSvuqvgeTL0k",
        "colab_type": "text"
      },
      "source": [
        "### Verificação de outliers"
      ]
    },
    {
      "cell_type": "code",
      "metadata": {
        "id": "W9etu6teTL0o",
        "colab_type": "code",
        "outputId": "96027005-fd40-4f97-95fe-2bdb28ec9fee",
        "colab": {
          "base_uri": "https://localhost:8080/",
          "height": 585
        }
      },
      "source": [
        "# Plot das variáveis contínuas\n",
        "continuas.remove('PERMEABILITY_Z')\n",
        "# Tamanho da área de plotagem\n",
        "fig = plt.figure(figsize = (12,8))\n",
        "\n",
        "# Loop pelas variáveis contínuas\n",
        "for i, col in enumerate(continuas):\n",
        "    plt.subplot(2, 2, i + 1);\n",
        "    df.boxplot(col);\n",
        "    plt.tight_layout()\n",
        "    "
      ],
      "execution_count": 0,
      "outputs": [
        {
          "output_type": "display_data",
          "data": {
            "image/png": "[encoded data removed]",
            "text/plain": [
              "<Figure size 864x576 with 4 Axes>"
            ]
          },
          "metadata": {
            "tags": [],
            "needs_background": "light"
          }
        }
      ]
    },
    {
      "cell_type": "markdown",
      "metadata": {
        "id": "PzFRn-SgTL1H",
        "colab_type": "text"
      },
      "source": [
        "Analisando-se os Boxplots acima, percebe-se que a variável PERMEABILITY possui um outlier"
      ]
    },
    {
      "cell_type": "code",
      "metadata": {
        "id": "UCAy5YPETL1N",
        "colab_type": "code",
        "outputId": "bc8c07d8-d088-4b3a-c15c-e2d8b08a1d5b",
        "colab": {
          "base_uri": "https://localhost:8080/",
          "height": 35
        }
      },
      "source": [
        "df['PERMEABILITY'].quantile(0.25)"
      ],
      "execution_count": 0,
      "outputs": [
        {
          "output_type": "execute_result",
          "data": {
            "text/plain": [
              "44.000728607"
            ]
          },
          "metadata": {
            "tags": []
          },
          "execution_count": 365
        }
      ]
    },
    {
      "cell_type": "code",
      "metadata": {
        "id": "0AUvhye3TL12",
        "colab_type": "code",
        "outputId": "0b3d142b-1f4a-4d18-9f23-e76d3b3483dd",
        "colab": {
          "base_uri": "https://localhost:8080/",
          "height": 182
        }
      },
      "source": [
        "Q1 = df.PERMEABILITY.quantile(0.25)\n",
        "Q2 = df.PERMEABILITY.quantile(0.5)\n",
        "Q3 = df.PERMEABILITY.quantile(0.75)\n",
        "IQR = Q3 - Q1\n",
        "print(\"O valor do 1º quartil é {}, o do 2º quartil (mediana) é {} e do 3º quartil é {}\".format(Q1, Q2, Q3))\n",
        "print(\"\\nO intervalo inter quartil é {}\".format(IQR))\n",
        "#df['PERMEABILITY']=df[~((df.PERMEABILITY < (Q1 - 1.5 * IQR)) | (df.PERMEABILITY > (Q3 + 1.5 * IQR)))]['PERMEABILITY']\n",
        "print('\\n\\n Os outliers são:')\n",
        "df[((df.PERMEABILITY < (Q1 - 1.5 * IQR)) | (df.PERMEABILITY > (Q3 + 1.5 * IQR)))]['PERMEABILITY']"
      ],
      "execution_count": 0,
      "outputs": [
        {
          "output_type": "stream",
          "text": [
            "O valor do 1º quartil é 44.000728607, o do 2º quartil (mediana) é 73.9114723205 e do 3º quartil é 194.5977478\n",
            "\n",
            "O intervalo inter quartil é 150.597019193\n",
            "\n",
            "\n",
            " Os outliers são:\n"
          ],
          "name": "stdout"
        },
        {
          "output_type": "execute_result",
          "data": {
            "text/plain": [
              "12    6714.733398\n",
              "13    6714.733398\n",
              "Name: PERMEABILITY, dtype: float64"
            ]
          },
          "metadata": {
            "tags": []
          },
          "execution_count": 366
        }
      ]
    },
    {
      "cell_type": "markdown",
      "metadata": {
        "id": "n17HmrRBTL25",
        "colab_type": "text"
      },
      "source": [
        "Como pode ser observado, os outliers identificados são muito maiores que os demais valores da dessa variável. Esses valores discrepantes também são prejudiciais ao processo de aprendizagem de máquina, e por isso, também devem ser retirados da base de dados.  "
      ]
    },
    {
      "cell_type": "code",
      "metadata": {
        "id": "bMsStsi4TL3M",
        "colab_type": "code",
        "outputId": "93efb810-1c81-4efc-d237-0bf09a47d26b",
        "colab": {
          "base_uri": "https://localhost:8080/",
          "height": 112
        }
      },
      "source": [
        "df[((df.PERMEABILITY < (Q1 - 1.5 * IQR)) | (df.PERMEABILITY > (Q3 + 1.5 * IQR)))]"
      ],
      "execution_count": 0,
      "outputs": [
        {
          "output_type": "execute_result",
          "data": {
            "text/html": [
              "<div>\n",
              "<style scoped>\n",
              "    .dataframe tbody tr th:only-of-type {\n",
              "        vertical-align: middle;\n",
              "    }\n",
              "\n",
              "    .dataframe tbody tr th {\n",
              "        vertical-align: top;\n",
              "    }\n",
              "\n",
              "    .dataframe thead th {\n",
              "        text-align: right;\n",
              "    }\n",
              "</style>\n",
              "<table border=\"1\" class=\"dataframe\">\n",
              "  <thead>\n",
              "    <tr style=\"text-align: right;\">\n",
              "      <th></th>\n",
              "      <th>DEPT</th>\n",
              "      <th>PERMEABILITY</th>\n",
              "      <th>POROSITY</th>\n",
              "      <th>UCF_D</th>\n",
              "      <th>INTENSITY</th>\n",
              "    </tr>\n",
              "  </thead>\n",
              "  <tbody>\n",
              "    <tr>\n",
              "      <th>12</th>\n",
              "      <td>3421.410756</td>\n",
              "      <td>6714.733398</td>\n",
              "      <td>0.238339</td>\n",
              "      <td>4.0</td>\n",
              "      <td>0.003097</td>\n",
              "    </tr>\n",
              "    <tr>\n",
              "      <th>13</th>\n",
              "      <td>3423.598108</td>\n",
              "      <td>6714.733398</td>\n",
              "      <td>0.238339</td>\n",
              "      <td>4.0</td>\n",
              "      <td>0.003097</td>\n",
              "    </tr>\n",
              "  </tbody>\n",
              "</table>\n",
              "</div>"
            ],
            "text/plain": [
              "           DEPT  PERMEABILITY  POROSITY  UCF_D  INTENSITY\n",
              "12  3421.410756   6714.733398  0.238339    4.0   0.003097\n",
              "13  3423.598108   6714.733398  0.238339    4.0   0.003097"
            ]
          },
          "metadata": {
            "tags": []
          },
          "execution_count": 367
        }
      ]
    },
    {
      "cell_type": "code",
      "metadata": {
        "id": "x1H-lVLlTL3s",
        "colab_type": "code",
        "outputId": "043693c0-8a55-4dc9-b4e1-dae3769f413f",
        "colab": {
          "base_uri": "https://localhost:8080/",
          "height": 35
        }
      },
      "source": [
        "Q2"
      ],
      "execution_count": 0,
      "outputs": [
        {
          "output_type": "execute_result",
          "data": {
            "text/plain": [
              "73.9114723205"
            ]
          },
          "metadata": {
            "tags": []
          },
          "execution_count": 368
        }
      ]
    },
    {
      "cell_type": "code",
      "metadata": {
        "id": "KoFcWL7MTL4A",
        "colab_type": "code",
        "colab": {}
      },
      "source": [
        "df=df[~((df.PERMEABILITY < (Q1 - 1.5 * IQR)) | (df.PERMEABILITY > (Q3 + 1.5 * IQR)))]"
      ],
      "execution_count": 0,
      "outputs": []
    },
    {
      "cell_type": "markdown",
      "metadata": {
        "id": "9bn2KMozTL4V",
        "colab_type": "text"
      },
      "source": [
        "## 4 - Pré-processamento dos dados"
      ]
    },
    {
      "cell_type": "markdown",
      "metadata": {
        "id": "lwFCH7s2TL4Z",
        "colab_type": "text"
      },
      "source": [
        "Como verificado na Análise exploratória dos dados, a variável 'UCF_D' apresenta características de uma variável categórica."
      ]
    },
    {
      "cell_type": "code",
      "metadata": {
        "id": "-NTY6euoTL4b",
        "colab_type": "code",
        "outputId": "7dea8f9e-964b-4984-dc30-d9a9484a11a5",
        "colab": {
          "base_uri": "https://localhost:8080/",
          "height": 35
        }
      },
      "source": [
        "unique, counts = np.unique(df['UCF_D'], return_counts=True)\n",
        "unique, counts"
      ],
      "execution_count": 0,
      "outputs": [
        {
          "output_type": "execute_result",
          "data": {
            "text/plain": [
              "(array([1., 2., 3.]), array([60, 70, 32]))"
            ]
          },
          "metadata": {
            "tags": []
          },
          "execution_count": 370
        }
      ]
    },
    {
      "cell_type": "markdown",
      "metadata": {
        "id": "zOiTeprHTL4u",
        "colab_type": "text"
      },
      "source": [
        "Ná análise inicial, a variável UCF_D apresentava 4 valores possíveis, no entanto, após a retirada dos registros com outliers, ela passou a possuir apenas 3 valores distintos."
      ]
    },
    {
      "cell_type": "markdown",
      "metadata": {
        "id": "5Ci6TstdTL40",
        "colab_type": "text"
      },
      "source": [
        "Na análise inicial, a variável UCF_D apresentava 4 valores possíveis, no entanto, após a retirada dos registros com outliers, ela passou a possuir apenas 3 valores distintos.\n",
        "\n",
        "Após alguns testes, constatou-se que a variável UCF_D é uma variável categórica não ordenável, logo, tais variáveis não podem ser tratadas como números sequencias, pois, o fato de um registro dessa variável estar com o valor 3 não quer dizer que ele seja maior do que um outro registro dessa mesma variável que esteja com o valor 1. Ou seja, a forma como essa variável está sendo representada não é a mais indicada, pois ela acaba sugerindo um tipo de relação entre os registros que na verdade não existe.\n",
        "\n",
        "Sendo assim, a melhor forma de se representar essa variável é utilizando a representação one-hot encode. Nesse tipo de representação, a distância entre todos os tipos de regitros dessa variável é sempre o mesmo.\n",
        "\n",
        "Para o caso da variável em questão, a representação poderia ser feita da seguinte forma:\n",
        "- valor 1: [1, 0, 0]\n",
        "- valor 2: [0, 1, 0]\n",
        "- valor 3: [0, 0, 1]\n",
        "\n",
        "No entanto, uma forma mais compacta de se fazer essa representação seria:\n",
        "- valor 1: [0, 0]\n",
        "- valor 2: [1, 0]\n",
        "- valor 3: [0, 1]"
      ]
    },
    {
      "cell_type": "code",
      "metadata": {
        "id": "QrR_xGxtTL43",
        "colab_type": "code",
        "outputId": "f842e2c2-a704-413b-ddfb-70466f54b20a",
        "colab": {
          "base_uri": "https://localhost:8080/",
          "height": 206
        }
      },
      "source": [
        "df.head()"
      ],
      "execution_count": 0,
      "outputs": [
        {
          "output_type": "execute_result",
          "data": {
            "text/html": [
              "<div>\n",
              "<style scoped>\n",
              "    .dataframe tbody tr th:only-of-type {\n",
              "        vertical-align: middle;\n",
              "    }\n",
              "\n",
              "    .dataframe tbody tr th {\n",
              "        vertical-align: top;\n",
              "    }\n",
              "\n",
              "    .dataframe thead th {\n",
              "        text-align: right;\n",
              "    }\n",
              "</style>\n",
              "<table border=\"1\" class=\"dataframe\">\n",
              "  <thead>\n",
              "    <tr style=\"text-align: right;\">\n",
              "      <th></th>\n",
              "      <th>DEPT</th>\n",
              "      <th>PERMEABILITY</th>\n",
              "      <th>POROSITY</th>\n",
              "      <th>UCF_D</th>\n",
              "      <th>INTENSITY</th>\n",
              "    </tr>\n",
              "  </thead>\n",
              "  <tbody>\n",
              "    <tr>\n",
              "      <th>0</th>\n",
              "      <td>3410.438497</td>\n",
              "      <td>240.951645</td>\n",
              "      <td>0.140528</td>\n",
              "      <td>1.0</td>\n",
              "      <td>0.002880</td>\n",
              "    </tr>\n",
              "    <tr>\n",
              "      <th>1</th>\n",
              "      <td>3412.634966</td>\n",
              "      <td>240.951645</td>\n",
              "      <td>0.140528</td>\n",
              "      <td>1.0</td>\n",
              "      <td>0.002880</td>\n",
              "    </tr>\n",
              "    <tr>\n",
              "      <th>2</th>\n",
              "      <td>3412.637165</td>\n",
              "      <td>261.061340</td>\n",
              "      <td>0.204155</td>\n",
              "      <td>1.0</td>\n",
              "      <td>0.002619</td>\n",
              "    </tr>\n",
              "    <tr>\n",
              "      <th>3</th>\n",
              "      <td>3414.831979</td>\n",
              "      <td>261.061340</td>\n",
              "      <td>0.204155</td>\n",
              "      <td>1.0</td>\n",
              "      <td>0.002619</td>\n",
              "    </tr>\n",
              "    <tr>\n",
              "      <th>4</th>\n",
              "      <td>3414.834176</td>\n",
              "      <td>280.989838</td>\n",
              "      <td>0.193558</td>\n",
              "      <td>1.0</td>\n",
              "      <td>0.005349</td>\n",
              "    </tr>\n",
              "  </tbody>\n",
              "</table>\n",
              "</div>"
            ],
            "text/plain": [
              "          DEPT  PERMEABILITY  POROSITY  UCF_D  INTENSITY\n",
              "0  3410.438497    240.951645  0.140528    1.0   0.002880\n",
              "1  3412.634966    240.951645  0.140528    1.0   0.002880\n",
              "2  3412.637165    261.061340  0.204155    1.0   0.002619\n",
              "3  3414.831979    261.061340  0.204155    1.0   0.002619\n",
              "4  3414.834176    280.989838  0.193558    1.0   0.005349"
            ]
          },
          "metadata": {
            "tags": []
          },
          "execution_count": 371
        }
      ]
    },
    {
      "cell_type": "code",
      "metadata": {
        "id": "FoD2_XYRN56O",
        "colab_type": "code",
        "outputId": "2e4a668b-0fc3-4fc8-859a-6a24a2991b55",
        "colab": {
          "base_uri": "https://localhost:8080/",
          "height": 35
        }
      },
      "source": [
        "df.shape"
      ],
      "execution_count": 0,
      "outputs": [
        {
          "output_type": "execute_result",
          "data": {
            "text/plain": [
              "(162, 5)"
            ]
          },
          "metadata": {
            "tags": []
          },
          "execution_count": 372
        }
      ]
    },
    {
      "cell_type": "code",
      "metadata": {
        "id": "PzmzAQ1aA7jq",
        "colab_type": "code",
        "outputId": "565c175a-e755-46b8-b74d-cf447fb6e3e1",
        "colab": {
          "base_uri": "https://localhost:8080/",
          "height": 206
        }
      },
      "source": [
        "df.head()"
      ],
      "execution_count": 0,
      "outputs": [
        {
          "output_type": "execute_result",
          "data": {
            "text/html": [
              "<div>\n",
              "<style scoped>\n",
              "    .dataframe tbody tr th:only-of-type {\n",
              "        vertical-align: middle;\n",
              "    }\n",
              "\n",
              "    .dataframe tbody tr th {\n",
              "        vertical-align: top;\n",
              "    }\n",
              "\n",
              "    .dataframe thead th {\n",
              "        text-align: right;\n",
              "    }\n",
              "</style>\n",
              "<table border=\"1\" class=\"dataframe\">\n",
              "  <thead>\n",
              "    <tr style=\"text-align: right;\">\n",
              "      <th></th>\n",
              "      <th>DEPT</th>\n",
              "      <th>PERMEABILITY</th>\n",
              "      <th>POROSITY</th>\n",
              "      <th>UCF_D</th>\n",
              "      <th>INTENSITY</th>\n",
              "    </tr>\n",
              "  </thead>\n",
              "  <tbody>\n",
              "    <tr>\n",
              "      <th>0</th>\n",
              "      <td>3410.438497</td>\n",
              "      <td>240.951645</td>\n",
              "      <td>0.140528</td>\n",
              "      <td>1.0</td>\n",
              "      <td>0.002880</td>\n",
              "    </tr>\n",
              "    <tr>\n",
              "      <th>1</th>\n",
              "      <td>3412.634966</td>\n",
              "      <td>240.951645</td>\n",
              "      <td>0.140528</td>\n",
              "      <td>1.0</td>\n",
              "      <td>0.002880</td>\n",
              "    </tr>\n",
              "    <tr>\n",
              "      <th>2</th>\n",
              "      <td>3412.637165</td>\n",
              "      <td>261.061340</td>\n",
              "      <td>0.204155</td>\n",
              "      <td>1.0</td>\n",
              "      <td>0.002619</td>\n",
              "    </tr>\n",
              "    <tr>\n",
              "      <th>3</th>\n",
              "      <td>3414.831979</td>\n",
              "      <td>261.061340</td>\n",
              "      <td>0.204155</td>\n",
              "      <td>1.0</td>\n",
              "      <td>0.002619</td>\n",
              "    </tr>\n",
              "    <tr>\n",
              "      <th>4</th>\n",
              "      <td>3414.834176</td>\n",
              "      <td>280.989838</td>\n",
              "      <td>0.193558</td>\n",
              "      <td>1.0</td>\n",
              "      <td>0.005349</td>\n",
              "    </tr>\n",
              "  </tbody>\n",
              "</table>\n",
              "</div>"
            ],
            "text/plain": [
              "          DEPT  PERMEABILITY  POROSITY  UCF_D  INTENSITY\n",
              "0  3410.438497    240.951645  0.140528    1.0   0.002880\n",
              "1  3412.634966    240.951645  0.140528    1.0   0.002880\n",
              "2  3412.637165    261.061340  0.204155    1.0   0.002619\n",
              "3  3414.831979    261.061340  0.204155    1.0   0.002619\n",
              "4  3414.834176    280.989838  0.193558    1.0   0.005349"
            ]
          },
          "metadata": {
            "tags": []
          },
          "execution_count": 373
        }
      ]
    },
    {
      "cell_type": "code",
      "metadata": {
        "id": "mlQZtciXA0pn",
        "colab_type": "code",
        "outputId": "5f2366f9-e059-4bcb-c35d-9999cda46c3f",
        "colab": {
          "base_uri": "https://localhost:8080/",
          "height": 206
        }
      },
      "source": [
        "df.tail()"
      ],
      "execution_count": 0,
      "outputs": [
        {
          "output_type": "execute_result",
          "data": {
            "text/html": [
              "<div>\n",
              "<style scoped>\n",
              "    .dataframe tbody tr th:only-of-type {\n",
              "        vertical-align: middle;\n",
              "    }\n",
              "\n",
              "    .dataframe tbody tr th {\n",
              "        vertical-align: top;\n",
              "    }\n",
              "\n",
              "    .dataframe thead th {\n",
              "        text-align: right;\n",
              "    }\n",
              "</style>\n",
              "<table border=\"1\" class=\"dataframe\">\n",
              "  <thead>\n",
              "    <tr style=\"text-align: right;\">\n",
              "      <th></th>\n",
              "      <th>DEPT</th>\n",
              "      <th>PERMEABILITY</th>\n",
              "      <th>POROSITY</th>\n",
              "      <th>UCF_D</th>\n",
              "      <th>INTENSITY</th>\n",
              "    </tr>\n",
              "  </thead>\n",
              "  <tbody>\n",
              "    <tr>\n",
              "      <th>159</th>\n",
              "      <td>3580.491558</td>\n",
              "      <td>194.597748</td>\n",
              "      <td>0.229282</td>\n",
              "      <td>1.0</td>\n",
              "      <td>0.002523</td>\n",
              "    </tr>\n",
              "    <tr>\n",
              "      <th>160</th>\n",
              "      <td>3580.493708</td>\n",
              "      <td>82.377754</td>\n",
              "      <td>0.230196</td>\n",
              "      <td>2.0</td>\n",
              "      <td>0.001158</td>\n",
              "    </tr>\n",
              "    <tr>\n",
              "      <th>161</th>\n",
              "      <td>3582.639924</td>\n",
              "      <td>82.377754</td>\n",
              "      <td>0.230196</td>\n",
              "      <td>2.0</td>\n",
              "      <td>0.001158</td>\n",
              "    </tr>\n",
              "    <tr>\n",
              "      <th>162</th>\n",
              "      <td>3582.642072</td>\n",
              "      <td>95.544464</td>\n",
              "      <td>0.179122</td>\n",
              "      <td>2.0</td>\n",
              "      <td>0.003157</td>\n",
              "    </tr>\n",
              "    <tr>\n",
              "      <th>163</th>\n",
              "      <td>3584.787302</td>\n",
              "      <td>95.544464</td>\n",
              "      <td>0.179122</td>\n",
              "      <td>2.0</td>\n",
              "      <td>0.003157</td>\n",
              "    </tr>\n",
              "  </tbody>\n",
              "</table>\n",
              "</div>"
            ],
            "text/plain": [
              "            DEPT  PERMEABILITY  POROSITY  UCF_D  INTENSITY\n",
              "159  3580.491558    194.597748  0.229282    1.0   0.002523\n",
              "160  3580.493708     82.377754  0.230196    2.0   0.001158\n",
              "161  3582.639924     82.377754  0.230196    2.0   0.001158\n",
              "162  3582.642072     95.544464  0.179122    2.0   0.003157\n",
              "163  3584.787302     95.544464  0.179122    2.0   0.003157"
            ]
          },
          "metadata": {
            "tags": []
          },
          "execution_count": 374
        }
      ]
    },
    {
      "cell_type": "markdown",
      "metadata": {
        "id": "nkd4ytc6MZjv",
        "colab_type": "text"
      },
      "source": [
        "### Interpolação dos Dados\n"
      ]
    },
    {
      "cell_type": "code",
      "metadata": {
        "id": "mm6UrHxA7icW",
        "colab_type": "code",
        "colab": {}
      },
      "source": [
        "def interpolar(dfDados, tamanho_interpolacao = 10, coluna = \"DEPT\"):\n",
        "  novo_dados = np.linspace(dados[coluna].min(), dfDados[coluna].max(), dfDados.shape[0] * tamanho_interpolacao)\n",
        "  dfnovo = pd.DataFrame(novo_dados)\n",
        "  return dfnovo"
      ],
      "execution_count": 0,
      "outputs": []
    },
    {
      "cell_type": "code",
      "metadata": {
        "id": "IxxOEiCYMYep",
        "colab_type": "code",
        "outputId": "2d8a2aa0-7521-44bb-a9d1-5a02c62a8663",
        "colab": {
          "base_uri": "https://localhost:8080/",
          "height": 35
        }
      },
      "source": [
        "import scipy.interpolate as interpolate\n",
        "# Interpolate the data using a cubic spline to \"new_length\" samples\n",
        "tamanho_interpolacao = 10\n",
        "#novo_dados_dept = np.linspace(dados[\"DEPT\"].min(), dados[\"DEPT\"].max(), dados.shape[0] * tamanho_interpolacao)\n",
        "#dfnovo = pd.DataFrame(novo_dados_dept)\n",
        "colDEPT = \"DEPT\"\n",
        "dfnovo = interpolar(df, tamanho_interpolacao, colDEPT)\n",
        "dfnovo.shape\n"
      ],
      "execution_count": 0,
      "outputs": [
        {
          "output_type": "execute_result",
          "data": {
            "text/plain": [
              "(1620, 1)"
            ]
          },
          "metadata": {
            "tags": []
          },
          "execution_count": 376
        }
      ]
    },
    {
      "cell_type": "code",
      "metadata": {
        "id": "hJvUV2Uk7SoQ",
        "colab_type": "code",
        "outputId": "017f41e6-0432-40f4-8d98-0b47c9520d58",
        "colab": {
          "base_uri": "https://localhost:8080/",
          "height": 35
        }
      },
      "source": [
        "colPERMEABILITY = \"PERMEABILITY\"\n",
        "dfnovo[colPERMEABILITY] = interpolar(df, tamanho_interpolacao, colPERMEABILITY)\n",
        "dfnovo.shape"
      ],
      "execution_count": 0,
      "outputs": [
        {
          "output_type": "execute_result",
          "data": {
            "text/plain": [
              "(1620, 2)"
            ]
          },
          "metadata": {
            "tags": []
          },
          "execution_count": 377
        }
      ]
    },
    {
      "cell_type": "code",
      "metadata": {
        "id": "7O10RiD8-8c0",
        "colab_type": "code",
        "outputId": "693588cc-b01c-44e7-c23f-02bda07f0ab8",
        "colab": {
          "base_uri": "https://localhost:8080/",
          "height": 35
        }
      },
      "source": [
        "colPOROSITY = \"POROSITY\"\n",
        "dfnovo[colPOROSITY] = interpolar(df, tamanho_interpolacao, colPOROSITY)\n",
        "dfnovo.shape"
      ],
      "execution_count": 0,
      "outputs": [
        {
          "output_type": "execute_result",
          "data": {
            "text/plain": [
              "(1620, 3)"
            ]
          },
          "metadata": {
            "tags": []
          },
          "execution_count": 378
        }
      ]
    },
    {
      "cell_type": "code",
      "metadata": {
        "id": "OSRcIOvWB8EQ",
        "colab_type": "code",
        "outputId": "3fbe984a-7a97-4a69-c0cd-6e82365a98de",
        "colab": {
          "base_uri": "https://localhost:8080/",
          "height": 35
        }
      },
      "source": [
        "colUCF_D = \"UCF_D\"\n",
        "dfnovo[colUCF_D] = interpolar(df, tamanho_interpolacao, colUCF_D)\n",
        "dfnovo.shape"
      ],
      "execution_count": 0,
      "outputs": [
        {
          "output_type": "execute_result",
          "data": {
            "text/plain": [
              "(1620, 4)"
            ]
          },
          "metadata": {
            "tags": []
          },
          "execution_count": 379
        }
      ]
    },
    {
      "cell_type": "code",
      "metadata": {
        "id": "_sIUXsGX_-Wo",
        "colab_type": "code",
        "outputId": "c5c4e2f0-c624-4cad-9668-13d59d20850f",
        "colab": {
          "base_uri": "https://localhost:8080/",
          "height": 35
        }
      },
      "source": [
        "colINTENSITY = \"INTENSITY\"\n",
        "dfnovo[colINTENSITY] = interpolar(df, tamanho_interpolacao, colINTENSITY)\n",
        "dfnovo.shape"
      ],
      "execution_count": 0,
      "outputs": [
        {
          "output_type": "execute_result",
          "data": {
            "text/plain": [
              "(1620, 5)"
            ]
          },
          "metadata": {
            "tags": []
          },
          "execution_count": 380
        }
      ]
    },
    {
      "cell_type": "code",
      "metadata": {
        "id": "QozylLHx_iXL",
        "colab_type": "code",
        "colab": {}
      },
      "source": [
        "dfnovo.columns = [colDEPT, colPERMEABILITY, colPOROSITY, colUCF_D, colINTENSITY]"
      ],
      "execution_count": 0,
      "outputs": []
    },
    {
      "cell_type": "code",
      "metadata": {
        "id": "wp_k_Ygx7WP-",
        "colab_type": "code",
        "outputId": "dce3daff-c147-4b3a-e90d-d43086c94303",
        "colab": {
          "base_uri": "https://localhost:8080/",
          "height": 206
        }
      },
      "source": [
        "dfnovo.head()"
      ],
      "execution_count": 0,
      "outputs": [
        {
          "output_type": "execute_result",
          "data": {
            "text/html": [
              "<div>\n",
              "<style scoped>\n",
              "    .dataframe tbody tr th:only-of-type {\n",
              "        vertical-align: middle;\n",
              "    }\n",
              "\n",
              "    .dataframe tbody tr th {\n",
              "        vertical-align: top;\n",
              "    }\n",
              "\n",
              "    .dataframe thead th {\n",
              "        text-align: right;\n",
              "    }\n",
              "</style>\n",
              "<table border=\"1\" class=\"dataframe\">\n",
              "  <thead>\n",
              "    <tr style=\"text-align: right;\">\n",
              "      <th></th>\n",
              "      <th>DEPT</th>\n",
              "      <th>PERMEABILITY</th>\n",
              "      <th>POROSITY</th>\n",
              "      <th>UCF_D</th>\n",
              "      <th>INTENSITY</th>\n",
              "    </tr>\n",
              "  </thead>\n",
              "  <tbody>\n",
              "    <tr>\n",
              "      <th>0</th>\n",
              "      <td>3410.438497</td>\n",
              "      <td>0.000000</td>\n",
              "      <td>0.000000</td>\n",
              "      <td>1.0</td>\n",
              "      <td>0.000701</td>\n",
              "    </tr>\n",
              "    <tr>\n",
              "      <th>1</th>\n",
              "      <td>3410.546186</td>\n",
              "      <td>0.257590</td>\n",
              "      <td>0.000187</td>\n",
              "      <td>1.0</td>\n",
              "      <td>0.000704</td>\n",
              "    </tr>\n",
              "    <tr>\n",
              "      <th>2</th>\n",
              "      <td>3410.653876</td>\n",
              "      <td>0.515179</td>\n",
              "      <td>0.000374</td>\n",
              "      <td>1.0</td>\n",
              "      <td>0.000707</td>\n",
              "    </tr>\n",
              "    <tr>\n",
              "      <th>3</th>\n",
              "      <td>3410.761565</td>\n",
              "      <td>0.772769</td>\n",
              "      <td>0.000561</td>\n",
              "      <td>1.0</td>\n",
              "      <td>0.000710</td>\n",
              "    </tr>\n",
              "    <tr>\n",
              "      <th>4</th>\n",
              "      <td>3410.869254</td>\n",
              "      <td>1.030358</td>\n",
              "      <td>0.000748</td>\n",
              "      <td>1.0</td>\n",
              "      <td>0.000713</td>\n",
              "    </tr>\n",
              "  </tbody>\n",
              "</table>\n",
              "</div>"
            ],
            "text/plain": [
              "          DEPT  PERMEABILITY  POROSITY  UCF_D  INTENSITY\n",
              "0  3410.438497      0.000000  0.000000    1.0   0.000701\n",
              "1  3410.546186      0.257590  0.000187    1.0   0.000704\n",
              "2  3410.653876      0.515179  0.000374    1.0   0.000707\n",
              "3  3410.761565      0.772769  0.000561    1.0   0.000710\n",
              "4  3410.869254      1.030358  0.000748    1.0   0.000713"
            ]
          },
          "metadata": {
            "tags": []
          },
          "execution_count": 390
        }
      ]
    },
    {
      "cell_type": "code",
      "metadata": {
        "id": "gl2giie_-N7f",
        "colab_type": "code",
        "outputId": "93e5fd39-def1-4d16-bd11-e61ce5a6f130",
        "colab": {
          "base_uri": "https://localhost:8080/",
          "height": 206
        }
      },
      "source": [
        "df.head()"
      ],
      "execution_count": 0,
      "outputs": [
        {
          "output_type": "execute_result",
          "data": {
            "text/html": [
              "<div>\n",
              "<style scoped>\n",
              "    .dataframe tbody tr th:only-of-type {\n",
              "        vertical-align: middle;\n",
              "    }\n",
              "\n",
              "    .dataframe tbody tr th {\n",
              "        vertical-align: top;\n",
              "    }\n",
              "\n",
              "    .dataframe thead th {\n",
              "        text-align: right;\n",
              "    }\n",
              "</style>\n",
              "<table border=\"1\" class=\"dataframe\">\n",
              "  <thead>\n",
              "    <tr style=\"text-align: right;\">\n",
              "      <th></th>\n",
              "      <th>DEPT</th>\n",
              "      <th>PERMEABILITY</th>\n",
              "      <th>POROSITY</th>\n",
              "      <th>UCF_D</th>\n",
              "      <th>INTENSITY</th>\n",
              "    </tr>\n",
              "  </thead>\n",
              "  <tbody>\n",
              "    <tr>\n",
              "      <th>0</th>\n",
              "      <td>3410.438497</td>\n",
              "      <td>240.951645</td>\n",
              "      <td>0.140528</td>\n",
              "      <td>1.0</td>\n",
              "      <td>0.002880</td>\n",
              "    </tr>\n",
              "    <tr>\n",
              "      <th>1</th>\n",
              "      <td>3412.634966</td>\n",
              "      <td>240.951645</td>\n",
              "      <td>0.140528</td>\n",
              "      <td>1.0</td>\n",
              "      <td>0.002880</td>\n",
              "    </tr>\n",
              "    <tr>\n",
              "      <th>2</th>\n",
              "      <td>3412.637165</td>\n",
              "      <td>261.061340</td>\n",
              "      <td>0.204155</td>\n",
              "      <td>1.0</td>\n",
              "      <td>0.002619</td>\n",
              "    </tr>\n",
              "    <tr>\n",
              "      <th>3</th>\n",
              "      <td>3414.831979</td>\n",
              "      <td>261.061340</td>\n",
              "      <td>0.204155</td>\n",
              "      <td>1.0</td>\n",
              "      <td>0.002619</td>\n",
              "    </tr>\n",
              "    <tr>\n",
              "      <th>4</th>\n",
              "      <td>3414.834176</td>\n",
              "      <td>280.989838</td>\n",
              "      <td>0.193558</td>\n",
              "      <td>1.0</td>\n",
              "      <td>0.005349</td>\n",
              "    </tr>\n",
              "  </tbody>\n",
              "</table>\n",
              "</div>"
            ],
            "text/plain": [
              "          DEPT  PERMEABILITY  POROSITY  UCF_D  INTENSITY\n",
              "0  3410.438497    240.951645  0.140528    1.0   0.002880\n",
              "1  3412.634966    240.951645  0.140528    1.0   0.002880\n",
              "2  3412.637165    261.061340  0.204155    1.0   0.002619\n",
              "3  3414.831979    261.061340  0.204155    1.0   0.002619\n",
              "4  3414.834176    280.989838  0.193558    1.0   0.005349"
            ]
          },
          "metadata": {
            "tags": []
          },
          "execution_count": 391
        }
      ]
    },
    {
      "cell_type": "code",
      "metadata": {
        "id": "bj4_RPzC-TSL",
        "colab_type": "code",
        "outputId": "7f3afac1-77a8-4e69-b823-64eb896025c3",
        "colab": {
          "base_uri": "https://localhost:8080/",
          "height": 35
        }
      },
      "source": [
        "df.columns"
      ],
      "execution_count": 0,
      "outputs": [
        {
          "output_type": "execute_result",
          "data": {
            "text/plain": [
              "Index(['DEPT', 'PERMEABILITY', 'POROSITY', 'UCF_D', 'INTENSITY'], dtype='object')"
            ]
          },
          "metadata": {
            "tags": []
          },
          "execution_count": 384
        }
      ]
    },
    {
      "cell_type": "code",
      "metadata": {
        "id": "Zm4PQ9-e-ZGe",
        "colab_type": "code",
        "outputId": "34d0c56b-3180-4e0e-a12b-74f3f3f8a9db",
        "colab": {
          "base_uri": "https://localhost:8080/",
          "height": 35
        }
      },
      "source": [
        "dfnovo.columns"
      ],
      "execution_count": 0,
      "outputs": [
        {
          "output_type": "execute_result",
          "data": {
            "text/plain": [
              "Index(['DEPT', 'PERMEABILITY', 'POROSITY', 'UCF_D', 'INTENSITY'], dtype='object')"
            ]
          },
          "metadata": {
            "tags": []
          },
          "execution_count": 385
        }
      ]
    },
    {
      "cell_type": "code",
      "metadata": {
        "id": "eZnKtMLbAUSR",
        "colab_type": "code",
        "outputId": "7ffc414b-8853-465c-a564-8c0d46acf5dc",
        "colab": {
          "base_uri": "https://localhost:8080/",
          "height": 35
        }
      },
      "source": [
        "df.shape"
      ],
      "execution_count": 0,
      "outputs": [
        {
          "output_type": "execute_result",
          "data": {
            "text/plain": [
              "(162, 5)"
            ]
          },
          "metadata": {
            "tags": []
          },
          "execution_count": 386
        }
      ]
    },
    {
      "cell_type": "code",
      "metadata": {
        "id": "XyN8cVo5AZHB",
        "colab_type": "code",
        "outputId": "98df540a-5fe7-47bc-db28-3a352b7dcc6a",
        "colab": {
          "base_uri": "https://localhost:8080/",
          "height": 35
        }
      },
      "source": [
        "dfnovo.shape"
      ],
      "execution_count": 0,
      "outputs": [
        {
          "output_type": "execute_result",
          "data": {
            "text/plain": [
              "(1620, 5)"
            ]
          },
          "metadata": {
            "tags": []
          },
          "execution_count": 388
        }
      ]
    },
    {
      "cell_type": "code",
      "metadata": {
        "id": "59oYveuVGbmO",
        "colab_type": "code",
        "colab": {}
      },
      "source": [
        "# trata o arredondamento para a coluna UCF_D valores (0 ou 1)\n",
        "dfnovo[colUCF_D] = round(dfnovo[colUCF_D], 0)"
      ],
      "execution_count": 0,
      "outputs": []
    },
    {
      "cell_type": "code",
      "metadata": {
        "id": "3XYk3xsOBqc4",
        "colab_type": "code",
        "colab": {}
      },
      "source": [
        "#transformação da variável UCF_D\n",
        "df=pd.get_dummies(df,columns=[colUCF_D],drop_first=True)"
      ],
      "execution_count": 0,
      "outputs": []
    },
    {
      "cell_type": "code",
      "metadata": {
        "id": "A9_qh-3pCTWA",
        "colab_type": "code",
        "colab": {}
      },
      "source": [
        "#transformação da variável UCF_D\n",
        "dfnovo=pd.get_dummies(dfnovo,columns=['UCF_D'],drop_first=True)"
      ],
      "execution_count": 0,
      "outputs": []
    },
    {
      "cell_type": "code",
      "metadata": {
        "id": "RPVVA8G4C9ih",
        "colab_type": "code",
        "outputId": "b9935ee2-9f01-4729-a4f6-e8243342881d",
        "colab": {
          "base_uri": "https://localhost:8080/",
          "height": 206
        }
      },
      "source": [
        "df.head()"
      ],
      "execution_count": 0,
      "outputs": [
        {
          "output_type": "execute_result",
          "data": {
            "text/html": [
              "<div>\n",
              "<style scoped>\n",
              "    .dataframe tbody tr th:only-of-type {\n",
              "        vertical-align: middle;\n",
              "    }\n",
              "\n",
              "    .dataframe tbody tr th {\n",
              "        vertical-align: top;\n",
              "    }\n",
              "\n",
              "    .dataframe thead th {\n",
              "        text-align: right;\n",
              "    }\n",
              "</style>\n",
              "<table border=\"1\" class=\"dataframe\">\n",
              "  <thead>\n",
              "    <tr style=\"text-align: right;\">\n",
              "      <th></th>\n",
              "      <th>DEPT</th>\n",
              "      <th>PERMEABILITY</th>\n",
              "      <th>POROSITY</th>\n",
              "      <th>INTENSITY</th>\n",
              "      <th>UCF_D_2.0</th>\n",
              "      <th>UCF_D_3.0</th>\n",
              "    </tr>\n",
              "  </thead>\n",
              "  <tbody>\n",
              "    <tr>\n",
              "      <th>0</th>\n",
              "      <td>3410.438497</td>\n",
              "      <td>240.951645</td>\n",
              "      <td>0.140528</td>\n",
              "      <td>0.002880</td>\n",
              "      <td>0</td>\n",
              "      <td>0</td>\n",
              "    </tr>\n",
              "    <tr>\n",
              "      <th>1</th>\n",
              "      <td>3412.634966</td>\n",
              "      <td>240.951645</td>\n",
              "      <td>0.140528</td>\n",
              "      <td>0.002880</td>\n",
              "      <td>0</td>\n",
              "      <td>0</td>\n",
              "    </tr>\n",
              "    <tr>\n",
              "      <th>2</th>\n",
              "      <td>3412.637165</td>\n",
              "      <td>261.061340</td>\n",
              "      <td>0.204155</td>\n",
              "      <td>0.002619</td>\n",
              "      <td>0</td>\n",
              "      <td>0</td>\n",
              "    </tr>\n",
              "    <tr>\n",
              "      <th>3</th>\n",
              "      <td>3414.831979</td>\n",
              "      <td>261.061340</td>\n",
              "      <td>0.204155</td>\n",
              "      <td>0.002619</td>\n",
              "      <td>0</td>\n",
              "      <td>0</td>\n",
              "    </tr>\n",
              "    <tr>\n",
              "      <th>4</th>\n",
              "      <td>3414.834176</td>\n",
              "      <td>280.989838</td>\n",
              "      <td>0.193558</td>\n",
              "      <td>0.005349</td>\n",
              "      <td>0</td>\n",
              "      <td>0</td>\n",
              "    </tr>\n",
              "  </tbody>\n",
              "</table>\n",
              "</div>"
            ],
            "text/plain": [
              "          DEPT  PERMEABILITY  POROSITY  INTENSITY  UCF_D_2.0  UCF_D_3.0\n",
              "0  3410.438497    240.951645  0.140528   0.002880          0          0\n",
              "1  3412.634966    240.951645  0.140528   0.002880          0          0\n",
              "2  3412.637165    261.061340  0.204155   0.002619          0          0\n",
              "3  3414.831979    261.061340  0.204155   0.002619          0          0\n",
              "4  3414.834176    280.989838  0.193558   0.005349          0          0"
            ]
          },
          "metadata": {
            "tags": []
          },
          "execution_count": 394
        }
      ]
    },
    {
      "cell_type": "code",
      "metadata": {
        "id": "J9uCezt7DAEE",
        "colab_type": "code",
        "outputId": "74aa095d-f9e0-4748-8ea1-62fdddc28cc7",
        "colab": {
          "base_uri": "https://localhost:8080/",
          "height": 206
        }
      },
      "source": [
        "dfnovo.head()"
      ],
      "execution_count": 0,
      "outputs": [
        {
          "output_type": "execute_result",
          "data": {
            "text/html": [
              "<div>\n",
              "<style scoped>\n",
              "    .dataframe tbody tr th:only-of-type {\n",
              "        vertical-align: middle;\n",
              "    }\n",
              "\n",
              "    .dataframe tbody tr th {\n",
              "        vertical-align: top;\n",
              "    }\n",
              "\n",
              "    .dataframe thead th {\n",
              "        text-align: right;\n",
              "    }\n",
              "</style>\n",
              "<table border=\"1\" class=\"dataframe\">\n",
              "  <thead>\n",
              "    <tr style=\"text-align: right;\">\n",
              "      <th></th>\n",
              "      <th>DEPT</th>\n",
              "      <th>PERMEABILITY</th>\n",
              "      <th>POROSITY</th>\n",
              "      <th>INTENSITY</th>\n",
              "      <th>UCF_D_2.0</th>\n",
              "      <th>UCF_D_3.0</th>\n",
              "    </tr>\n",
              "  </thead>\n",
              "  <tbody>\n",
              "    <tr>\n",
              "      <th>0</th>\n",
              "      <td>3410.438497</td>\n",
              "      <td>0.000000</td>\n",
              "      <td>0.000000</td>\n",
              "      <td>0.000701</td>\n",
              "      <td>0</td>\n",
              "      <td>0</td>\n",
              "    </tr>\n",
              "    <tr>\n",
              "      <th>1</th>\n",
              "      <td>3410.546186</td>\n",
              "      <td>0.257590</td>\n",
              "      <td>0.000187</td>\n",
              "      <td>0.000704</td>\n",
              "      <td>0</td>\n",
              "      <td>0</td>\n",
              "    </tr>\n",
              "    <tr>\n",
              "      <th>2</th>\n",
              "      <td>3410.653876</td>\n",
              "      <td>0.515179</td>\n",
              "      <td>0.000374</td>\n",
              "      <td>0.000707</td>\n",
              "      <td>0</td>\n",
              "      <td>0</td>\n",
              "    </tr>\n",
              "    <tr>\n",
              "      <th>3</th>\n",
              "      <td>3410.761565</td>\n",
              "      <td>0.772769</td>\n",
              "      <td>0.000561</td>\n",
              "      <td>0.000710</td>\n",
              "      <td>0</td>\n",
              "      <td>0</td>\n",
              "    </tr>\n",
              "    <tr>\n",
              "      <th>4</th>\n",
              "      <td>3410.869254</td>\n",
              "      <td>1.030358</td>\n",
              "      <td>0.000748</td>\n",
              "      <td>0.000713</td>\n",
              "      <td>0</td>\n",
              "      <td>0</td>\n",
              "    </tr>\n",
              "  </tbody>\n",
              "</table>\n",
              "</div>"
            ],
            "text/plain": [
              "          DEPT  PERMEABILITY  POROSITY  INTENSITY  UCF_D_2.0  UCF_D_3.0\n",
              "0  3410.438497      0.000000  0.000000   0.000701          0          0\n",
              "1  3410.546186      0.257590  0.000187   0.000704          0          0\n",
              "2  3410.653876      0.515179  0.000374   0.000707          0          0\n",
              "3  3410.761565      0.772769  0.000561   0.000710          0          0\n",
              "4  3410.869254      1.030358  0.000748   0.000713          0          0"
            ]
          },
          "metadata": {
            "tags": []
          },
          "execution_count": 395
        }
      ]
    },
    {
      "cell_type": "code",
      "metadata": {
        "id": "bKEJxb2XHdL5",
        "colab_type": "code",
        "outputId": "5688f79f-792a-4bf4-87ac-f3b14b86bb4a",
        "colab": {
          "base_uri": "https://localhost:8080/",
          "height": 206
        }
      },
      "source": [
        "df.tail()"
      ],
      "execution_count": 0,
      "outputs": [
        {
          "output_type": "execute_result",
          "data": {
            "text/html": [
              "<div>\n",
              "<style scoped>\n",
              "    .dataframe tbody tr th:only-of-type {\n",
              "        vertical-align: middle;\n",
              "    }\n",
              "\n",
              "    .dataframe tbody tr th {\n",
              "        vertical-align: top;\n",
              "    }\n",
              "\n",
              "    .dataframe thead th {\n",
              "        text-align: right;\n",
              "    }\n",
              "</style>\n",
              "<table border=\"1\" class=\"dataframe\">\n",
              "  <thead>\n",
              "    <tr style=\"text-align: right;\">\n",
              "      <th></th>\n",
              "      <th>DEPT</th>\n",
              "      <th>PERMEABILITY</th>\n",
              "      <th>POROSITY</th>\n",
              "      <th>INTENSITY</th>\n",
              "      <th>UCF_D_2.0</th>\n",
              "      <th>UCF_D_3.0</th>\n",
              "    </tr>\n",
              "  </thead>\n",
              "  <tbody>\n",
              "    <tr>\n",
              "      <th>159</th>\n",
              "      <td>3580.491558</td>\n",
              "      <td>194.597748</td>\n",
              "      <td>0.229282</td>\n",
              "      <td>0.002523</td>\n",
              "      <td>0</td>\n",
              "      <td>0</td>\n",
              "    </tr>\n",
              "    <tr>\n",
              "      <th>160</th>\n",
              "      <td>3580.493708</td>\n",
              "      <td>82.377754</td>\n",
              "      <td>0.230196</td>\n",
              "      <td>0.001158</td>\n",
              "      <td>1</td>\n",
              "      <td>0</td>\n",
              "    </tr>\n",
              "    <tr>\n",
              "      <th>161</th>\n",
              "      <td>3582.639924</td>\n",
              "      <td>82.377754</td>\n",
              "      <td>0.230196</td>\n",
              "      <td>0.001158</td>\n",
              "      <td>1</td>\n",
              "      <td>0</td>\n",
              "    </tr>\n",
              "    <tr>\n",
              "      <th>162</th>\n",
              "      <td>3582.642072</td>\n",
              "      <td>95.544464</td>\n",
              "      <td>0.179122</td>\n",
              "      <td>0.003157</td>\n",
              "      <td>1</td>\n",
              "      <td>0</td>\n",
              "    </tr>\n",
              "    <tr>\n",
              "      <th>163</th>\n",
              "      <td>3584.787302</td>\n",
              "      <td>95.544464</td>\n",
              "      <td>0.179122</td>\n",
              "      <td>0.003157</td>\n",
              "      <td>1</td>\n",
              "      <td>0</td>\n",
              "    </tr>\n",
              "  </tbody>\n",
              "</table>\n",
              "</div>"
            ],
            "text/plain": [
              "            DEPT  PERMEABILITY  POROSITY  INTENSITY  UCF_D_2.0  UCF_D_3.0\n",
              "159  3580.491558    194.597748  0.229282   0.002523          0          0\n",
              "160  3580.493708     82.377754  0.230196   0.001158          1          0\n",
              "161  3582.639924     82.377754  0.230196   0.001158          1          0\n",
              "162  3582.642072     95.544464  0.179122   0.003157          1          0\n",
              "163  3584.787302     95.544464  0.179122   0.003157          1          0"
            ]
          },
          "metadata": {
            "tags": []
          },
          "execution_count": 397
        }
      ]
    },
    {
      "cell_type": "code",
      "metadata": {
        "id": "sKZ28YDaHiMy",
        "colab_type": "code",
        "outputId": "66e75a97-5207-42ba-b2b5-40a182454d3e",
        "colab": {
          "base_uri": "https://localhost:8080/",
          "height": 206
        }
      },
      "source": [
        "dfnovo.tail()"
      ],
      "execution_count": 0,
      "outputs": [
        {
          "output_type": "execute_result",
          "data": {
            "text/html": [
              "<div>\n",
              "<style scoped>\n",
              "    .dataframe tbody tr th:only-of-type {\n",
              "        vertical-align: middle;\n",
              "    }\n",
              "\n",
              "    .dataframe tbody tr th {\n",
              "        vertical-align: top;\n",
              "    }\n",
              "\n",
              "    .dataframe thead th {\n",
              "        text-align: right;\n",
              "    }\n",
              "</style>\n",
              "<table border=\"1\" class=\"dataframe\">\n",
              "  <thead>\n",
              "    <tr style=\"text-align: right;\">\n",
              "      <th></th>\n",
              "      <th>DEPT</th>\n",
              "      <th>PERMEABILITY</th>\n",
              "      <th>POROSITY</th>\n",
              "      <th>INTENSITY</th>\n",
              "      <th>UCF_D_2.0</th>\n",
              "      <th>UCF_D_3.0</th>\n",
              "    </tr>\n",
              "  </thead>\n",
              "  <tbody>\n",
              "    <tr>\n",
              "      <th>1615</th>\n",
              "      <td>3584.356546</td>\n",
              "      <td>416.007057</td>\n",
              "      <td>0.302090</td>\n",
              "      <td>0.005753</td>\n",
              "      <td>0</td>\n",
              "      <td>1</td>\n",
              "    </tr>\n",
              "    <tr>\n",
              "      <th>1616</th>\n",
              "      <td>3584.464235</td>\n",
              "      <td>416.264646</td>\n",
              "      <td>0.302277</td>\n",
              "      <td>0.005756</td>\n",
              "      <td>0</td>\n",
              "      <td>1</td>\n",
              "    </tr>\n",
              "    <tr>\n",
              "      <th>1617</th>\n",
              "      <td>3584.571924</td>\n",
              "      <td>416.522236</td>\n",
              "      <td>0.302464</td>\n",
              "      <td>0.005759</td>\n",
              "      <td>0</td>\n",
              "      <td>1</td>\n",
              "    </tr>\n",
              "    <tr>\n",
              "      <th>1618</th>\n",
              "      <td>3584.679613</td>\n",
              "      <td>416.779825</td>\n",
              "      <td>0.302651</td>\n",
              "      <td>0.005763</td>\n",
              "      <td>0</td>\n",
              "      <td>1</td>\n",
              "    </tr>\n",
              "    <tr>\n",
              "      <th>1619</th>\n",
              "      <td>3584.787302</td>\n",
              "      <td>417.037415</td>\n",
              "      <td>0.302838</td>\n",
              "      <td>0.005766</td>\n",
              "      <td>0</td>\n",
              "      <td>1</td>\n",
              "    </tr>\n",
              "  </tbody>\n",
              "</table>\n",
              "</div>"
            ],
            "text/plain": [
              "             DEPT  PERMEABILITY  POROSITY  INTENSITY  UCF_D_2.0  UCF_D_3.0\n",
              "1615  3584.356546    416.007057  0.302090   0.005753          0          1\n",
              "1616  3584.464235    416.264646  0.302277   0.005756          0          1\n",
              "1617  3584.571924    416.522236  0.302464   0.005759          0          1\n",
              "1618  3584.679613    416.779825  0.302651   0.005763          0          1\n",
              "1619  3584.787302    417.037415  0.302838   0.005766          0          1"
            ]
          },
          "metadata": {
            "tags": []
          },
          "execution_count": 398
        }
      ]
    },
    {
      "cell_type": "markdown",
      "metadata": {
        "id": "W3NU7MT1TL5a",
        "colab_type": "text"
      },
      "source": [
        "# 5 - Geração dos Modelos"
      ]
    },
    {
      "cell_type": "markdown",
      "metadata": {
        "id": "12wZPLaZTL5e",
        "colab_type": "text"
      },
      "source": [
        "## Métricas de Avaliação"
      ]
    },
    {
      "cell_type": "markdown",
      "metadata": {
        "id": "6-zPJTuBTL5h",
        "colab_type": "text"
      },
      "source": [
        "Serão utilizadas 2 métricas de avaliação para se medir o desempenho dos modelos\n",
        "- Erro Quadrado Médio (Mean Squared Error - MSE)\n",
        "\n",
        "Esse erro é dado pela média da soma dos quadrados das diferenças entre os valores previstos e os valores reais. Nesse caso, quanto menor o valor dessa métrica, melhor será o modelo.\n",
        "\n",
        "- Coeficiente de Determinação (R2)\n",
        "\n",
        "O coeficiente de determinação (R2) é um valor que indica o percentual de variabilidade da variável alvo que pode ser explicado pelo modelo. Um modelo perfeito possui um valor de R2 igual a 1 e um modelo constante, que sempre prevê como saída o valor médio da variável alvo, apresenta um valor de R2 igual a zero. Caso o resultado do modelo seja pior que a previsão pela média, o valor resultante de R2 será negativo.\n",
        "Dessa forma, quanto mais alto o valor de R2 (quanto mais próximo de 1), melhor será o modelo."
      ]
    },
    {
      "cell_type": "markdown",
      "metadata": {
        "id": "3_ITzTgmTL5m",
        "colab_type": "text"
      },
      "source": [
        "## 5.1 - Geração dos Modelos para Previsão da variável PERMEABILITY  "
      ]
    },
    {
      "cell_type": "markdown",
      "metadata": {
        "id": "ij-fgPuKTL5o",
        "colab_type": "text"
      },
      "source": [
        "### Separação das variáveis preditoras e da variável alvo"
      ]
    },
    {
      "cell_type": "code",
      "metadata": {
        "id": "7YHPNQFhTL5s",
        "colab_type": "code",
        "outputId": "3397b0f5-b6a0-4512-8d60-2f00576c4b92",
        "colab": {
          "base_uri": "https://localhost:8080/",
          "height": 206
        }
      },
      "source": [
        "df.head()"
      ],
      "execution_count": 0,
      "outputs": [
        {
          "output_type": "execute_result",
          "data": {
            "text/html": [
              "<div>\n",
              "<style scoped>\n",
              "    .dataframe tbody tr th:only-of-type {\n",
              "        vertical-align: middle;\n",
              "    }\n",
              "\n",
              "    .dataframe tbody tr th {\n",
              "        vertical-align: top;\n",
              "    }\n",
              "\n",
              "    .dataframe thead th {\n",
              "        text-align: right;\n",
              "    }\n",
              "</style>\n",
              "<table border=\"1\" class=\"dataframe\">\n",
              "  <thead>\n",
              "    <tr style=\"text-align: right;\">\n",
              "      <th></th>\n",
              "      <th>DEPT</th>\n",
              "      <th>PERMEABILITY</th>\n",
              "      <th>POROSITY</th>\n",
              "      <th>INTENSITY</th>\n",
              "      <th>UCF_D_2.0</th>\n",
              "      <th>UCF_D_3.0</th>\n",
              "    </tr>\n",
              "  </thead>\n",
              "  <tbody>\n",
              "    <tr>\n",
              "      <th>0</th>\n",
              "      <td>3410.438497</td>\n",
              "      <td>240.951645</td>\n",
              "      <td>0.140528</td>\n",
              "      <td>0.002880</td>\n",
              "      <td>0</td>\n",
              "      <td>0</td>\n",
              "    </tr>\n",
              "    <tr>\n",
              "      <th>1</th>\n",
              "      <td>3412.634966</td>\n",
              "      <td>240.951645</td>\n",
              "      <td>0.140528</td>\n",
              "      <td>0.002880</td>\n",
              "      <td>0</td>\n",
              "      <td>0</td>\n",
              "    </tr>\n",
              "    <tr>\n",
              "      <th>2</th>\n",
              "      <td>3412.637165</td>\n",
              "      <td>261.061340</td>\n",
              "      <td>0.204155</td>\n",
              "      <td>0.002619</td>\n",
              "      <td>0</td>\n",
              "      <td>0</td>\n",
              "    </tr>\n",
              "    <tr>\n",
              "      <th>3</th>\n",
              "      <td>3414.831979</td>\n",
              "      <td>261.061340</td>\n",
              "      <td>0.204155</td>\n",
              "      <td>0.002619</td>\n",
              "      <td>0</td>\n",
              "      <td>0</td>\n",
              "    </tr>\n",
              "    <tr>\n",
              "      <th>4</th>\n",
              "      <td>3414.834176</td>\n",
              "      <td>280.989838</td>\n",
              "      <td>0.193558</td>\n",
              "      <td>0.005349</td>\n",
              "      <td>0</td>\n",
              "      <td>0</td>\n",
              "    </tr>\n",
              "  </tbody>\n",
              "</table>\n",
              "</div>"
            ],
            "text/plain": [
              "          DEPT  PERMEABILITY  POROSITY  INTENSITY  UCF_D_2.0  UCF_D_3.0\n",
              "0  3410.438497    240.951645  0.140528   0.002880          0          0\n",
              "1  3412.634966    240.951645  0.140528   0.002880          0          0\n",
              "2  3412.637165    261.061340  0.204155   0.002619          0          0\n",
              "3  3414.831979    261.061340  0.204155   0.002619          0          0\n",
              "4  3414.834176    280.989838  0.193558   0.005349          0          0"
            ]
          },
          "metadata": {
            "tags": []
          },
          "execution_count": 402
        }
      ]
    },
    {
      "cell_type": "code",
      "metadata": {
        "id": "0lfR61ZNTL5-",
        "colab_type": "code",
        "outputId": "88553b1f-e45f-4c05-e33c-ad498fcb96f2",
        "colab": {
          "base_uri": "https://localhost:8080/",
          "height": 35
        }
      },
      "source": [
        "colunas_preditoras=['DEPT','POROSITY','INTENSITY','UCF_D_2.0','UCF_D_3.0']\n",
        "X=df[colunas_preditoras]\n",
        "y=df['PERMEABILITY']\n",
        "X.shape, y.shape"
      ],
      "execution_count": 0,
      "outputs": [
        {
          "output_type": "execute_result",
          "data": {
            "text/plain": [
              "((162, 5), (162,))"
            ]
          },
          "metadata": {
            "tags": []
          },
          "execution_count": 403
        }
      ]
    },
    {
      "cell_type": "code",
      "metadata": {
        "id": "JJgdwch7H_OD",
        "colab_type": "code",
        "outputId": "687ec3cb-f4ce-463f-e867-7bfe64b76db5",
        "colab": {
          "base_uri": "https://localhost:8080/",
          "height": 35
        }
      },
      "source": [
        "X_interpolado=dfnovo[colunas_preditoras]\n",
        "y_interpolado=dfnovo['PERMEABILITY']\n",
        "X_interpolado.shape, y_interpolado.shape"
      ],
      "execution_count": 0,
      "outputs": [
        {
          "output_type": "execute_result",
          "data": {
            "text/plain": [
              "((1620, 5), (1620,))"
            ]
          },
          "metadata": {
            "tags": []
          },
          "execution_count": 404
        }
      ]
    },
    {
      "cell_type": "markdown",
      "metadata": {
        "id": "pxoaxav2TL6U",
        "colab_type": "text"
      },
      "source": [
        "Como pode ser observado, a variável preditora (X) possui 5 colunas, e a variável alvo apenas 1 (que é o valor a ser predito)."
      ]
    },
    {
      "cell_type": "markdown",
      "metadata": {
        "id": "bEBJMq2aTL6X",
        "colab_type": "text"
      },
      "source": [
        "### Separação dos dados de teste e de treino"
      ]
    },
    {
      "cell_type": "markdown",
      "metadata": {
        "id": "wG8IZtKXTL6a",
        "colab_type": "text"
      },
      "source": [
        "A base de dados deve ser dividida, de forma que uma parte dos dados seja utilizado para a geração do modelo e a outra parte seja utilizada para a avaliação do modelo gerado.\n",
        "\n",
        "Sendo assim, o conjunto de dados será dividido de forma que 70% desses dados seja utilizado para a geração do modelo e 30% para a avaliação"
      ]
    },
    {
      "cell_type": "code",
      "metadata": {
        "id": "tK_mqcScTL6d",
        "colab_type": "code",
        "colab": {}
      },
      "source": [
        "X_train, X_test, y_train, y_test = train_test_split(X, y, test_size = 0.30, random_state=0)"
      ],
      "execution_count": 0,
      "outputs": []
    },
    {
      "cell_type": "code",
      "metadata": {
        "id": "kPd-BIddIWWL",
        "colab_type": "code",
        "colab": {}
      },
      "source": [
        "X_train_interpolado, X_test_interpolado, y_train_interpolado, y_test_interpolado = train_test_split(X_interpolado, y_interpolado, test_size = 0.30, random_state=0)"
      ],
      "execution_count": 0,
      "outputs": []
    },
    {
      "cell_type": "code",
      "metadata": {
        "id": "lvKVT3ANTL6r",
        "colab_type": "code",
        "outputId": "65e200e7-e6ed-4db2-dedb-9a9fb53ec861",
        "colab": {
          "base_uri": "https://localhost:8080/",
          "height": 35
        }
      },
      "source": [
        "X_train.shape , X_test.shape, y_train.shape, y_test.shape "
      ],
      "execution_count": 0,
      "outputs": [
        {
          "output_type": "execute_result",
          "data": {
            "text/plain": [
              "((113, 5), (49, 5), (113,), (49,))"
            ]
          },
          "metadata": {
            "tags": []
          },
          "execution_count": 407
        }
      ]
    },
    {
      "cell_type": "markdown",
      "metadata": {
        "id": "wnLFHH6EIzii",
        "colab_type": "text"
      },
      "source": [
        "Como pode ser visto, serão utilizados 113 registros para o treinamento do modelo, e 49 para o teste."
      ]
    },
    {
      "cell_type": "code",
      "metadata": {
        "id": "Vj-6YA1EIkN2",
        "colab_type": "code",
        "outputId": "07a393a7-a1b7-404a-d753-2ee1af16bcf1",
        "colab": {
          "base_uri": "https://localhost:8080/",
          "height": 35
        }
      },
      "source": [
        "X_train_interpolado.shape , X_test_interpolado.shape, y_train_interpolado.shape, y_test_interpolado.shape "
      ],
      "execution_count": 0,
      "outputs": [
        {
          "output_type": "execute_result",
          "data": {
            "text/plain": [
              "((1134, 5), (486, 5), (1134,), (486,))"
            ]
          },
          "metadata": {
            "tags": []
          },
          "execution_count": 408
        }
      ]
    },
    {
      "cell_type": "markdown",
      "metadata": {
        "id": "qAwWxf0-TL65",
        "colab_type": "text"
      },
      "source": [
        "Interpolados: Como pode ser visto, serão utilizados 1134 registros para o treinamento do modelo, e 486 para o teste."
      ]
    },
    {
      "cell_type": "markdown",
      "metadata": {
        "id": "N-V0C9tRTL67",
        "colab_type": "text"
      },
      "source": [
        "### Padronização dos dados"
      ]
    },
    {
      "cell_type": "code",
      "metadata": {
        "id": "kN5tQzR6TL6_",
        "colab_type": "code",
        "outputId": "569b546f-83af-4e8a-d49e-d050b4415b56",
        "colab": {
          "base_uri": "https://localhost:8080/",
          "height": 206
        }
      },
      "source": [
        "X_train.head()"
      ],
      "execution_count": 0,
      "outputs": [
        {
          "output_type": "execute_result",
          "data": {
            "text/html": [
              "<div>\n",
              "<style scoped>\n",
              "    .dataframe tbody tr th:only-of-type {\n",
              "        vertical-align: middle;\n",
              "    }\n",
              "\n",
              "    .dataframe tbody tr th {\n",
              "        vertical-align: top;\n",
              "    }\n",
              "\n",
              "    .dataframe thead th {\n",
              "        text-align: right;\n",
              "    }\n",
              "</style>\n",
              "<table border=\"1\" class=\"dataframe\">\n",
              "  <thead>\n",
              "    <tr style=\"text-align: right;\">\n",
              "      <th></th>\n",
              "      <th>DEPT</th>\n",
              "      <th>POROSITY</th>\n",
              "      <th>INTENSITY</th>\n",
              "      <th>UCF_D_2.0</th>\n",
              "      <th>UCF_D_3.0</th>\n",
              "    </tr>\n",
              "  </thead>\n",
              "  <tbody>\n",
              "    <tr>\n",
              "      <th>87</th>\n",
              "      <td>3502.484302</td>\n",
              "      <td>0.190019</td>\n",
              "      <td>0.002028</td>\n",
              "      <td>1</td>\n",
              "      <td>0</td>\n",
              "    </tr>\n",
              "    <tr>\n",
              "      <th>57</th>\n",
              "      <td>3469.571825</td>\n",
              "      <td>0.211876</td>\n",
              "      <td>0.004536</td>\n",
              "      <td>0</td>\n",
              "      <td>0</td>\n",
              "    </tr>\n",
              "    <tr>\n",
              "      <th>162</th>\n",
              "      <td>3582.642072</td>\n",
              "      <td>0.179122</td>\n",
              "      <td>0.003157</td>\n",
              "      <td>1</td>\n",
              "      <td>0</td>\n",
              "    </tr>\n",
              "    <tr>\n",
              "      <th>20</th>\n",
              "      <td>3430.162337</td>\n",
              "      <td>0.000000</td>\n",
              "      <td>0.004584</td>\n",
              "      <td>0</td>\n",
              "      <td>1</td>\n",
              "    </tr>\n",
              "    <tr>\n",
              "      <th>94</th>\n",
              "      <td>3509.040309</td>\n",
              "      <td>0.108074</td>\n",
              "      <td>0.002421</td>\n",
              "      <td>1</td>\n",
              "      <td>0</td>\n",
              "    </tr>\n",
              "  </tbody>\n",
              "</table>\n",
              "</div>"
            ],
            "text/plain": [
              "            DEPT  POROSITY  INTENSITY  UCF_D_2.0  UCF_D_3.0\n",
              "87   3502.484302  0.190019   0.002028          1          0\n",
              "57   3469.571825  0.211876   0.004536          0          0\n",
              "162  3582.642072  0.179122   0.003157          1          0\n",
              "20   3430.162337  0.000000   0.004584          0          1\n",
              "94   3509.040309  0.108074   0.002421          1          0"
            ]
          },
          "metadata": {
            "tags": []
          },
          "execution_count": 409
        }
      ]
    },
    {
      "cell_type": "code",
      "metadata": {
        "id": "Cp9G1WZiJBRd",
        "colab_type": "code",
        "outputId": "74debdd8-0e0c-408d-adb3-f2bc9eab8a43",
        "colab": {
          "base_uri": "https://localhost:8080/",
          "height": 206
        }
      },
      "source": [
        "X_train_interpolado.head()"
      ],
      "execution_count": 0,
      "outputs": [
        {
          "output_type": "execute_result",
          "data": {
            "text/html": [
              "<div>\n",
              "<style scoped>\n",
              "    .dataframe tbody tr th:only-of-type {\n",
              "        vertical-align: middle;\n",
              "    }\n",
              "\n",
              "    .dataframe tbody tr th {\n",
              "        vertical-align: top;\n",
              "    }\n",
              "\n",
              "    .dataframe thead th {\n",
              "        text-align: right;\n",
              "    }\n",
              "</style>\n",
              "<table border=\"1\" class=\"dataframe\">\n",
              "  <thead>\n",
              "    <tr style=\"text-align: right;\">\n",
              "      <th></th>\n",
              "      <th>DEPT</th>\n",
              "      <th>POROSITY</th>\n",
              "      <th>INTENSITY</th>\n",
              "      <th>UCF_D_2.0</th>\n",
              "      <th>UCF_D_3.0</th>\n",
              "    </tr>\n",
              "  </thead>\n",
              "  <tbody>\n",
              "    <tr>\n",
              "      <th>435</th>\n",
              "      <td>3457.283297</td>\n",
              "      <td>0.081368</td>\n",
              "      <td>0.002062</td>\n",
              "      <td>1</td>\n",
              "      <td>0</td>\n",
              "    </tr>\n",
              "    <tr>\n",
              "      <th>29</th>\n",
              "      <td>3413.561484</td>\n",
              "      <td>0.005425</td>\n",
              "      <td>0.000791</td>\n",
              "      <td>0</td>\n",
              "      <td>0</td>\n",
              "    </tr>\n",
              "    <tr>\n",
              "      <th>270</th>\n",
              "      <td>3439.514580</td>\n",
              "      <td>0.050504</td>\n",
              "      <td>0.001545</td>\n",
              "      <td>0</td>\n",
              "      <td>0</td>\n",
              "    </tr>\n",
              "    <tr>\n",
              "      <th>35</th>\n",
              "      <td>3414.207619</td>\n",
              "      <td>0.006547</td>\n",
              "      <td>0.000810</td>\n",
              "      <td>0</td>\n",
              "      <td>0</td>\n",
              "    </tr>\n",
              "    <tr>\n",
              "      <th>1416</th>\n",
              "      <td>3562.926396</td>\n",
              "      <td>0.264866</td>\n",
              "      <td>0.005131</td>\n",
              "      <td>0</td>\n",
              "      <td>1</td>\n",
              "    </tr>\n",
              "  </tbody>\n",
              "</table>\n",
              "</div>"
            ],
            "text/plain": [
              "             DEPT  POROSITY  INTENSITY  UCF_D_2.0  UCF_D_3.0\n",
              "435   3457.283297  0.081368   0.002062          1          0\n",
              "29    3413.561484  0.005425   0.000791          0          0\n",
              "270   3439.514580  0.050504   0.001545          0          0\n",
              "35    3414.207619  0.006547   0.000810          0          0\n",
              "1416  3562.926396  0.264866   0.005131          0          1"
            ]
          },
          "metadata": {
            "tags": []
          },
          "execution_count": 410
        }
      ]
    },
    {
      "cell_type": "markdown",
      "metadata": {
        "id": "ShCqM88bTL7M",
        "colab_type": "text"
      },
      "source": [
        "Conforme pode ser visto na célula acima as variáveis da base de dados possuem ordens de grandeza muito diferentes. \n",
        "- variáveis: UCF_D_2.0 e UCF_D_3.0 -> só apresentam valores zero ou um\n",
        "- variável: DEPT -> apresenta valores em torno de 3410\n",
        "- Variável: POROSITY -> apresenta valores em torno de 0.1, 0,2\n",
        "- variável: INTENSITY -> apresenta valores em torno de 0.002, 0.005\n",
        "\n",
        "Essa diferença de ordem de grandezas é prejudicial, e por isso esses dados devem ser colocados na mesma escala."
      ]
    },
    {
      "cell_type": "code",
      "metadata": {
        "id": "Qipr37LBTL7P",
        "colab_type": "code",
        "colab": {}
      },
      "source": [
        "from sklearn.preprocessing import StandardScaler\n",
        "sc = StandardScaler()\n",
        "X_train_scaled = sc.fit_transform(X_train)\n",
        "X_test_scaled = sc.transform(X_test)"
      ],
      "execution_count": 0,
      "outputs": []
    },
    {
      "cell_type": "code",
      "metadata": {
        "id": "CNRqwGIuTL7d",
        "colab_type": "code",
        "colab": {}
      },
      "source": [
        "X_train_scaled"
      ],
      "execution_count": 0,
      "outputs": []
    },
    {
      "cell_type": "code",
      "metadata": {
        "id": "zxKLKhFWJUbu",
        "colab_type": "code",
        "outputId": "39a59076-289d-48c0-d92a-68351e2b521d",
        "colab": {
          "base_uri": "https://localhost:8080/",
          "height": 146
        }
      },
      "source": [
        "X_train_interpolado_scaled = sc.fit_transform(X_train_interpolado)\n",
        "X_test_interpolado_scaled = sc.transform(X_test_interpolado)\n",
        "X_train_interpolado_scaled"
      ],
      "execution_count": 0,
      "outputs": [
        {
          "output_type": "execute_result",
          "data": {
            "text/plain": [
              "array([[-0.79511446, -0.79511446, -0.79511446,  1.00885757, -0.57395606],\n",
              "       [-1.66736274, -1.66736274, -1.66736274, -0.9912202 , -0.57395606],\n",
              "       [-1.1495996 , -1.1495996 , -1.1495996 , -0.9912202 , -0.57395606],\n",
              "       ...,\n",
              "       [ 0.88278185,  0.88278185,  0.88278185, -0.9912202 ,  1.74229366],\n",
              "       [-0.52871351, -0.52871351, -0.52871351,  1.00885757, -0.57395606],\n",
              "       [-0.26016417, -0.26016417, -0.26016417,  1.00885757, -0.57395606]])"
            ]
          },
          "metadata": {
            "tags": []
          },
          "execution_count": 415
        }
      ]
    },
    {
      "cell_type": "markdown",
      "metadata": {
        "id": "i3eQ68dTTL7r",
        "colab_type": "text"
      },
      "source": [
        "Como pode ser observado na célula acima, agora todos os valores estão mesma escala, o que é mais apropriado para algoritmos de Aprendizagem de Máquina."
      ]
    },
    {
      "cell_type": "markdown",
      "metadata": {
        "id": "M0ji84GlTL7t",
        "colab_type": "text"
      },
      "source": [
        "### Geração dos Modelos"
      ]
    },
    {
      "cell_type": "markdown",
      "metadata": {
        "id": "5EG00skqTL7w",
        "colab_type": "text"
      },
      "source": [
        "Testou-se o conjunto de dados preparado em 5 Algoritmos de aprendizagem de máquina para problemas de regressão distintos."
      ]
    },
    {
      "cell_type": "code",
      "metadata": {
        "id": "OYg769O6TL70",
        "colab_type": "code",
        "colab": {}
      },
      "source": [
        "from sklearn.linear_model import LinearRegression\n",
        "from sklearn.linear_model import Ridge\n",
        "from sklearn.linear_model import Lasso\n",
        "from sklearn.neighbors import KNeighborsRegressor\n",
        "from sklearn.tree import DecisionTreeRegressor\n",
        "from sklearn.svm import SVR\n"
      ],
      "execution_count": 0,
      "outputs": []
    },
    {
      "cell_type": "markdown",
      "metadata": {
        "id": "kl8nN53ATL8E",
        "colab_type": "text"
      },
      "source": [
        "#### Regressão Linear Simples"
      ]
    },
    {
      "cell_type": "code",
      "metadata": {
        "id": "abw51wdfTL8H",
        "colab_type": "code",
        "outputId": "a81087fd-5ca1-41d9-98ec-7ca7dec189e5",
        "colab": {
          "base_uri": "https://localhost:8080/",
          "height": 35
        }
      },
      "source": [
        "mdl=LinearRegression()\n",
        "mdl.fit(X_train_scaled, y_train)\n",
        "p=mdl.predict(X_test_scaled)\n",
        "r2=r2_score(y_test, p)\n",
        "mse=mean_squared_error(y_test, p)\n",
        "print(\"r2 = {} e MSE = {}\".format(r2,mse))"
      ],
      "execution_count": 523,
      "outputs": [
        {
          "output_type": "stream",
          "text": [
            "r2 = 0.9112316783449135 e MSE = 0.0007959484122641108\n"
          ],
          "name": "stdout"
        }
      ]
    },
    {
      "cell_type": "code",
      "metadata": {
        "id": "qJ7WZpaLXrJf",
        "colab_type": "code",
        "outputId": "624f24e2-aaca-44b4-bdc5-5e0fc622ffe5",
        "colab": {
          "base_uri": "https://localhost:8080/",
          "height": 35
        }
      },
      "source": [
        "mdl=LinearRegression()\n",
        "mdl.fit(X_train_interpolado_scaled, y_train_interpolado)\n",
        "p=mdl.predict(X_test_interpolado_scaled)\n",
        "r2=r2_score(y_test_interpolado, p)\n",
        "mse=mean_squared_error(y_test_interpolado, p)\n",
        "print(\"r2 = {} e MSE = {}\".format(r2,mse))"
      ],
      "execution_count": 524,
      "outputs": [
        {
          "output_type": "stream",
          "text": [
            "r2 = 1.0 e MSE = 4.261126946685473e-34\n"
          ],
          "name": "stdout"
        }
      ]
    },
    {
      "cell_type": "markdown",
      "metadata": {
        "id": "D3tIc4TrTL8Y",
        "colab_type": "text"
      },
      "source": [
        "#### Regressão Ridge"
      ]
    },
    {
      "cell_type": "code",
      "metadata": {
        "id": "wOzi7lrOTL8b",
        "colab_type": "code",
        "outputId": "1387f819-589a-4e0d-e3fc-d03ddefcb460",
        "colab": {
          "base_uri": "https://localhost:8080/",
          "height": 35
        }
      },
      "source": [
        "mdl=Ridge()\n",
        "mdl.fit(X_train_scaled, y_train)\n",
        "p=mdl.predict(X_test_scaled)\n",
        "r2=r2_score(y_test, p)\n",
        "mse=mean_squared_error(y_test, p)\n",
        "print(\"r2 = {} e MSE = {}\".format(r2,mse))"
      ],
      "execution_count": 525,
      "outputs": [
        {
          "output_type": "stream",
          "text": [
            "r2 = 0.9107661443937893 e MSE = 0.0008001226604907708\n"
          ],
          "name": "stdout"
        }
      ]
    },
    {
      "cell_type": "code",
      "metadata": {
        "id": "xK572wLzKBqp",
        "colab_type": "code",
        "outputId": "b589cb0e-54fa-4edc-808d-8b7a4331a086",
        "colab": {
          "base_uri": "https://localhost:8080/",
          "height": 35
        }
      },
      "source": [
        "mdl=Ridge()\n",
        "mdl.fit(X_train_interpolado_scaled, y_train_interpolado)\n",
        "p=mdl.predict(X_test_interpolado_scaled)\n",
        "r2=r2_score(y_test_interpolado, p)\n",
        "mse=mean_squared_error(y_test_interpolado, p)\n",
        "print(\"r2 = {} e MSE = {}\".format(r2,mse))"
      ],
      "execution_count": 526,
      "outputs": [
        {
          "output_type": "stream",
          "text": [
            "r2 = 0.9999994113785764 e MSE = 4.599220786369358e-09\n"
          ],
          "name": "stdout"
        }
      ]
    },
    {
      "cell_type": "markdown",
      "metadata": {
        "id": "NDlr4yEwTL9L",
        "colab_type": "text"
      },
      "source": [
        "#### Regressão Lasso"
      ]
    },
    {
      "cell_type": "code",
      "metadata": {
        "id": "ECqokc2CTL9N",
        "colab_type": "code",
        "outputId": "37e8f951-5db0-403a-dfce-352f01cf87d7",
        "colab": {
          "base_uri": "https://localhost:8080/",
          "height": 35
        }
      },
      "source": [
        "mdl=Lasso()\n",
        "mdl.fit(X_train_scaled, y_train)\n",
        "p=mdl.predict(X_test_scaled)\n",
        "r2=r2_score(y_test, p)\n",
        "mse=mean_squared_error(y_test, p)\n",
        "print(\"r2 = {} e MSE = {}\".format(r2,mse))"
      ],
      "execution_count": 527,
      "outputs": [
        {
          "output_type": "stream",
          "text": [
            "r2 = -0.01065686042346159 e MSE = 0.009062137352596786\n"
          ],
          "name": "stdout"
        }
      ]
    },
    {
      "cell_type": "code",
      "metadata": {
        "id": "tdAU65u4KeQL",
        "colab_type": "code",
        "outputId": "3bba8aa9-b419-4547-fc32-70ad0d4ed9de",
        "colab": {
          "base_uri": "https://localhost:8080/",
          "height": 35
        }
      },
      "source": [
        "mdl=Lasso()\n",
        "mdl.fit(X_train_interpolado_scaled, y_train_interpolado)\n",
        "p=mdl.predict(X_test_interpolado_scaled)\n",
        "r2=r2_score(y_test_interpolado, p)\n",
        "mse=mean_squared_error(y_test_interpolado, p)\n",
        "print(\"r2 = {} e MSE = {}\".format(r2,mse))"
      ],
      "execution_count": 528,
      "outputs": [
        {
          "output_type": "stream",
          "text": [
            "r2 = -0.0009645677918299622 e MSE = 0.007821083062533712\n"
          ],
          "name": "stdout"
        }
      ]
    },
    {
      "cell_type": "markdown",
      "metadata": {
        "id": "YnvmnkjXTL9k",
        "colab_type": "text"
      },
      "source": [
        "#### KNN Regressor"
      ]
    },
    {
      "cell_type": "code",
      "metadata": {
        "id": "mXDREd3ZTL9o",
        "colab_type": "code",
        "outputId": "b80f55dd-6414-42c8-805b-e2f32866713c",
        "colab": {
          "base_uri": "https://localhost:8080/",
          "height": 35
        }
      },
      "source": [
        "mdl=KNeighborsRegressor()\n",
        "mdl.fit(X_train_scaled, y_train)\n",
        "p=mdl.predict(X_test_scaled)\n",
        "r2=r2_score(y_test, p)\n",
        "mse=mean_squared_error(y_test, p)\n",
        "print(\"r2 = {} e MSE = {}\".format(r2,mse))"
      ],
      "execution_count": 529,
      "outputs": [
        {
          "output_type": "stream",
          "text": [
            "r2 = 0.8451925366992816 e MSE = 0.001388093774033644\n"
          ],
          "name": "stdout"
        }
      ]
    },
    {
      "cell_type": "code",
      "metadata": {
        "id": "pDLLeaW0KtqP",
        "colab_type": "code",
        "outputId": "3e6251c6-b4b7-4a88-809e-96c19ddd05c5",
        "colab": {
          "base_uri": "https://localhost:8080/",
          "height": 35
        }
      },
      "source": [
        "mdl=KNeighborsRegressor()\n",
        "mdl.fit(X_train_interpolado_scaled, y_train_interpolado)\n",
        "p=mdl.predict(X_test_interpolado_scaled)\n",
        "r2=r2_score(y_test_interpolado, p)\n",
        "mse=mean_squared_error(y_test_interpolado, p)\n",
        "print(\"r2 = {} e MSE = {}\".format(r2,mse))"
      ],
      "execution_count": 530,
      "outputs": [
        {
          "output_type": "stream",
          "text": [
            "r2 = 0.99999632550955 e MSE = 2.871080150792762e-08\n"
          ],
          "name": "stdout"
        }
      ]
    },
    {
      "cell_type": "markdown",
      "metadata": {
        "id": "pGK5w0iQTL97",
        "colab_type": "text"
      },
      "source": [
        "#### DecisionTreeRegressor"
      ]
    },
    {
      "cell_type": "code",
      "metadata": {
        "id": "eKLFYZg0TL9_",
        "colab_type": "code",
        "outputId": "9aa211f7-570d-4202-cdbd-bb4c07fdaaf1",
        "colab": {
          "base_uri": "https://localhost:8080/",
          "height": 35
        }
      },
      "source": [
        "mdl=DecisionTreeRegressor()\n",
        "mdl.fit(X_train_scaled, y_train)\n",
        "p=mdl.predict(X_test_scaled)\n",
        "r2=r2_score(y_test, p)\n",
        "mse=mean_squared_error(y_test, p)\n",
        "print(\"r2 = {} e MSE = {}\".format(r2,mse))"
      ],
      "execution_count": 531,
      "outputs": [
        {
          "output_type": "stream",
          "text": [
            "r2 = 0.9542323122821544 e MSE = 0.00041037971308688587\n"
          ],
          "name": "stdout"
        }
      ]
    },
    {
      "cell_type": "code",
      "metadata": {
        "id": "e_P4Hwo4LCOA",
        "colab_type": "code",
        "outputId": "0dfdaec9-9d54-4ad0-e8e3-175dd7a6978c",
        "colab": {
          "base_uri": "https://localhost:8080/",
          "height": 35
        }
      },
      "source": [
        "mdl=DecisionTreeRegressor()\n",
        "mdl.fit(X_train_interpolado_scaled, y_train_interpolado)\n",
        "p=mdl.predict(X_test_interpolado_scaled)\n",
        "r2=r2_score(y_test_interpolado, p)\n",
        "mse=mean_squared_error(y_test_interpolado, p)\n",
        "print(\"r2 = {} e MSE = {}\".format(r2,mse))"
      ],
      "execution_count": 532,
      "outputs": [
        {
          "output_type": "stream",
          "text": [
            "r2 = 0.9999789956448243 e MSE = 1.641185030822661e-07\n"
          ],
          "name": "stdout"
        }
      ]
    },
    {
      "cell_type": "markdown",
      "metadata": {
        "id": "xwXlqcpETL_V",
        "colab_type": "text"
      },
      "source": [
        "#### Regressor SVM"
      ]
    },
    {
      "cell_type": "code",
      "metadata": {
        "id": "zehW7wpVTL_Z",
        "colab_type": "code",
        "outputId": "c78388cf-0adb-4979-f9ed-797e6b4d87f1",
        "colab": {
          "base_uri": "https://localhost:8080/",
          "height": 35
        }
      },
      "source": [
        "mdl=SVR(C = 1000, gamma = 0.1)\n",
        "mdl.fit(X_train_scaled, y_train)\n",
        "p=mdl.predict(X_test_scaled)\n",
        "r2=r2_score(y_test, p)\n",
        "mse=mean_squared_error(y_test, p)\n",
        "print(\"r2 = {} e MSE = {}\".format(r2,mse))"
      ],
      "execution_count": 533,
      "outputs": [
        {
          "output_type": "stream",
          "text": [
            "r2 = 0.4413077227026615 e MSE = 0.005009559973285311\n"
          ],
          "name": "stdout"
        }
      ]
    },
    {
      "cell_type": "code",
      "metadata": {
        "id": "7nHlG6XILP4-",
        "colab_type": "code",
        "outputId": "baa7bfee-3ddf-42fb-c6a8-1bdfc1a1ae0f",
        "colab": {
          "base_uri": "https://localhost:8080/",
          "height": 35
        }
      },
      "source": [
        "mdl=SVR(C = 1000, gamma = 0.1)\n",
        "mdl.fit(X_train_interpolado_scaled, y_train_interpolado)\n",
        "p=mdl.predict(X_test_interpolado_scaled)\n",
        "r2=r2_score(y_test_interpolado, p)\n",
        "mse=mean_squared_error(y_test_interpolado, p)\n",
        "print(\"r2 = {} e MSE = {}\".format(r2,mse))"
      ],
      "execution_count": 534,
      "outputs": [
        {
          "output_type": "stream",
          "text": [
            "r2 = 0.6073908621912172 e MSE = 0.003067669702521211\n"
          ],
          "name": "stdout"
        }
      ]
    },
    {
      "cell_type": "markdown",
      "metadata": {
        "id": "f86WvK82TL_u",
        "colab_type": "text"
      },
      "source": [
        "#### Gradient Boosting Regressor"
      ]
    },
    {
      "cell_type": "code",
      "metadata": {
        "id": "aKXApzsoTL_y",
        "colab_type": "code",
        "outputId": "451e7797-483b-4189-f096-570f9c66cfb5",
        "colab": {
          "base_uri": "https://localhost:8080/",
          "height": 35
        }
      },
      "source": [
        "mdl=GradientBoostingRegressor()\n",
        "mdl.fit(X_train_scaled, y_train)\n",
        "p=mdl.predict(X_test_scaled)\n",
        "r2=r2_score(y_test, p)\n",
        "mse=mean_squared_error(y_test, p)\n",
        "print(\"r2 = {} e MSE = {}\".format(r2,mse))"
      ],
      "execution_count": 535,
      "outputs": [
        {
          "output_type": "stream",
          "text": [
            "r2 = 0.9688559333922105 e MSE = 0.00027925581903234353\n"
          ],
          "name": "stdout"
        }
      ]
    },
    {
      "cell_type": "code",
      "metadata": {
        "id": "-JFyuKsELg8B",
        "colab_type": "code",
        "outputId": "0d0ba195-d630-45dd-93cb-bbae38444843",
        "colab": {
          "base_uri": "https://localhost:8080/",
          "height": 35
        }
      },
      "source": [
        "mdl=GradientBoostingRegressor()\n",
        "mdl.fit(X_train_interpolado_scaled, y_train_interpolado)\n",
        "p=mdl.predict(X_test_interpolado_scaled)\n",
        "r2=r2_score(y_test_interpolado, p)\n",
        "mse=mean_squared_error(y_test_interpolado, p)\n",
        "print(\"r2 = {} e MSE = {}\".format(r2,mse))"
      ],
      "execution_count": 536,
      "outputs": [
        {
          "output_type": "stream",
          "text": [
            "r2 = 0.9999362844805118 e MSE = 4.978441658422641e-07\n"
          ],
          "name": "stdout"
        }
      ]
    },
    {
      "cell_type": "markdown",
      "metadata": {
        "id": "pJCNxNu3TMAE",
        "colab_type": "text"
      },
      "source": [
        "### Otimização de Parâmetros"
      ]
    },
    {
      "cell_type": "code",
      "metadata": {
        "id": "a89zIunUTMAH",
        "colab_type": "code",
        "outputId": "747ca72d-3f2b-4578-fd57-884951e60c25",
        "colab": {
          "base_uri": "https://localhost:8080/",
          "height": 182
        }
      },
      "source": [
        "GradientBoostingRegressor()"
      ],
      "execution_count": 537,
      "outputs": [
        {
          "output_type": "execute_result",
          "data": {
            "text/plain": [
              "GradientBoostingRegressor(alpha=0.9, ccp_alpha=0.0, criterion='friedman_mse',\n",
              "                          init=None, learning_rate=0.1, loss='ls', max_depth=3,\n",
              "                          max_features=None, max_leaf_nodes=None,\n",
              "                          min_impurity_decrease=0.0, min_impurity_split=None,\n",
              "                          min_samples_leaf=1, min_samples_split=2,\n",
              "                          min_weight_fraction_leaf=0.0, n_estimators=100,\n",
              "                          n_iter_no_change=None, presort='deprecated',\n",
              "                          random_state=None, subsample=1.0, tol=0.0001,\n",
              "                          validation_fraction=0.1, verbose=0, warm_start=False)"
            ]
          },
          "metadata": {
            "tags": []
          },
          "execution_count": 537
        }
      ]
    },
    {
      "cell_type": "code",
      "metadata": {
        "id": "57ulJ3ffTMAh",
        "colab_type": "code",
        "outputId": "784d4057-143f-49bc-8dd1-af45cf153f77",
        "colab": {
          "base_uri": "https://localhost:8080/",
          "height": 495
        }
      },
      "source": [
        "from sklearn.model_selection import GridSearchCV\n",
        "from sklearn.ensemble import GradientBoostingRegressor\n",
        "num_estimators = [500,1000]\n",
        "learn_rates = [0.02, 0.05]\n",
        "max_depths = [1, 2]\n",
        "min_samples_leaf = [5,10]\n",
        "min_samples_split = [5,10]\n",
        "\n",
        "param_grid = {'n_estimators': num_estimators,\n",
        "              'learning_rate': learn_rates,\n",
        "              'max_depth': max_depths,\n",
        "              'min_samples_leaf': min_samples_leaf,\n",
        "              'min_samples_split': min_samples_split}\n",
        "\n",
        "gbr=GradientBoostingRegressor()\n",
        "mdl = GridSearchCV(gbr, param_grid)\n",
        "mdl.fit(X_train_scaled, y_train)\n"
      ],
      "execution_count": 538,
      "outputs": [
        {
          "output_type": "execute_result",
          "data": {
            "text/plain": [
              "GridSearchCV(cv=None, error_score=nan,\n",
              "             estimator=GradientBoostingRegressor(alpha=0.9, ccp_alpha=0.0,\n",
              "                                                 criterion='friedman_mse',\n",
              "                                                 init=None, learning_rate=0.1,\n",
              "                                                 loss='ls', max_depth=3,\n",
              "                                                 max_features=None,\n",
              "                                                 max_leaf_nodes=None,\n",
              "                                                 min_impurity_decrease=0.0,\n",
              "                                                 min_impurity_split=None,\n",
              "                                                 min_samples_leaf=1,\n",
              "                                                 min_samples_split=2,\n",
              "                                                 min_weight_fraction_leaf=0.0,\n",
              "                                                 n_estimators=100,\n",
              "                                                 n_ite...\n",
              "                                                 presort='deprecated',\n",
              "                                                 random_state=None,\n",
              "                                                 subsample=1.0, tol=0.0001,\n",
              "                                                 validation_fraction=0.1,\n",
              "                                                 verbose=0, warm_start=False),\n",
              "             iid='deprecated', n_jobs=None,\n",
              "             param_grid={'learning_rate': [0.02, 0.05], 'max_depth': [1, 2],\n",
              "                         'min_samples_leaf': [5, 10],\n",
              "                         'min_samples_split': [5, 10],\n",
              "                         'n_estimators': [500, 1000]},\n",
              "             pre_dispatch='2*n_jobs', refit=True, return_train_score=False,\n",
              "             scoring=None, verbose=0)"
            ]
          },
          "metadata": {
            "tags": []
          },
          "execution_count": 538
        }
      ]
    },
    {
      "cell_type": "code",
      "metadata": {
        "id": "-JLa2ldbTMAu",
        "colab_type": "code",
        "outputId": "9f841d7f-65be-444d-f484-51b604b84791",
        "colab": {
          "base_uri": "https://localhost:8080/",
          "height": 35
        }
      },
      "source": [
        "p=mdl.predict(X_test_scaled)\n",
        "r2=r2_score(y_test, p)\n",
        "mse=mean_squared_error(y_test, p)\n",
        "print(\"r2 = {} e MSE = {}\".format(r2,mse))"
      ],
      "execution_count": 539,
      "outputs": [
        {
          "output_type": "stream",
          "text": [
            "r2 = 0.9427232282991602 e MSE = 0.0005135768554016037\n"
          ],
          "name": "stdout"
        }
      ]
    },
    {
      "cell_type": "code",
      "metadata": {
        "id": "76DVOA87TMA-",
        "colab_type": "code",
        "colab": {}
      },
      "source": [
        "y_Real_PERMEABILITY=y_test\n",
        "y_Predito_PERMEABILITY=p"
      ],
      "execution_count": 0,
      "outputs": []
    },
    {
      "cell_type": "code",
      "metadata": {
        "id": "5bU4z0dQTMBM",
        "colab_type": "code",
        "outputId": "869853be-9848-4226-f1c9-666bb75e74e0",
        "colab": {
          "base_uri": "https://localhost:8080/",
          "height": 109
        }
      },
      "source": [
        "mdl.best_params_"
      ],
      "execution_count": 541,
      "outputs": [
        {
          "output_type": "execute_result",
          "data": {
            "text/plain": [
              "{'learning_rate': 0.05,\n",
              " 'max_depth': 2,\n",
              " 'min_samples_leaf': 10,\n",
              " 'min_samples_split': 5,\n",
              " 'n_estimators': 1000}"
            ]
          },
          "metadata": {
            "tags": []
          },
          "execution_count": 541
        }
      ]
    },
    {
      "cell_type": "markdown",
      "metadata": {
        "id": "iQUMWyYJTMBb",
        "colab_type": "text"
      },
      "source": [
        "Como pode ser observado, após a otimização houve uma melhora no resultado, sendo assim, esse será o modelo final escolhido para a realização das predições da variável PERMEABILITY."
      ]
    },
    {
      "cell_type": "code",
      "metadata": {
        "id": "HTv-T69RMUOy",
        "colab_type": "code",
        "outputId": "f00dead8-6bc0-4b5b-d999-2b1a65297e92",
        "colab": {
          "base_uri": "https://localhost:8080/",
          "height": 495
        }
      },
      "source": [
        "from sklearn.model_selection import GridSearchCV\n",
        "from sklearn.ensemble import GradientBoostingRegressor\n",
        "num_estimators = [500,1000]\n",
        "learn_rates = [0.02, 0.05]\n",
        "max_depths = [1, 2]\n",
        "min_samples_leaf = [5,10]\n",
        "min_samples_split = [5,10]\n",
        "\n",
        "param_grid = {'n_estimators': num_estimators,\n",
        "              'learning_rate': learn_rates,\n",
        "              'max_depth': max_depths,\n",
        "              'min_samples_leaf': min_samples_leaf,\n",
        "              'min_samples_split': min_samples_split}\n",
        "\n",
        "gbr=GradientBoostingRegressor()\n",
        "mdl = GridSearchCV(gbr, param_grid)\n",
        "mdl.fit(X_train_interpolado_scaled, y_train_interpolado)"
      ],
      "execution_count": 542,
      "outputs": [
        {
          "output_type": "execute_result",
          "data": {
            "text/plain": [
              "GridSearchCV(cv=None, error_score=nan,\n",
              "             estimator=GradientBoostingRegressor(alpha=0.9, ccp_alpha=0.0,\n",
              "                                                 criterion='friedman_mse',\n",
              "                                                 init=None, learning_rate=0.1,\n",
              "                                                 loss='ls', max_depth=3,\n",
              "                                                 max_features=None,\n",
              "                                                 max_leaf_nodes=None,\n",
              "                                                 min_impurity_decrease=0.0,\n",
              "                                                 min_impurity_split=None,\n",
              "                                                 min_samples_leaf=1,\n",
              "                                                 min_samples_split=2,\n",
              "                                                 min_weight_fraction_leaf=0.0,\n",
              "                                                 n_estimators=100,\n",
              "                                                 n_ite...\n",
              "                                                 presort='deprecated',\n",
              "                                                 random_state=None,\n",
              "                                                 subsample=1.0, tol=0.0001,\n",
              "                                                 validation_fraction=0.1,\n",
              "                                                 verbose=0, warm_start=False),\n",
              "             iid='deprecated', n_jobs=None,\n",
              "             param_grid={'learning_rate': [0.02, 0.05], 'max_depth': [1, 2],\n",
              "                         'min_samples_leaf': [5, 10],\n",
              "                         'min_samples_split': [5, 10],\n",
              "                         'n_estimators': [500, 1000]},\n",
              "             pre_dispatch='2*n_jobs', refit=True, return_train_score=False,\n",
              "             scoring=None, verbose=0)"
            ]
          },
          "metadata": {
            "tags": []
          },
          "execution_count": 542
        }
      ]
    },
    {
      "cell_type": "code",
      "metadata": {
        "id": "TJqtyKtRMzDK",
        "colab_type": "code",
        "outputId": "9ebfb245-7edf-4b70-f806-cd22e03c0cca",
        "colab": {
          "base_uri": "https://localhost:8080/",
          "height": 35
        }
      },
      "source": [
        "p=mdl.predict(X_test_interpolado_scaled)\n",
        "r2=r2_score(y_test_interpolado, p)\n",
        "mse=mean_squared_error(y_test_interpolado, p)\n",
        "print(\"r2 = {} e MSE = {}\".format(r2,mse))"
      ],
      "execution_count": 543,
      "outputs": [
        {
          "output_type": "stream",
          "text": [
            "r2 = 0.9999772307512487 e MSE = 1.7790858086852473e-07\n"
          ],
          "name": "stdout"
        }
      ]
    },
    {
      "cell_type": "code",
      "metadata": {
        "id": "-WQ9WRdnM3YN",
        "colab_type": "code",
        "colab": {}
      },
      "source": [
        "y_Real_PERMEABILITY_interpolado=y_test_interpolado\n",
        "y_Predito_PERMEABILITY_interpolado=p"
      ],
      "execution_count": 0,
      "outputs": []
    },
    {
      "cell_type": "code",
      "metadata": {
        "id": "5kqIkGuhM3o3",
        "colab_type": "code",
        "outputId": "696f1f4a-1776-4c6a-8614-caa982a7900c",
        "colab": {
          "base_uri": "https://localhost:8080/",
          "height": 109
        }
      },
      "source": [
        "mdl.best_params_"
      ],
      "execution_count": 545,
      "outputs": [
        {
          "output_type": "execute_result",
          "data": {
            "text/plain": [
              "{'learning_rate': 0.02,\n",
              " 'max_depth': 2,\n",
              " 'min_samples_leaf': 5,\n",
              " 'min_samples_split': 5,\n",
              " 'n_estimators': 500}"
            ]
          },
          "metadata": {
            "tags": []
          },
          "execution_count": 545
        }
      ]
    },
    {
      "cell_type": "markdown",
      "metadata": {
        "id": "w_B_md7oTMBg",
        "colab_type": "text"
      },
      "source": [
        "## 5.2 - Geração dos Modelos para Previsão da variável POROSITY  "
      ]
    },
    {
      "cell_type": "markdown",
      "metadata": {
        "id": "7WM9V_4lTMBl",
        "colab_type": "text"
      },
      "source": [
        "### Separação das variáveis preditoras e da variável alvo"
      ]
    },
    {
      "cell_type": "code",
      "metadata": {
        "id": "AcIcf3HSTMBn",
        "colab_type": "code",
        "outputId": "6fc66540-e662-4558-ea68-90db9aa29749",
        "colab": {
          "base_uri": "https://localhost:8080/",
          "height": 35
        }
      },
      "source": [
        "colunas_preditoras=['DEPT','PERMEABILITY','INTENSITY','UCF_D_2.0','UCF_D_3.0']\n",
        "X=df[colunas_preditoras]\n",
        "y=df['POROSITY']\n",
        "X.shape, y.shape"
      ],
      "execution_count": 546,
      "outputs": [
        {
          "output_type": "execute_result",
          "data": {
            "text/plain": [
              "((162, 5), (162,))"
            ]
          },
          "metadata": {
            "tags": []
          },
          "execution_count": 546
        }
      ]
    },
    {
      "cell_type": "code",
      "metadata": {
        "id": "uh5cp5HyNiUI",
        "colab_type": "code",
        "outputId": "f1613a88-ac4d-4f65-9e6d-73cf786d565e",
        "colab": {
          "base_uri": "https://localhost:8080/",
          "height": 35
        }
      },
      "source": [
        "X_interpolado=dfnovo[colunas_preditoras]\n",
        "y_interpolado=dfnovo['POROSITY']\n",
        "X_interpolado.shape, y_interpolado.shape"
      ],
      "execution_count": 547,
      "outputs": [
        {
          "output_type": "execute_result",
          "data": {
            "text/plain": [
              "((1620, 5), (1620,))"
            ]
          },
          "metadata": {
            "tags": []
          },
          "execution_count": 547
        }
      ]
    },
    {
      "cell_type": "markdown",
      "metadata": {
        "id": "U2R-NQLfTMBy",
        "colab_type": "text"
      },
      "source": [
        "### Separação dos dados de teste e de treino"
      ]
    },
    {
      "cell_type": "code",
      "metadata": {
        "id": "0IodpYOXTMB0",
        "colab_type": "code",
        "colab": {}
      },
      "source": [
        "X_train, X_test, y_train, y_test = train_test_split(X, y, test_size = 0.30, random_state=0)"
      ],
      "execution_count": 0,
      "outputs": []
    },
    {
      "cell_type": "code",
      "metadata": {
        "id": "qbdcsK9kNzCt",
        "colab_type": "code",
        "colab": {}
      },
      "source": [
        "X_train_interpolado, X_test_interpolado, y_train_interpolado, y_test_interpolado = train_test_split(X_interpolado, y_interpolado, test_size = 0.30, random_state=0)"
      ],
      "execution_count": 0,
      "outputs": []
    },
    {
      "cell_type": "markdown",
      "metadata": {
        "id": "4e60AE8sTMCB",
        "colab_type": "text"
      },
      "source": [
        "### Padronização dos dados"
      ]
    },
    {
      "cell_type": "code",
      "metadata": {
        "id": "YvBmbI_MTMCF",
        "colab_type": "code",
        "colab": {}
      },
      "source": [
        "from sklearn.preprocessing import StandardScaler\n",
        "sc = StandardScaler()\n",
        "X_train_scaled = sc.fit_transform(X_train)\n",
        "X_test_scaled = sc.transform(X_test)"
      ],
      "execution_count": 0,
      "outputs": []
    },
    {
      "cell_type": "code",
      "metadata": {
        "id": "DSy7tSVVOCxD",
        "colab_type": "code",
        "colab": {}
      },
      "source": [
        "X_train_interpolado_scaled = sc.fit_transform(X_train_interpolado)\n",
        "X_test_interpolado_scaled = sc.transform(X_test_interpolado)"
      ],
      "execution_count": 0,
      "outputs": []
    },
    {
      "cell_type": "markdown",
      "metadata": {
        "id": "40kti1txTMCZ",
        "colab_type": "text"
      },
      "source": [
        "#### Regressão Linear Simples"
      ]
    },
    {
      "cell_type": "code",
      "metadata": {
        "id": "DFrh8AGrTMCc",
        "colab_type": "code",
        "outputId": "9c660692-838d-4f4f-d50e-dbc540b3a3cb",
        "colab": {
          "base_uri": "https://localhost:8080/",
          "height": 35
        }
      },
      "source": [
        "mdl=LinearRegression()\n",
        "mdl.fit(X_train_scaled, y_train)\n",
        "p=mdl.predict(X_test_scaled)\n",
        "r2=r2_score(y_test, p)\n",
        "mse=mean_squared_error(y_test, p)\n",
        "print(\"r2 = {} e MSE = {}\".format(r2,mse))"
      ],
      "execution_count": 552,
      "outputs": [
        {
          "output_type": "stream",
          "text": [
            "r2 = 0.9112316783449135 e MSE = 0.0007959484122641108\n"
          ],
          "name": "stdout"
        }
      ]
    },
    {
      "cell_type": "code",
      "metadata": {
        "id": "RlNaYONgTMCq",
        "colab_type": "code",
        "outputId": "b452e114-aa2c-43eb-a588-e1c66fe2a3d3",
        "colab": {
          "base_uri": "https://localhost:8080/",
          "height": 35
        }
      },
      "source": [
        "mean_squared_error(y_test, p)"
      ],
      "execution_count": 553,
      "outputs": [
        {
          "output_type": "execute_result",
          "data": {
            "text/plain": [
              "0.0007959484122641108"
            ]
          },
          "metadata": {
            "tags": []
          },
          "execution_count": 553
        }
      ]
    },
    {
      "cell_type": "code",
      "metadata": {
        "id": "PQVN9c5YOOwQ",
        "colab_type": "code",
        "outputId": "7085df66-9129-4606-e68d-16e2dc9bdb52",
        "colab": {
          "base_uri": "https://localhost:8080/",
          "height": 35
        }
      },
      "source": [
        "mdl=LinearRegression()\n",
        "mdl.fit(X_train_interpolado_scaled, y_train_interpolado)\n",
        "p=mdl.predict(X_test_interpolado_scaled)\n",
        "r2=r2_score(y_test_interpolado, p)\n",
        "mse=mean_squared_error(y_test_interpolado, p)\n",
        "print(\"r2 = {} e MSE = {}\".format(r2,mse))"
      ],
      "execution_count": 554,
      "outputs": [
        {
          "output_type": "stream",
          "text": [
            "r2 = 1.0 e MSE = 4.261126946685473e-34\n"
          ],
          "name": "stdout"
        }
      ]
    },
    {
      "cell_type": "code",
      "metadata": {
        "id": "elWMwgfHOmt4",
        "colab_type": "code",
        "outputId": "bc10816f-d229-4d2a-f32f-cb238c4e74c4",
        "colab": {
          "base_uri": "https://localhost:8080/",
          "height": 35
        }
      },
      "source": [
        "mean_squared_error(y_test_interpolado, p)"
      ],
      "execution_count": 555,
      "outputs": [
        {
          "output_type": "execute_result",
          "data": {
            "text/plain": [
              "4.261126946685473e-34"
            ]
          },
          "metadata": {
            "tags": []
          },
          "execution_count": 555
        }
      ]
    },
    {
      "cell_type": "markdown",
      "metadata": {
        "id": "ZT1VMy4qTMC3",
        "colab_type": "text"
      },
      "source": [
        "#### Regressão Ridge"
      ]
    },
    {
      "cell_type": "code",
      "metadata": {
        "id": "jjbRcLpeTMC4",
        "colab_type": "code",
        "outputId": "70b521b8-5ddb-4b2b-9df4-bca8026f3776",
        "colab": {
          "base_uri": "https://localhost:8080/",
          "height": 35
        }
      },
      "source": [
        "mdl=Ridge()\n",
        "mdl.fit(X_train_scaled, y_train)\n",
        "p=mdl.predict(X_test_scaled)\n",
        "r2=r2_score(y_test, p)\n",
        "mse=mean_squared_error(y_test, p)\n",
        "print(\"r2 = {} e MSE = {}\".format(r2,mse))"
      ],
      "execution_count": 556,
      "outputs": [
        {
          "output_type": "stream",
          "text": [
            "r2 = 0.9107661443937893 e MSE = 0.0008001226604907708\n"
          ],
          "name": "stdout"
        }
      ]
    },
    {
      "cell_type": "code",
      "metadata": {
        "id": "K7eYP-o5O3Js",
        "colab_type": "code",
        "outputId": "03da41a9-d05a-4775-a955-0b54d5c64b55",
        "colab": {
          "base_uri": "https://localhost:8080/",
          "height": 35
        }
      },
      "source": [
        "mdl=Ridge()\n",
        "mdl.fit(X_train_interpolado_scaled, y_train_interpolado)\n",
        "p=mdl.predict(X_test_interpolado_scaled)\n",
        "r2=r2_score(y_test_interpolado, p)\n",
        "mse=mean_squared_error(y_test_interpolado, p)\n",
        "print(\"r2 = {} e MSE = {}\".format(r2,mse))"
      ],
      "execution_count": 557,
      "outputs": [
        {
          "output_type": "stream",
          "text": [
            "r2 = 0.9999994113785764 e MSE = 4.599220786369358e-09\n"
          ],
          "name": "stdout"
        }
      ]
    },
    {
      "cell_type": "markdown",
      "metadata": {
        "id": "T5vqcZlYTMDB",
        "colab_type": "text"
      },
      "source": [
        "#### Regressão Lasso"
      ]
    },
    {
      "cell_type": "code",
      "metadata": {
        "id": "LjiN5Xo-TMDC",
        "colab_type": "code",
        "outputId": "87518889-9bf3-4514-ce2c-94005d21e01e",
        "colab": {
          "base_uri": "https://localhost:8080/",
          "height": 35
        }
      },
      "source": [
        "mdl=Lasso()\n",
        "mdl.fit(X_train_scaled, y_train)\n",
        "p=mdl.predict(X_test_scaled)\n",
        "r2=r2_score(y_test, p)\n",
        "mse=mean_squared_error(y_test, p)\n",
        "print(\"r2 = {} e MSE = {}\".format(r2,mse))"
      ],
      "execution_count": 558,
      "outputs": [
        {
          "output_type": "stream",
          "text": [
            "r2 = -0.01065686042346159 e MSE = 0.009062137352596786\n"
          ],
          "name": "stdout"
        }
      ]
    },
    {
      "cell_type": "code",
      "metadata": {
        "id": "_zJGd0gKPHAl",
        "colab_type": "code",
        "outputId": "612ea714-e979-4ff1-bf9d-4614b25ccca2",
        "colab": {
          "base_uri": "https://localhost:8080/",
          "height": 35
        }
      },
      "source": [
        "mdl=Lasso()\n",
        "mdl.fit(X_train_interpolado_scaled, y_train_interpolado)\n",
        "p=mdl.predict(X_test_interpolado_scaled)\n",
        "r2=r2_score(y_test_interpolado, p)\n",
        "mse=mean_squared_error(y_test_interpolado, p)\n",
        "print(\"r2 = {} e MSE = {}\".format(r2,mse))"
      ],
      "execution_count": 559,
      "outputs": [
        {
          "output_type": "stream",
          "text": [
            "r2 = -0.0009645677918299622 e MSE = 0.007821083062533712\n"
          ],
          "name": "stdout"
        }
      ]
    },
    {
      "cell_type": "markdown",
      "metadata": {
        "id": "ChrWIHsvTMDM",
        "colab_type": "text"
      },
      "source": [
        "O resultado da regressão LASSO ficou muito ruim, ficando inclusive pior de que se estivéssemos prevendo todos os valores como a média da variável POROSITY"
      ]
    },
    {
      "cell_type": "markdown",
      "metadata": {
        "id": "58nGChvZTMDO",
        "colab_type": "text"
      },
      "source": [
        "#### KNN Regressor"
      ]
    },
    {
      "cell_type": "code",
      "metadata": {
        "id": "HNc6diicTMDQ",
        "colab_type": "code",
        "outputId": "bccc438f-9573-40bb-80c9-0a6925513300",
        "colab": {
          "base_uri": "https://localhost:8080/",
          "height": 35
        }
      },
      "source": [
        "mdl=KNeighborsRegressor()\n",
        "mdl.fit(X_train_scaled, y_train)\n",
        "p=mdl.predict(X_test_scaled)\n",
        "r2=r2_score(y_test, p)\n",
        "mse=mean_squared_error(y_test, p)\n",
        "print(\"r2 = {} e MSE = {}\".format(r2,mse))"
      ],
      "execution_count": 560,
      "outputs": [
        {
          "output_type": "stream",
          "text": [
            "r2 = 0.8451925366992816 e MSE = 0.001388093774033644\n"
          ],
          "name": "stdout"
        }
      ]
    },
    {
      "cell_type": "code",
      "metadata": {
        "id": "nvI0xIoUPVq5",
        "colab_type": "code",
        "outputId": "3bf48dd0-4776-4413-f220-1836e76fdc22",
        "colab": {
          "base_uri": "https://localhost:8080/",
          "height": 35
        }
      },
      "source": [
        "mdl=KNeighborsRegressor()\n",
        "mdl.fit(X_train_interpolado_scaled, y_train_interpolado)\n",
        "p=mdl.predict(X_test_interpolado_scaled)\n",
        "r2=r2_score(y_test_interpolado, p)\n",
        "mse=mean_squared_error(y_test_interpolado, p)\n",
        "print(\"r2 = {} e MSE = {}\".format(r2,mse))"
      ],
      "execution_count": 561,
      "outputs": [
        {
          "output_type": "stream",
          "text": [
            "r2 = 0.99999632550955 e MSE = 2.871080150792762e-08\n"
          ],
          "name": "stdout"
        }
      ]
    },
    {
      "cell_type": "markdown",
      "metadata": {
        "id": "hrKtVSVpTMDZ",
        "colab_type": "text"
      },
      "source": [
        "#### DecisionTreeRegressor"
      ]
    },
    {
      "cell_type": "code",
      "metadata": {
        "id": "A_xiCIx2TMDd",
        "colab_type": "code",
        "outputId": "0efb2c82-b13a-4bcb-ab8e-dc64050e96ad",
        "colab": {
          "base_uri": "https://localhost:8080/",
          "height": 35
        }
      },
      "source": [
        "mdl=DecisionTreeRegressor()\n",
        "mdl.fit(X_train_scaled, y_train)\n",
        "p=mdl.predict(X_test_scaled)\n",
        "r2=r2_score(y_test, p)\n",
        "mse=mean_squared_error(y_test, p)\n",
        "print(\"r2 = {} e MSE = {}\".format(r2,mse))"
      ],
      "execution_count": 562,
      "outputs": [
        {
          "output_type": "stream",
          "text": [
            "r2 = 0.9648369614587874 e MSE = 0.0003152922593941621\n"
          ],
          "name": "stdout"
        }
      ]
    },
    {
      "cell_type": "code",
      "metadata": {
        "id": "qRvYLCGfPi2L",
        "colab_type": "code",
        "outputId": "113b611c-81bf-4b78-a090-a8271fdbe519",
        "colab": {
          "base_uri": "https://localhost:8080/",
          "height": 35
        }
      },
      "source": [
        "mdl=DecisionTreeRegressor()\n",
        "mdl.fit(X_train_interpolado_scaled, y_train_interpolado)\n",
        "p=mdl.predict(X_test_interpolado_scaled)\n",
        "r2=r2_score(y_test_interpolado, p)\n",
        "mse=mean_squared_error(y_test_interpolado, p)\n",
        "print(\"r2 = {} e MSE = {}\".format(r2,mse))"
      ],
      "execution_count": 563,
      "outputs": [
        {
          "output_type": "stream",
          "text": [
            "r2 = 0.9999789956448243 e MSE = 1.641185030822661e-07\n"
          ],
          "name": "stdout"
        }
      ]
    },
    {
      "cell_type": "markdown",
      "metadata": {
        "id": "KW-48cGlTMDs",
        "colab_type": "text"
      },
      "source": [
        "#### Regressor SVM"
      ]
    },
    {
      "cell_type": "code",
      "metadata": {
        "id": "XcmymBfjTMDu",
        "colab_type": "code",
        "outputId": "f5926bfb-c932-4234-9df5-9fbea5e8097a",
        "colab": {
          "base_uri": "https://localhost:8080/",
          "height": 35
        }
      },
      "source": [
        "mdl=SVR(C = 1000, gamma = 0.1)\n",
        "mdl.fit(X_train_scaled, y_train)\n",
        "p=mdl.predict(X_test_scaled)\n",
        "r2=r2_score(y_test, p)\n",
        "mse=mean_squared_error(y_test, p)\n",
        "print(\"r2 = {} e MSE = {}\".format(r2,mse))"
      ],
      "execution_count": 564,
      "outputs": [
        {
          "output_type": "stream",
          "text": [
            "r2 = 0.4413077227026615 e MSE = 0.005009559973285311\n"
          ],
          "name": "stdout"
        }
      ]
    },
    {
      "cell_type": "code",
      "metadata": {
        "id": "xglyQNksP5J2",
        "colab_type": "code",
        "outputId": "255d0194-bc39-4462-b159-450c276e152d",
        "colab": {
          "base_uri": "https://localhost:8080/",
          "height": 35
        }
      },
      "source": [
        "mdl=SVR(C = 1000, gamma = 0.1)\n",
        "mdl.fit(X_train_interpolado_scaled, y_train_interpolado)\n",
        "p=mdl.predict(X_test_interpolado_scaled)\n",
        "r2=r2_score(y_test_interpolado, p)\n",
        "mse=mean_squared_error(y_test_interpolado, p)\n",
        "print(\"r2 = {} e MSE = {}\".format(r2,mse))"
      ],
      "execution_count": 565,
      "outputs": [
        {
          "output_type": "stream",
          "text": [
            "r2 = 0.6073908621912172 e MSE = 0.003067669702521211\n"
          ],
          "name": "stdout"
        }
      ]
    },
    {
      "cell_type": "code",
      "metadata": {
        "id": "dwEZL4V8TMD4",
        "colab_type": "code",
        "outputId": "ae4ad8fd-e41c-4588-9467-d734d9ba67b4",
        "colab": {
          "base_uri": "https://localhost:8080/",
          "height": 35
        }
      },
      "source": [
        "mdl=SVR(kernel='sigmoid' ,C = 1000, gamma = 'scale')\n",
        "mdl.fit(X_train_scaled, y_train)\n",
        "p=mdl.predict(X_test_scaled)\n",
        "r2=r2_score(y_test, p)\n",
        "mse=mean_squared_error(y_test, p)\n",
        "print(\"r2 = {} e MSE = {}\".format(r2,mse))"
      ],
      "execution_count": 566,
      "outputs": [
        {
          "output_type": "stream",
          "text": [
            "r2 = 0.6730290170046015 e MSE = 0.0029318120464510377\n"
          ],
          "name": "stdout"
        }
      ]
    },
    {
      "cell_type": "code",
      "metadata": {
        "id": "DOFjgXuBQHnP",
        "colab_type": "code",
        "outputId": "460e3839-b294-42da-d34a-1533357ae288",
        "colab": {
          "base_uri": "https://localhost:8080/",
          "height": 35
        }
      },
      "source": [
        "mdl=SVR(kernel='sigmoid' ,C = 1000, gamma = 'scale')\n",
        "mdl.fit(X_train_interpolado_scaled, y_train_interpolado)\n",
        "p=mdl.predict(X_test_interpolado_scaled)\n",
        "r2=r2_score(y_test_interpolado, p)\n",
        "mse=mean_squared_error(y_test_interpolado, p)\n",
        "print(\"r2 = {} e MSE = {}\".format(r2,mse))"
      ],
      "execution_count": 567,
      "outputs": [
        {
          "output_type": "stream",
          "text": [
            "r2 = 0.6609324626578086 e MSE = 0.0026493199246924184\n"
          ],
          "name": "stdout"
        }
      ]
    },
    {
      "cell_type": "markdown",
      "metadata": {
        "id": "_PC4Gzp8TMEF",
        "colab_type": "text"
      },
      "source": [
        "Percebeu-se que o resultado obtido com o pelo repressor SVM ficou bem abaixo de outros modelos. Após a alteração de alguns parâmetros conseguiu-se melhorar um pouco o resultado."
      ]
    },
    {
      "cell_type": "markdown",
      "metadata": {
        "id": "rHWn2f07TMEQ",
        "colab_type": "text"
      },
      "source": [
        "#### Gradient Boosting Regressor"
      ]
    },
    {
      "cell_type": "code",
      "metadata": {
        "id": "9zlTgQJhTMEU",
        "colab_type": "code",
        "outputId": "7667812e-15ee-4174-9896-383c82956843",
        "colab": {
          "base_uri": "https://localhost:8080/",
          "height": 35
        }
      },
      "source": [
        "mdl=GradientBoostingRegressor()\n",
        "mdl.fit(X_train, y_train)\n",
        "p=mdl.predict(X_test)\n",
        "r2=r2_score(y_test, p)\n",
        "mse=mean_squared_error(y_test, p)\n",
        "print(\"r2 = {} e MSE = {}\".format(r2,mse))"
      ],
      "execution_count": 568,
      "outputs": [
        {
          "output_type": "stream",
          "text": [
            "r2 = 0.9684625693508072 e MSE = 0.0002827829498641441\n"
          ],
          "name": "stdout"
        }
      ]
    },
    {
      "cell_type": "code",
      "metadata": {
        "id": "xG5pyt5iTMEd",
        "colab_type": "code",
        "colab": {}
      },
      "source": [
        "y_Real_POROSITY=y_test\n",
        "y_Predito_POROSITY=p"
      ],
      "execution_count": 0,
      "outputs": []
    },
    {
      "cell_type": "markdown",
      "metadata": {
        "id": "jbak-XnNTMEm",
        "colab_type": "text"
      },
      "source": [
        "Novamente, o algoritmo que apresentou melhor resultado foi Gradient Boosting Regressor. Dessa Forma, o próximo passo será a busca de parâmetros, a fim de se tentar um resultado ainda melhor."
      ]
    },
    {
      "cell_type": "markdown",
      "metadata": {
        "id": "jP8_Tz-YTMEp",
        "colab_type": "text"
      },
      "source": [
        "### Otimização de Parâmetros"
      ]
    },
    {
      "cell_type": "code",
      "metadata": {
        "id": "x-PAupa_TMEq",
        "colab_type": "code",
        "outputId": "e7248a9e-491b-49e8-d052-66843c9fea45",
        "colab": {
          "base_uri": "https://localhost:8080/",
          "height": 495
        }
      },
      "source": [
        "num_estimators = [500,1000]\n",
        "learn_rates = [0.02, 0.05]\n",
        "max_depths = [1, 2]\n",
        "min_samples_leaf = [5,10]\n",
        "min_samples_split = [5,10]\n",
        "\n",
        "param_grid = {'n_estimators': num_estimators,\n",
        "              'learning_rate': learn_rates,\n",
        "              'max_depth': max_depths,\n",
        "              'min_samples_leaf': min_samples_leaf,\n",
        "              'min_samples_split': min_samples_split}\n",
        "\n",
        "gbr=GradientBoostingRegressor()\n",
        "mdl = GridSearchCV(gbr, param_grid)\n",
        "mdl.fit(X_train_scaled, y_train)\n"
      ],
      "execution_count": 570,
      "outputs": [
        {
          "output_type": "execute_result",
          "data": {
            "text/plain": [
              "GridSearchCV(cv=None, error_score=nan,\n",
              "             estimator=GradientBoostingRegressor(alpha=0.9, ccp_alpha=0.0,\n",
              "                                                 criterion='friedman_mse',\n",
              "                                                 init=None, learning_rate=0.1,\n",
              "                                                 loss='ls', max_depth=3,\n",
              "                                                 max_features=None,\n",
              "                                                 max_leaf_nodes=None,\n",
              "                                                 min_impurity_decrease=0.0,\n",
              "                                                 min_impurity_split=None,\n",
              "                                                 min_samples_leaf=1,\n",
              "                                                 min_samples_split=2,\n",
              "                                                 min_weight_fraction_leaf=0.0,\n",
              "                                                 n_estimators=100,\n",
              "                                                 n_ite...\n",
              "                                                 presort='deprecated',\n",
              "                                                 random_state=None,\n",
              "                                                 subsample=1.0, tol=0.0001,\n",
              "                                                 validation_fraction=0.1,\n",
              "                                                 verbose=0, warm_start=False),\n",
              "             iid='deprecated', n_jobs=None,\n",
              "             param_grid={'learning_rate': [0.02, 0.05], 'max_depth': [1, 2],\n",
              "                         'min_samples_leaf': [5, 10],\n",
              "                         'min_samples_split': [5, 10],\n",
              "                         'n_estimators': [500, 1000]},\n",
              "             pre_dispatch='2*n_jobs', refit=True, return_train_score=False,\n",
              "             scoring=None, verbose=0)"
            ]
          },
          "metadata": {
            "tags": []
          },
          "execution_count": 570
        }
      ]
    },
    {
      "cell_type": "code",
      "metadata": {
        "id": "QQnjkKmeTMEy",
        "colab_type": "code",
        "outputId": "abaeea78-d5cc-4c5e-c9fb-021b0bfc5750",
        "colab": {
          "base_uri": "https://localhost:8080/",
          "height": 35
        }
      },
      "source": [
        "p=mdl.predict(X_test_scaled)\n",
        "r2=r2_score(y_test, p)\n",
        "mse=mean_squared_error(y_test, p)\n",
        "print(\"r2 = {} e MSE = {}\".format(r2,mse))"
      ],
      "execution_count": 571,
      "outputs": [
        {
          "output_type": "stream",
          "text": [
            "r2 = 0.9427232282991602 e MSE = 0.0005135768554016034\n"
          ],
          "name": "stdout"
        }
      ]
    },
    {
      "cell_type": "code",
      "metadata": {
        "id": "XKzc5ge3TMFD",
        "colab_type": "code",
        "outputId": "09c7e877-4b04-4d6b-fdf2-e54048ce04e7",
        "colab": {
          "base_uri": "https://localhost:8080/",
          "height": 109
        }
      },
      "source": [
        "mdl.best_params_"
      ],
      "execution_count": 572,
      "outputs": [
        {
          "output_type": "execute_result",
          "data": {
            "text/plain": [
              "{'learning_rate': 0.05,\n",
              " 'max_depth': 2,\n",
              " 'min_samples_leaf': 10,\n",
              " 'min_samples_split': 5,\n",
              " 'n_estimators': 1000}"
            ]
          },
          "metadata": {
            "tags": []
          },
          "execution_count": 572
        }
      ]
    },
    {
      "cell_type": "code",
      "metadata": {
        "id": "dRa7FFz1Sn2S",
        "colab_type": "code",
        "colab": {
          "base_uri": "https://localhost:8080/",
          "height": 35
        },
        "outputId": "1d09202f-da7e-49ab-9922-3b7455f5bc22"
      },
      "source": [
        "mdl=GradientBoostingRegressor()\n",
        "mdl.fit(X_train_interpolado, y_train_interpolado)\n",
        "p=mdl.predict(X_test_interpolado)\n",
        "r2=r2_score(y_test_interpolado, p)\n",
        "mse=mean_squared_error(y_test_interpolado, p)\n",
        "print(\"r2 = {} e MSE = {}\".format(r2,mse))\n"
      ],
      "execution_count": 573,
      "outputs": [
        {
          "output_type": "stream",
          "text": [
            "r2 = 0.9999353671976456 e MSE = 5.050113980487982e-07\n"
          ],
          "name": "stdout"
        }
      ]
    },
    {
      "cell_type": "code",
      "metadata": {
        "id": "YWBvv7JgSqRq",
        "colab_type": "code",
        "colab": {}
      },
      "source": [
        "y_Real_POROSITY_interpolado=y_test_interpolado\n",
        "y_Predito_POROSITY_interpolado=p"
      ],
      "execution_count": 0,
      "outputs": []
    },
    {
      "cell_type": "code",
      "metadata": {
        "id": "T_gq_hpsRoD7",
        "colab_type": "code",
        "colab": {
          "base_uri": "https://localhost:8080/",
          "height": 495
        },
        "outputId": "6127e4bb-37f0-42ca-953f-5d9609839039"
      },
      "source": [
        "num_estimators = [500,1000]\n",
        "learn_rates = [0.02, 0.05]\n",
        "max_depths = [1, 2]\n",
        "min_samples_leaf = [5,10]\n",
        "min_samples_split = [5,10]\n",
        "\n",
        "param_grid = {'n_estimators': num_estimators,\n",
        "              'learning_rate': learn_rates,\n",
        "              'max_depth': max_depths,\n",
        "              'min_samples_leaf': min_samples_leaf,\n",
        "              'min_samples_split': min_samples_split}\n",
        "\n",
        "gbr=GradientBoostingRegressor()\n",
        "mdl = GridSearchCV(gbr, param_grid)\n",
        "mdl.fit(X_train_interpolado_scaled, y_train_interpolado)"
      ],
      "execution_count": 575,
      "outputs": [
        {
          "output_type": "execute_result",
          "data": {
            "text/plain": [
              "GridSearchCV(cv=None, error_score=nan,\n",
              "             estimator=GradientBoostingRegressor(alpha=0.9, ccp_alpha=0.0,\n",
              "                                                 criterion='friedman_mse',\n",
              "                                                 init=None, learning_rate=0.1,\n",
              "                                                 loss='ls', max_depth=3,\n",
              "                                                 max_features=None,\n",
              "                                                 max_leaf_nodes=None,\n",
              "                                                 min_impurity_decrease=0.0,\n",
              "                                                 min_impurity_split=None,\n",
              "                                                 min_samples_leaf=1,\n",
              "                                                 min_samples_split=2,\n",
              "                                                 min_weight_fraction_leaf=0.0,\n",
              "                                                 n_estimators=100,\n",
              "                                                 n_ite...\n",
              "                                                 presort='deprecated',\n",
              "                                                 random_state=None,\n",
              "                                                 subsample=1.0, tol=0.0001,\n",
              "                                                 validation_fraction=0.1,\n",
              "                                                 verbose=0, warm_start=False),\n",
              "             iid='deprecated', n_jobs=None,\n",
              "             param_grid={'learning_rate': [0.02, 0.05], 'max_depth': [1, 2],\n",
              "                         'min_samples_leaf': [5, 10],\n",
              "                         'min_samples_split': [5, 10],\n",
              "                         'n_estimators': [500, 1000]},\n",
              "             pre_dispatch='2*n_jobs', refit=True, return_train_score=False,\n",
              "             scoring=None, verbose=0)"
            ]
          },
          "metadata": {
            "tags": []
          },
          "execution_count": 575
        }
      ]
    },
    {
      "cell_type": "code",
      "metadata": {
        "id": "Db2mCdE6Roj1",
        "colab_type": "code",
        "colab": {
          "base_uri": "https://localhost:8080/",
          "height": 35
        },
        "outputId": "622b56cc-65f6-461b-a656-2a67e67c211f"
      },
      "source": [
        "p=mdl.predict(X_test_interpolado_scaled)\n",
        "r2=r2_score(y_test_interpolado, p)\n",
        "mse=mean_squared_error(y_test_interpolado, p)\n",
        "print(\"r2 = {} e MSE = {}\".format(r2,mse))"
      ],
      "execution_count": 576,
      "outputs": [
        {
          "output_type": "stream",
          "text": [
            "r2 = 0.9999772307512487 e MSE = 1.779085808685254e-07\n"
          ],
          "name": "stdout"
        }
      ]
    },
    {
      "cell_type": "code",
      "metadata": {
        "id": "Bv5Kk7NmR44x",
        "colab_type": "code",
        "colab": {
          "base_uri": "https://localhost:8080/",
          "height": 109
        },
        "outputId": "7e668c7a-c169-4e1b-ba80-662554954b9f"
      },
      "source": [
        "mdl.best_params_"
      ],
      "execution_count": 577,
      "outputs": [
        {
          "output_type": "execute_result",
          "data": {
            "text/plain": [
              "{'learning_rate': 0.02,\n",
              " 'max_depth': 2,\n",
              " 'min_samples_leaf': 5,\n",
              " 'min_samples_split': 5,\n",
              " 'n_estimators': 500}"
            ]
          },
          "metadata": {
            "tags": []
          },
          "execution_count": 577
        }
      ]
    },
    {
      "cell_type": "markdown",
      "metadata": {
        "id": "8nnmmEc4TMFO",
        "colab_type": "text"
      },
      "source": [
        "Apesar dos testes realizados, não se consegui melhorar os resultados com o processo de otimização. Sendo assim, o modelo escolhido para a realização das predições da variável POROSITY foi o primeiro modelo gerado com o GradientBoostingRegressor."
      ]
    },
    {
      "cell_type": "markdown",
      "metadata": {
        "id": "B88Euwl2TMFQ",
        "colab_type": "text"
      },
      "source": [
        "# 6 - Análise dos Resultados"
      ]
    },
    {
      "cell_type": "markdown",
      "metadata": {
        "id": "iPxAjyGyTMFR",
        "colab_type": "text"
      },
      "source": [
        "O algoritmo Gradient Boosting Regressor foi o que obteve melhores resultados, tanto para a previsão da variável PERMEABILITY quanto para a variável POROSITY.\n",
        "\n",
        "Em ambos os casos, conseguiu-se obter excelentes resultados\n",
        "- PERMEABILITY -> r2 = 0.9696071893347064 e MSE = 444.86604248124826\n",
        "- POROSITY -> r2 = 0.9687940234800001 e MSE = 0.0002798109393208495\n",
        "\n",
        "O MSE ficou bem diferente porque essa métrica é sensível ao valor que está sendo predito. No entanto, com relação ao coeficiente de determinação (R2), que mede o percentual de variabilidade total que é explicada pelo modelo, ambos os modelos apresentaram valores bem semelhantes, e bem próximo da perfeição (visto que, um modelo perfeito chegaria a um valor de R2=1).\n",
        "\n",
        "Cabe ressaltar que esses tipos de resultados, tão bons, não são muito comuns. Dessa forma, tais resultados devem ser vistos com certo tipo de desconfiança. No entanto, uma explicação para a performance tão boa para os classificadores gerados pode ser dada pelo fato dos dados utilizados terem sido gerados de forma sintética, o que de alguma forma obedece a alguma regra de geração e não está tão sujeito as aleatoriedades e circunstâncias presentes na natureza.\n",
        "\n",
        "Sendo assim, caso se utilizou o mesmo processo de geração dos modelos para dados coletados de poços de petróleo reais, é bem provável que os resultados não sejam tão bons quanto este, pois via de regra, independente do modelo a ser utilizado, geralmente os dados não conseguem explicar tão bem as variabilidade da variável alvo, até porque, essa variável alvo também pode ser influenciada por outras variáveis que não estão na base de dados, sem contar que o próprio processo de coleta desses dados também está sujeito a erros.\n"
      ]
    },
    {
      "cell_type": "markdown",
      "metadata": {
        "id": "GthGIsIjTMFS",
        "colab_type": "text"
      },
      "source": [
        "# Gráficos"
      ]
    },
    {
      "cell_type": "markdown",
      "metadata": {
        "id": "_IH6QgOiTMFU",
        "colab_type": "text"
      },
      "source": [
        "Abaixo um gráfico que faz a comparação entre os valores reais (Eixo X) e os valores preditos (Eixo Y), para os melhores modelos de cada uma das predições feitas (PERMEABILITY e POROSITY). Quanto mais próximo os pontos extiverem da linha preta, melhot será o modelo "
      ]
    },
    {
      "cell_type": "code",
      "metadata": {
        "id": "xieyRolJTMFW",
        "colab_type": "code",
        "outputId": "ac2db13c-e548-4230-a647-2ff8a62f5fb8",
        "colab": {
          "base_uri": "https://localhost:8080/",
          "height": 295
        }
      },
      "source": [
        "y=y_test\n",
        "fig, ax = plt.subplots()\n",
        "ax.scatter(y_Real_PERMEABILITY, y_Predito_PERMEABILITY)\n",
        "ax.plot([y_Real_PERMEABILITY.min(), y_Real_PERMEABILITY.max()], [y_Real_PERMEABILITY.min(), y_Real_PERMEABILITY.max()], 'k--', lw=2)\n",
        "\n",
        "ax.set_title('Predição da Variávels PERMEABILITY')\n",
        "ax.set_xlabel('Valores Reais')\n",
        "ax.set_ylabel('Valores Preditos')\n",
        "plt.show()"
      ],
      "execution_count": 578,
      "outputs": [
        {
          "output_type": "display_data",
          "data": {
            "image/png": "[encoded data removed]",
            "text/plain": [
              "<Figure size 432x288 with 1 Axes>"
            ]
          },
          "metadata": {
            "tags": [],
            "needs_background": "light"
          }
        }
      ]
    },
    {
      "cell_type": "code",
      "metadata": {
        "id": "UE5l5O-CTMFh",
        "colab_type": "code",
        "outputId": "ac1b77cf-ad31-4adc-d918-e5d29c3453d1",
        "colab": {
          "base_uri": "https://localhost:8080/",
          "height": 295
        }
      },
      "source": [
        "fig, ax = plt.subplots()\n",
        "ax.scatter(y_Real_POROSITY, y_Predito_POROSITY)\n",
        "ax.plot([y_Real_POROSITY.min(), y_Real_POROSITY.max()], [y_Real_POROSITY.min(), y_Real_POROSITY.max()], 'k--', lw=2)\n",
        "\n",
        "ax.set_title('Predição da Variávels POROSITY')\n",
        "ax.set_xlabel('Valores Reais')\n",
        "ax.set_ylabel('Valores Preditos')\n",
        "plt.show()"
      ],
      "execution_count": 579,
      "outputs": [
        {
          "output_type": "display_data",
          "data": {
            "image/png": "[encoded data removed]",
            "text/plain": [
              "<Figure size 432x288 with 1 Axes>"
            ]
          },
          "metadata": {
            "tags": [],
            "needs_background": "light"
          }
        }
      ]
    },
    {
      "cell_type": "code",
      "metadata": {
        "id": "PpZbtHX0TkfD",
        "colab_type": "code",
        "colab": {
          "base_uri": "https://localhost:8080/",
          "height": 295
        },
        "outputId": "35687fc3-980a-42e4-bd35-92e209a3229a"
      },
      "source": [
        "y=y_test_interpolado\n",
        "fig, ax = plt.subplots()\n",
        "ax.scatter(y_Real_PERMEABILITY_interpolado, y_Predito_PERMEABILITY_interpolado)\n",
        "ax.plot([y_Real_PERMEABILITY_interpolado.min(), y_Real_PERMEABILITY_interpolado.max()], [y_Real_PERMEABILITY_interpolado.min(), y_Real_PERMEABILITY_interpolado.max()], 'k--', lw=2)\n",
        "\n",
        "ax.set_title('Predição da Variávels PERMEABILITY (Interpolado)')\n",
        "ax.set_xlabel('Valores Reais (Interpolado)')\n",
        "ax.set_ylabel('Valores Preditos (Interpolado)')\n",
        "plt.show()"
      ],
      "execution_count": 580,
      "outputs": [
        {
          "output_type": "display_data",
          "data": {
            "image/png": "[encoded data removed]",
            "text/plain": [
              "<Figure size 432x288 with 1 Axes>"
            ]
          },
          "metadata": {
            "tags": [],
            "needs_background": "light"
          }
        }
      ]
    },
    {
      "cell_type": "code",
      "metadata": {
        "id": "6tp_K3nYVSe7",
        "colab_type": "code",
        "colab": {
          "base_uri": "https://localhost:8080/",
          "height": 295
        },
        "outputId": "62f7abcd-2dcd-4d5b-b3ef-67912aa0085e"
      },
      "source": [
        "fig, ax = plt.subplots()\n",
        "ax.scatter(y_Real_POROSITY_interpolado, y_Predito_POROSITY_interpolado)\n",
        "ax.plot([y_Real_POROSITY_interpolado.min(), y_Real_POROSITY_interpolado.max()], [y_Real_POROSITY_interpolado.min(), y_Real_POROSITY_interpolado.max()], 'k--', lw=2)\n",
        "\n",
        "ax.set_title('Predição da Variávels POROSITY (Interpolado)')\n",
        "ax.set_xlabel('Valores Reais (Interpolado)')\n",
        "ax.set_ylabel('Valores Preditos (Interpolado)')\n",
        "plt.show()"
      ],
      "execution_count": 581,
      "outputs": [
        {
          "output_type": "display_data",
          "data": {
            "image/png": "[encoded data removed]",
            "text/plain": [
              "<Figure size 432x288 with 1 Axes>"
            ]
          },
          "metadata": {
            "tags": [],
            "needs_background": "light"
          }
        }
      ]
    },
    {
      "cell_type": "code",
      "metadata": {
        "id": "V1Dq_b6DXbgb",
        "colab_type": "code",
        "colab": {}
      },
      "source": [
        ""
      ],
      "execution_count": 0,
      "outputs": []
    }
  ]
}