{
  "nbformat": 4,
  "nbformat_minor": 0,
  "metadata": {
    "kernelspec": {
      "display_name": "Python 3",
      "language": "python",
      "name": "python3"
    },
    "language_info": {
      "codemirror_mode": {
        "name": "ipython",
        "version": 3
      },
      "file_extension": ".py",
      "mimetype": "text/x-python",
      "name": "python",
      "nbconvert_exporter": "python",
      "pygments_lexer": "ipython3",
      "version": "3.7.6"
    },
    "colab": {
      "name": "0009 - aula_pratica_lexicos.ipynb",
      "provenance": [],
      "collapsed_sections": [
        "X78weLkD3WQL",
        "NpXtc1Mb3WVe",
        "loKJPZm43WVv",
        "ThLH7Z3v3WWK",
        "vSBQ9oEE3WY6"
      ],
      "include_colab_link": true
    }
  },
  "cells": [
    {
      "cell_type": "markdown",
      "metadata": {
        "id": "view-in-github",
        "colab_type": "text"
      },
      "source": [
        "<a href=\"https://colab.research.google.com/github/jeffersonscampos/Artificial-Intelligence_Data-Science_Machine-Learning/blob/master/Analise_Sentimentos/0009_aula_pratica_lexicos.ipynb\" target=\"_parent\"><img src=\"https://colab.research.google.com/assets/colab-badge.svg\" alt=\"Open In Colab\"/></a>"
      ]
    },
    {
      "cell_type": "markdown",
      "metadata": {
        "id": "5kxo6Hfv3WIa",
        "colab_type": "text"
      },
      "source": [
        "# NRC Emotional Lexicon\n",
        "\n",
        "NRC Léxico é uma lista de palavras em inglês, onde cada uma é associada com oito sentimentos distintos, sendo eles anger, fear, anticipation, trust, surprise, sadness, joy, and disgust, além de duas polaridades sendo: positivo e negativo.\n",
        "\n",
        "Download disponível no link http://saifmohammad.com/WebPages/NRC-Emotion-Lexicon.htm"
      ]
    },
    {
      "cell_type": "code",
      "metadata": {
        "id": "Cg9Y1qZp3WIn",
        "colab_type": "code",
        "colab": {
          "base_uri": "https://localhost:8080/",
          "height": 127
        },
        "outputId": "7008694e-65b0-4001-8b56-c962e0163be2"
      },
      "source": [
        "!pip install wget\n",
        "!pip install unidecode\n",
        "\n",
        "import pandas as pd\n",
        "import wget\n",
        "import os\n",
        "from zipfile import ZipFile\n",
        "\n",
        "#corpus do opinion lexicon\n",
        "import nltk \n",
        "nltk.download('opinion_lexicon')\n",
        "from nltk.corpus import opinion_lexicon\n",
        "\n",
        "#bibliotecas para preprocessamento de texto\n",
        "from bs4 import BeautifulSoup\n",
        "import string \n",
        "from unidecode import unidecode \n",
        "import nltk\n",
        "nltk.download('stopwords')\n",
        "from nltk.corpus import stopwords\n",
        "stopwords = stopwords.words('english')\n",
        "from nltk.tokenize import treebank\n",
        "tokenizer = treebank.TreebankWordTokenizer()\n",
        "\n",
        "#bibliotecas de plots\n",
        "from wordcloud import WordCloud\n",
        "import matplotlib.pyplot as plt\n",
        "\n",
        "#métricas de avaliação\n",
        "from sklearn.metrics import accuracy_score,f1_score,classification_report"
      ],
      "execution_count": 2,
      "outputs": [
        {
          "output_type": "stream",
          "text": [
            "Requirement already satisfied: wget in /usr/local/lib/python3.6/dist-packages (3.2)\n",
            "Requirement already satisfied: unidecode in /usr/local/lib/python3.6/dist-packages (1.1.1)\n",
            "[nltk_data] Downloading package opinion_lexicon to /root/nltk_data...\n",
            "[nltk_data]   Package opinion_lexicon is already up-to-date!\n",
            "[nltk_data] Downloading package stopwords to /root/nltk_data...\n",
            "[nltk_data]   Unzipping corpora/stopwords.zip.\n"
          ],
          "name": "stdout"
        }
      ]
    },
    {
      "cell_type": "code",
      "metadata": {
        "id": "5fMQHHjz3WJK",
        "colab_type": "code",
        "colab": {}
      },
      "source": [
        "#Vamos fazer o dowload dos dados\n",
        "\n",
        "url = \"http://sentiment.nrc.ca/lexicons-for-research/NRC-Emotion-Lexicon.zip\"\n",
        "\n",
        "def download_from_url(url):\n",
        "    if not os.path.exists('data'):\n",
        "        os.mkdir('data')\n",
        "    \n",
        "    wget.download(url, 'data')\n",
        "    \n",
        "download_from_url(url)"
      ],
      "execution_count": 3,
      "outputs": []
    },
    {
      "cell_type": "code",
      "metadata": {
        "id": "i17asjhD3WKG",
        "colab_type": "code",
        "colab": {}
      },
      "source": [
        "#função para extrair um arquivo de um zip\n",
        "\n",
        "path_to_zip = 'data/NRC-Emotion-Lexicon.zip'\n",
        "path_to_write = 'data/'\n",
        "path_to_file = 'NRC-Emotion-Lexicon-v0.92/NRC-Emotion-Lexicon-Wordlevel-v0.92.txt'\n",
        "\n",
        "def extract_from_zip(path_to_zip, path_to_file, path_to_write):\n",
        "    with ZipFile(path_to_zip, 'r') as zipObj:    \n",
        "        list_files = zipObj.namelist()\n",
        "        for filename in list_files:\n",
        "            if filename == path_to_file:\n",
        "                print(\"Extraindo...\")\n",
        "                zipObj.extract(filename, path_to_write)"
      ],
      "execution_count": 4,
      "outputs": []
    },
    {
      "cell_type": "code",
      "metadata": {
        "id": "rLOtkurs3WLC",
        "colab_type": "code",
        "colab": {
          "base_uri": "https://localhost:8080/",
          "height": 35
        },
        "outputId": "bade88ab-74cb-488e-ef41-54f007d401b8"
      },
      "source": [
        "extract_from_zip(path_to_zip, path_to_file, path_to_write)"
      ],
      "execution_count": 5,
      "outputs": [
        {
          "output_type": "stream",
          "text": [
            "Extraindo...\n"
          ],
          "name": "stdout"
        }
      ]
    },
    {
      "cell_type": "code",
      "metadata": {
        "id": "KIcD2JJC3WLU",
        "colab_type": "code",
        "colab": {}
      },
      "source": [
        "#leitura do dataset do léxico NRC\n",
        "\n",
        "file = 'data/NRC-Emotion-Lexicon-v0.92/NRC-Emotion-Lexicon-Wordlevel-v0.92.txt'\n",
        "\n",
        "lexicon = pd.read_csv(file, names=['palavra', 'sentimento', 'pertence'], sep='\\t')"
      ],
      "execution_count": 6,
      "outputs": []
    },
    {
      "cell_type": "code",
      "metadata": {
        "id": "R6mbgNXT3WLs",
        "colab_type": "code",
        "colab": {
          "base_uri": "https://localhost:8080/",
          "height": 424
        },
        "outputId": "6e688dcf-b81f-47de-fa0d-ca8a3175843b"
      },
      "source": [
        "lexicon.head(-10)"
      ],
      "execution_count": 7,
      "outputs": [
        {
          "output_type": "execute_result",
          "data": {
            "text/html": [
              "<div>\n",
              "<style scoped>\n",
              "    .dataframe tbody tr th:only-of-type {\n",
              "        vertical-align: middle;\n",
              "    }\n",
              "\n",
              "    .dataframe tbody tr th {\n",
              "        vertical-align: top;\n",
              "    }\n",
              "\n",
              "    .dataframe thead th {\n",
              "        text-align: right;\n",
              "    }\n",
              "</style>\n",
              "<table border=\"1\" class=\"dataframe\">\n",
              "  <thead>\n",
              "    <tr style=\"text-align: right;\">\n",
              "      <th></th>\n",
              "      <th>palavra</th>\n",
              "      <th>sentimento</th>\n",
              "      <th>pertence</th>\n",
              "    </tr>\n",
              "  </thead>\n",
              "  <tbody>\n",
              "    <tr>\n",
              "      <th>0</th>\n",
              "      <td>aback</td>\n",
              "      <td>anger</td>\n",
              "      <td>0</td>\n",
              "    </tr>\n",
              "    <tr>\n",
              "      <th>1</th>\n",
              "      <td>aback</td>\n",
              "      <td>anticipation</td>\n",
              "      <td>0</td>\n",
              "    </tr>\n",
              "    <tr>\n",
              "      <th>2</th>\n",
              "      <td>aback</td>\n",
              "      <td>disgust</td>\n",
              "      <td>0</td>\n",
              "    </tr>\n",
              "    <tr>\n",
              "      <th>3</th>\n",
              "      <td>aback</td>\n",
              "      <td>fear</td>\n",
              "      <td>0</td>\n",
              "    </tr>\n",
              "    <tr>\n",
              "      <th>4</th>\n",
              "      <td>aback</td>\n",
              "      <td>joy</td>\n",
              "      <td>0</td>\n",
              "    </tr>\n",
              "    <tr>\n",
              "      <th>...</th>\n",
              "      <td>...</td>\n",
              "      <td>...</td>\n",
              "      <td>...</td>\n",
              "    </tr>\n",
              "    <tr>\n",
              "      <th>141805</th>\n",
              "      <td>zoology</td>\n",
              "      <td>negative</td>\n",
              "      <td>0</td>\n",
              "    </tr>\n",
              "    <tr>\n",
              "      <th>141806</th>\n",
              "      <td>zoology</td>\n",
              "      <td>positive</td>\n",
              "      <td>0</td>\n",
              "    </tr>\n",
              "    <tr>\n",
              "      <th>141807</th>\n",
              "      <td>zoology</td>\n",
              "      <td>sadness</td>\n",
              "      <td>0</td>\n",
              "    </tr>\n",
              "    <tr>\n",
              "      <th>141808</th>\n",
              "      <td>zoology</td>\n",
              "      <td>surprise</td>\n",
              "      <td>0</td>\n",
              "    </tr>\n",
              "    <tr>\n",
              "      <th>141809</th>\n",
              "      <td>zoology</td>\n",
              "      <td>trust</td>\n",
              "      <td>0</td>\n",
              "    </tr>\n",
              "  </tbody>\n",
              "</table>\n",
              "<p>141810 rows × 3 columns</p>\n",
              "</div>"
            ],
            "text/plain": [
              "        palavra    sentimento  pertence\n",
              "0         aback         anger         0\n",
              "1         aback  anticipation         0\n",
              "2         aback       disgust         0\n",
              "3         aback          fear         0\n",
              "4         aback           joy         0\n",
              "...         ...           ...       ...\n",
              "141805  zoology      negative         0\n",
              "141806  zoology      positive         0\n",
              "141807  zoology       sadness         0\n",
              "141808  zoology      surprise         0\n",
              "141809  zoology         trust         0\n",
              "\n",
              "[141810 rows x 3 columns]"
            ]
          },
          "metadata": {
            "tags": []
          },
          "execution_count": 7
        }
      ]
    },
    {
      "cell_type": "code",
      "metadata": {
        "id": "7CHYOLRu3WMI",
        "colab_type": "code",
        "colab": {
          "base_uri": "https://localhost:8080/",
          "height": 54
        },
        "outputId": "06758754-4e4c-4476-9457-284781b92f54"
      },
      "source": [
        "#verificando categorias únicas de sentimento\n",
        "lexicon.sentimento.unique()"
      ],
      "execution_count": 8,
      "outputs": [
        {
          "output_type": "execute_result",
          "data": {
            "text/plain": [
              "array(['anger', 'anticipation', 'disgust', 'fear', 'joy', 'negative',\n",
              "       'positive', 'sadness', 'surprise', 'trust'], dtype=object)"
            ]
          },
          "metadata": {
            "tags": []
          },
          "execution_count": 8
        }
      ]
    },
    {
      "cell_type": "code",
      "metadata": {
        "id": "2wBEvXI73WMj",
        "colab_type": "code",
        "colab": {
          "base_uri": "https://localhost:8080/",
          "height": 35
        },
        "outputId": "b26783ae-25c6-4f31-d257-54930b0a7eb8"
      },
      "source": [
        "lexicon.palavra.unique().shape"
      ],
      "execution_count": 9,
      "outputs": [
        {
          "output_type": "execute_result",
          "data": {
            "text/plain": [
              "(14182,)"
            ]
          },
          "metadata": {
            "tags": []
          },
          "execution_count": 9
        }
      ]
    },
    {
      "cell_type": "code",
      "metadata": {
        "id": "15tJXs9v3WMu",
        "colab_type": "code",
        "colab": {
          "base_uri": "https://localhost:8080/",
          "height": 219
        },
        "outputId": "716d6e85-c0e9-4219-d015-2140c9cc43d3"
      },
      "source": [
        "#distribuição dos sentimentos\n",
        "lexicon[lexicon.pertence == 1].sentimento.value_counts()"
      ],
      "execution_count": 10,
      "outputs": [
        {
          "output_type": "execute_result",
          "data": {
            "text/plain": [
              "negative        3324\n",
              "positive        2312\n",
              "fear            1476\n",
              "anger           1247\n",
              "trust           1231\n",
              "sadness         1191\n",
              "disgust         1058\n",
              "anticipation     839\n",
              "joy              689\n",
              "surprise         534\n",
              "Name: sentimento, dtype: int64"
            ]
          },
          "metadata": {
            "tags": []
          },
          "execution_count": 10
        }
      ]
    },
    {
      "cell_type": "code",
      "metadata": {
        "id": "qI6x8hlu3WM4",
        "colab_type": "code",
        "colab": {
          "base_uri": "https://localhost:8080/",
          "height": 332
        },
        "outputId": "b66065d6-b86f-4fce-fd8b-da1f32539fb8"
      },
      "source": [
        "#distribuição das categorias de sentimento em plot\n",
        "lexicon[lexicon.pertence == 1].sentimento.value_counts().plot(kind = 'bar')"
      ],
      "execution_count": 11,
      "outputs": [
        {
          "output_type": "execute_result",
          "data": {
            "text/plain": [
              "<matplotlib.axes._subplots.AxesSubplot at 0x7f5c0c7656a0>"
            ]
          },
          "metadata": {
            "tags": []
          },
          "execution_count": 11
        },
        {
          "output_type": "display_data",
          "data": {
            "image/png": "[encoded data removed]",
            "text/plain": [
              "<Figure size 432x288 with 1 Axes>"
            ]
          },
          "metadata": {
            "tags": [],
            "needs_background": "light"
          }
        }
      ]
    },
    {
      "cell_type": "code",
      "metadata": {
        "id": "_FYVCGdh3WNK",
        "colab_type": "code",
        "colab": {
          "base_uri": "https://localhost:8080/",
          "height": 424
        },
        "outputId": "f93b066f-4b0d-4b06-c305-146a5db65982"
      },
      "source": [
        "#palavras com polaridade positiva\n",
        "lexicon[(lexicon.pertence == 1) & (lexicon.sentimento == 'positive')].head(-10)"
      ],
      "execution_count": 12,
      "outputs": [
        {
          "output_type": "execute_result",
          "data": {
            "text/html": [
              "<div>\n",
              "<style scoped>\n",
              "    .dataframe tbody tr th:only-of-type {\n",
              "        vertical-align: middle;\n",
              "    }\n",
              "\n",
              "    .dataframe tbody tr th {\n",
              "        vertical-align: top;\n",
              "    }\n",
              "\n",
              "    .dataframe thead th {\n",
              "        text-align: right;\n",
              "    }\n",
              "</style>\n",
              "<table border=\"1\" class=\"dataframe\">\n",
              "  <thead>\n",
              "    <tr style=\"text-align: right;\">\n",
              "      <th></th>\n",
              "      <th>palavra</th>\n",
              "      <th>sentimento</th>\n",
              "      <th>pertence</th>\n",
              "    </tr>\n",
              "  </thead>\n",
              "  <tbody>\n",
              "    <tr>\n",
              "      <th>76</th>\n",
              "      <td>abba</td>\n",
              "      <td>positive</td>\n",
              "      <td>1</td>\n",
              "    </tr>\n",
              "    <tr>\n",
              "      <th>206</th>\n",
              "      <td>ability</td>\n",
              "      <td>positive</td>\n",
              "      <td>1</td>\n",
              "    </tr>\n",
              "    <tr>\n",
              "      <th>366</th>\n",
              "      <td>abovementioned</td>\n",
              "      <td>positive</td>\n",
              "      <td>1</td>\n",
              "    </tr>\n",
              "    <tr>\n",
              "      <th>486</th>\n",
              "      <td>absolute</td>\n",
              "      <td>positive</td>\n",
              "      <td>1</td>\n",
              "    </tr>\n",
              "    <tr>\n",
              "      <th>496</th>\n",
              "      <td>absolution</td>\n",
              "      <td>positive</td>\n",
              "      <td>1</td>\n",
              "    </tr>\n",
              "    <tr>\n",
              "      <th>...</th>\n",
              "      <td>...</td>\n",
              "      <td>...</td>\n",
              "      <td>...</td>\n",
              "    </tr>\n",
              "    <tr>\n",
              "      <th>140506</th>\n",
              "      <td>wondrous</td>\n",
              "      <td>positive</td>\n",
              "      <td>1</td>\n",
              "    </tr>\n",
              "    <tr>\n",
              "      <th>140626</th>\n",
              "      <td>word</td>\n",
              "      <td>positive</td>\n",
              "      <td>1</td>\n",
              "    </tr>\n",
              "    <tr>\n",
              "      <th>140696</th>\n",
              "      <td>working</td>\n",
              "      <td>positive</td>\n",
              "      <td>1</td>\n",
              "    </tr>\n",
              "    <tr>\n",
              "      <th>140856</th>\n",
              "      <td>worship</td>\n",
              "      <td>positive</td>\n",
              "      <td>1</td>\n",
              "    </tr>\n",
              "    <tr>\n",
              "      <th>140866</th>\n",
              "      <td>worth</td>\n",
              "      <td>positive</td>\n",
              "      <td>1</td>\n",
              "    </tr>\n",
              "  </tbody>\n",
              "</table>\n",
              "<p>2302 rows × 3 columns</p>\n",
              "</div>"
            ],
            "text/plain": [
              "               palavra sentimento  pertence\n",
              "76                abba   positive         1\n",
              "206            ability   positive         1\n",
              "366     abovementioned   positive         1\n",
              "486           absolute   positive         1\n",
              "496         absolution   positive         1\n",
              "...                ...        ...       ...\n",
              "140506        wondrous   positive         1\n",
              "140626            word   positive         1\n",
              "140696         working   positive         1\n",
              "140856         worship   positive         1\n",
              "140866           worth   positive         1\n",
              "\n",
              "[2302 rows x 3 columns]"
            ]
          },
          "metadata": {
            "tags": []
          },
          "execution_count": 12
        }
      ]
    },
    {
      "cell_type": "code",
      "metadata": {
        "id": "aGJuOZDz3WNZ",
        "colab_type": "code",
        "colab": {
          "base_uri": "https://localhost:8080/",
          "height": 206
        },
        "outputId": "ef2411f4-7324-4953-a7dd-0772620236fa"
      },
      "source": [
        "#categorias de sentimento da palavra hate - ódio \n",
        "lexicon[(lexicon.palavra == 'hate') & (lexicon.pertence == 1)]"
      ],
      "execution_count": 13,
      "outputs": [
        {
          "output_type": "execute_result",
          "data": {
            "text/html": [
              "<div>\n",
              "<style scoped>\n",
              "    .dataframe tbody tr th:only-of-type {\n",
              "        vertical-align: middle;\n",
              "    }\n",
              "\n",
              "    .dataframe tbody tr th {\n",
              "        vertical-align: top;\n",
              "    }\n",
              "\n",
              "    .dataframe thead th {\n",
              "        text-align: right;\n",
              "    }\n",
              "</style>\n",
              "<table border=\"1\" class=\"dataframe\">\n",
              "  <thead>\n",
              "    <tr style=\"text-align: right;\">\n",
              "      <th></th>\n",
              "      <th>palavra</th>\n",
              "      <th>sentimento</th>\n",
              "      <th>pertence</th>\n",
              "    </tr>\n",
              "  </thead>\n",
              "  <tbody>\n",
              "    <tr>\n",
              "      <th>58260</th>\n",
              "      <td>hate</td>\n",
              "      <td>anger</td>\n",
              "      <td>1</td>\n",
              "    </tr>\n",
              "    <tr>\n",
              "      <th>58262</th>\n",
              "      <td>hate</td>\n",
              "      <td>disgust</td>\n",
              "      <td>1</td>\n",
              "    </tr>\n",
              "    <tr>\n",
              "      <th>58263</th>\n",
              "      <td>hate</td>\n",
              "      <td>fear</td>\n",
              "      <td>1</td>\n",
              "    </tr>\n",
              "    <tr>\n",
              "      <th>58265</th>\n",
              "      <td>hate</td>\n",
              "      <td>negative</td>\n",
              "      <td>1</td>\n",
              "    </tr>\n",
              "    <tr>\n",
              "      <th>58267</th>\n",
              "      <td>hate</td>\n",
              "      <td>sadness</td>\n",
              "      <td>1</td>\n",
              "    </tr>\n",
              "  </tbody>\n",
              "</table>\n",
              "</div>"
            ],
            "text/plain": [
              "      palavra sentimento  pertence\n",
              "58260    hate      anger         1\n",
              "58262    hate    disgust         1\n",
              "58263    hate       fear         1\n",
              "58265    hate   negative         1\n",
              "58267    hate    sadness         1"
            ]
          },
          "metadata": {
            "tags": []
          },
          "execution_count": 13
        }
      ]
    },
    {
      "cell_type": "code",
      "metadata": {
        "id": "-dSrh76y3WNt",
        "colab_type": "code",
        "colab": {
          "base_uri": "https://localhost:8080/",
          "height": 206
        },
        "outputId": "d613028e-6b74-4235-bdc0-84ec8f7c6114"
      },
      "source": [
        "# como pivotear a tabela\n",
        "pivot_lexicon = lexicon.pivot(index='palavra', columns='sentimento', values = 'pertence').reset_index()\n",
        "pivot_lexicon.head()"
      ],
      "execution_count": 14,
      "outputs": [
        {
          "output_type": "execute_result",
          "data": {
            "text/html": [
              "<div>\n",
              "<style scoped>\n",
              "    .dataframe tbody tr th:only-of-type {\n",
              "        vertical-align: middle;\n",
              "    }\n",
              "\n",
              "    .dataframe tbody tr th {\n",
              "        vertical-align: top;\n",
              "    }\n",
              "\n",
              "    .dataframe thead th {\n",
              "        text-align: right;\n",
              "    }\n",
              "</style>\n",
              "<table border=\"1\" class=\"dataframe\">\n",
              "  <thead>\n",
              "    <tr style=\"text-align: right;\">\n",
              "      <th>sentimento</th>\n",
              "      <th>palavra</th>\n",
              "      <th>anger</th>\n",
              "      <th>anticipation</th>\n",
              "      <th>disgust</th>\n",
              "      <th>fear</th>\n",
              "      <th>joy</th>\n",
              "      <th>negative</th>\n",
              "      <th>positive</th>\n",
              "      <th>sadness</th>\n",
              "      <th>surprise</th>\n",
              "      <th>trust</th>\n",
              "    </tr>\n",
              "  </thead>\n",
              "  <tbody>\n",
              "    <tr>\n",
              "      <th>0</th>\n",
              "      <td>NaN</td>\n",
              "      <td>0</td>\n",
              "      <td>0</td>\n",
              "      <td>0</td>\n",
              "      <td>0</td>\n",
              "      <td>0</td>\n",
              "      <td>0</td>\n",
              "      <td>0</td>\n",
              "      <td>0</td>\n",
              "      <td>0</td>\n",
              "      <td>0</td>\n",
              "    </tr>\n",
              "    <tr>\n",
              "      <th>1</th>\n",
              "      <td>aback</td>\n",
              "      <td>0</td>\n",
              "      <td>0</td>\n",
              "      <td>0</td>\n",
              "      <td>0</td>\n",
              "      <td>0</td>\n",
              "      <td>0</td>\n",
              "      <td>0</td>\n",
              "      <td>0</td>\n",
              "      <td>0</td>\n",
              "      <td>0</td>\n",
              "    </tr>\n",
              "    <tr>\n",
              "      <th>2</th>\n",
              "      <td>abacus</td>\n",
              "      <td>0</td>\n",
              "      <td>0</td>\n",
              "      <td>0</td>\n",
              "      <td>0</td>\n",
              "      <td>0</td>\n",
              "      <td>0</td>\n",
              "      <td>0</td>\n",
              "      <td>0</td>\n",
              "      <td>0</td>\n",
              "      <td>1</td>\n",
              "    </tr>\n",
              "    <tr>\n",
              "      <th>3</th>\n",
              "      <td>abandon</td>\n",
              "      <td>0</td>\n",
              "      <td>0</td>\n",
              "      <td>0</td>\n",
              "      <td>1</td>\n",
              "      <td>0</td>\n",
              "      <td>1</td>\n",
              "      <td>0</td>\n",
              "      <td>1</td>\n",
              "      <td>0</td>\n",
              "      <td>0</td>\n",
              "    </tr>\n",
              "    <tr>\n",
              "      <th>4</th>\n",
              "      <td>abandoned</td>\n",
              "      <td>1</td>\n",
              "      <td>0</td>\n",
              "      <td>0</td>\n",
              "      <td>1</td>\n",
              "      <td>0</td>\n",
              "      <td>1</td>\n",
              "      <td>0</td>\n",
              "      <td>1</td>\n",
              "      <td>0</td>\n",
              "      <td>0</td>\n",
              "    </tr>\n",
              "  </tbody>\n",
              "</table>\n",
              "</div>"
            ],
            "text/plain": [
              "sentimento    palavra  anger  anticipation  ...  sadness  surprise  trust\n",
              "0                 NaN      0             0  ...        0         0      0\n",
              "1               aback      0             0  ...        0         0      0\n",
              "2              abacus      0             0  ...        0         0      1\n",
              "3             abandon      0             0  ...        1         0      0\n",
              "4           abandoned      1             0  ...        1         0      0\n",
              "\n",
              "[5 rows x 11 columns]"
            ]
          },
          "metadata": {
            "tags": []
          },
          "execution_count": 14
        }
      ]
    },
    {
      "cell_type": "code",
      "metadata": {
        "id": "A_Bb9DDK3WN8",
        "colab_type": "code",
        "colab": {
          "base_uri": "https://localhost:8080/",
          "height": 1000
        },
        "outputId": "ce537a94-8871-4d79-b99b-29d5d493f714"
      },
      "source": [
        "#palavras que pertençam a categoria joy e negative ao mesmo tempo - contradição\n",
        "pivot_lexicon[(pivot_lexicon.joy == 1) & (pivot_lexicon.negative == 1)]"
      ],
      "execution_count": 15,
      "outputs": [
        {
          "output_type": "execute_result",
          "data": {
            "text/html": [
              "<div>\n",
              "<style scoped>\n",
              "    .dataframe tbody tr th:only-of-type {\n",
              "        vertical-align: middle;\n",
              "    }\n",
              "\n",
              "    .dataframe tbody tr th {\n",
              "        vertical-align: top;\n",
              "    }\n",
              "\n",
              "    .dataframe thead th {\n",
              "        text-align: right;\n",
              "    }\n",
              "</style>\n",
              "<table border=\"1\" class=\"dataframe\">\n",
              "  <thead>\n",
              "    <tr style=\"text-align: right;\">\n",
              "      <th>sentimento</th>\n",
              "      <th>palavra</th>\n",
              "      <th>anger</th>\n",
              "      <th>anticipation</th>\n",
              "      <th>disgust</th>\n",
              "      <th>fear</th>\n",
              "      <th>joy</th>\n",
              "      <th>negative</th>\n",
              "      <th>positive</th>\n",
              "      <th>sadness</th>\n",
              "      <th>surprise</th>\n",
              "      <th>trust</th>\n",
              "    </tr>\n",
              "  </thead>\n",
              "  <tbody>\n",
              "    <tr>\n",
              "      <th>62</th>\n",
              "      <td>abundance</td>\n",
              "      <td>0</td>\n",
              "      <td>1</td>\n",
              "      <td>1</td>\n",
              "      <td>0</td>\n",
              "      <td>1</td>\n",
              "      <td>1</td>\n",
              "      <td>1</td>\n",
              "      <td>0</td>\n",
              "      <td>0</td>\n",
              "      <td>1</td>\n",
              "    </tr>\n",
              "    <tr>\n",
              "      <th>1019</th>\n",
              "      <td>balm</td>\n",
              "      <td>0</td>\n",
              "      <td>1</td>\n",
              "      <td>0</td>\n",
              "      <td>0</td>\n",
              "      <td>1</td>\n",
              "      <td>1</td>\n",
              "      <td>1</td>\n",
              "      <td>0</td>\n",
              "      <td>0</td>\n",
              "      <td>0</td>\n",
              "    </tr>\n",
              "    <tr>\n",
              "      <th>1383</th>\n",
              "      <td>boisterous</td>\n",
              "      <td>1</td>\n",
              "      <td>1</td>\n",
              "      <td>0</td>\n",
              "      <td>0</td>\n",
              "      <td>1</td>\n",
              "      <td>1</td>\n",
              "      <td>1</td>\n",
              "      <td>0</td>\n",
              "      <td>0</td>\n",
              "      <td>0</td>\n",
              "    </tr>\n",
              "    <tr>\n",
              "      <th>1917</th>\n",
              "      <td>celebrity</td>\n",
              "      <td>1</td>\n",
              "      <td>1</td>\n",
              "      <td>1</td>\n",
              "      <td>0</td>\n",
              "      <td>1</td>\n",
              "      <td>1</td>\n",
              "      <td>1</td>\n",
              "      <td>0</td>\n",
              "      <td>1</td>\n",
              "      <td>1</td>\n",
              "    </tr>\n",
              "    <tr>\n",
              "      <th>2005</th>\n",
              "      <td>charmed</td>\n",
              "      <td>0</td>\n",
              "      <td>0</td>\n",
              "      <td>0</td>\n",
              "      <td>0</td>\n",
              "      <td>1</td>\n",
              "      <td>1</td>\n",
              "      <td>1</td>\n",
              "      <td>0</td>\n",
              "      <td>0</td>\n",
              "      <td>0</td>\n",
              "    </tr>\n",
              "    <tr>\n",
              "      <th>4281</th>\n",
              "      <td>endless</td>\n",
              "      <td>1</td>\n",
              "      <td>0</td>\n",
              "      <td>0</td>\n",
              "      <td>1</td>\n",
              "      <td>1</td>\n",
              "      <td>1</td>\n",
              "      <td>1</td>\n",
              "      <td>1</td>\n",
              "      <td>0</td>\n",
              "      <td>1</td>\n",
              "    </tr>\n",
              "    <tr>\n",
              "      <th>4417</th>\n",
              "      <td>erotic</td>\n",
              "      <td>0</td>\n",
              "      <td>1</td>\n",
              "      <td>0</td>\n",
              "      <td>0</td>\n",
              "      <td>1</td>\n",
              "      <td>1</td>\n",
              "      <td>1</td>\n",
              "      <td>0</td>\n",
              "      <td>1</td>\n",
              "      <td>1</td>\n",
              "    </tr>\n",
              "    <tr>\n",
              "      <th>4819</th>\n",
              "      <td>feeling</td>\n",
              "      <td>1</td>\n",
              "      <td>1</td>\n",
              "      <td>1</td>\n",
              "      <td>1</td>\n",
              "      <td>1</td>\n",
              "      <td>1</td>\n",
              "      <td>1</td>\n",
              "      <td>1</td>\n",
              "      <td>1</td>\n",
              "      <td>1</td>\n",
              "    </tr>\n",
              "    <tr>\n",
              "      <th>5009</th>\n",
              "      <td>flirt</td>\n",
              "      <td>0</td>\n",
              "      <td>1</td>\n",
              "      <td>0</td>\n",
              "      <td>0</td>\n",
              "      <td>1</td>\n",
              "      <td>1</td>\n",
              "      <td>1</td>\n",
              "      <td>0</td>\n",
              "      <td>1</td>\n",
              "      <td>1</td>\n",
              "    </tr>\n",
              "    <tr>\n",
              "      <th>5717</th>\n",
              "      <td>gush</td>\n",
              "      <td>0</td>\n",
              "      <td>0</td>\n",
              "      <td>1</td>\n",
              "      <td>0</td>\n",
              "      <td>1</td>\n",
              "      <td>1</td>\n",
              "      <td>0</td>\n",
              "      <td>0</td>\n",
              "      <td>0</td>\n",
              "      <td>0</td>\n",
              "    </tr>\n",
              "    <tr>\n",
              "      <th>5896</th>\n",
              "      <td>hedonism</td>\n",
              "      <td>0</td>\n",
              "      <td>0</td>\n",
              "      <td>0</td>\n",
              "      <td>0</td>\n",
              "      <td>1</td>\n",
              "      <td>1</td>\n",
              "      <td>1</td>\n",
              "      <td>0</td>\n",
              "      <td>0</td>\n",
              "      <td>0</td>\n",
              "    </tr>\n",
              "    <tr>\n",
              "      <th>5976</th>\n",
              "      <td>highest</td>\n",
              "      <td>0</td>\n",
              "      <td>1</td>\n",
              "      <td>0</td>\n",
              "      <td>1</td>\n",
              "      <td>1</td>\n",
              "      <td>1</td>\n",
              "      <td>1</td>\n",
              "      <td>0</td>\n",
              "      <td>1</td>\n",
              "      <td>0</td>\n",
              "    </tr>\n",
              "    <tr>\n",
              "      <th>6428</th>\n",
              "      <td>income</td>\n",
              "      <td>0</td>\n",
              "      <td>1</td>\n",
              "      <td>0</td>\n",
              "      <td>0</td>\n",
              "      <td>1</td>\n",
              "      <td>1</td>\n",
              "      <td>1</td>\n",
              "      <td>1</td>\n",
              "      <td>0</td>\n",
              "      <td>1</td>\n",
              "    </tr>\n",
              "    <tr>\n",
              "      <th>6737</th>\n",
              "      <td>intense</td>\n",
              "      <td>1</td>\n",
              "      <td>0</td>\n",
              "      <td>1</td>\n",
              "      <td>1</td>\n",
              "      <td>1</td>\n",
              "      <td>1</td>\n",
              "      <td>1</td>\n",
              "      <td>0</td>\n",
              "      <td>1</td>\n",
              "      <td>1</td>\n",
              "    </tr>\n",
              "    <tr>\n",
              "      <th>7398</th>\n",
              "      <td>liquor</td>\n",
              "      <td>1</td>\n",
              "      <td>0</td>\n",
              "      <td>0</td>\n",
              "      <td>0</td>\n",
              "      <td>1</td>\n",
              "      <td>1</td>\n",
              "      <td>0</td>\n",
              "      <td>1</td>\n",
              "      <td>0</td>\n",
              "      <td>0</td>\n",
              "    </tr>\n",
              "    <tr>\n",
              "      <th>7924</th>\n",
              "      <td>midwife</td>\n",
              "      <td>0</td>\n",
              "      <td>1</td>\n",
              "      <td>0</td>\n",
              "      <td>0</td>\n",
              "      <td>1</td>\n",
              "      <td>1</td>\n",
              "      <td>1</td>\n",
              "      <td>0</td>\n",
              "      <td>0</td>\n",
              "      <td>1</td>\n",
              "    </tr>\n",
              "    <tr>\n",
              "      <th>8158</th>\n",
              "      <td>mother</td>\n",
              "      <td>0</td>\n",
              "      <td>1</td>\n",
              "      <td>0</td>\n",
              "      <td>0</td>\n",
              "      <td>1</td>\n",
              "      <td>1</td>\n",
              "      <td>1</td>\n",
              "      <td>1</td>\n",
              "      <td>0</td>\n",
              "      <td>1</td>\n",
              "    </tr>\n",
              "    <tr>\n",
              "      <th>8762</th>\n",
              "      <td>outburst</td>\n",
              "      <td>1</td>\n",
              "      <td>0</td>\n",
              "      <td>0</td>\n",
              "      <td>1</td>\n",
              "      <td>1</td>\n",
              "      <td>1</td>\n",
              "      <td>1</td>\n",
              "      <td>1</td>\n",
              "      <td>1</td>\n",
              "      <td>0</td>\n",
              "    </tr>\n",
              "    <tr>\n",
              "      <th>8793</th>\n",
              "      <td>outstanding</td>\n",
              "      <td>0</td>\n",
              "      <td>0</td>\n",
              "      <td>0</td>\n",
              "      <td>0</td>\n",
              "      <td>1</td>\n",
              "      <td>1</td>\n",
              "      <td>1</td>\n",
              "      <td>0</td>\n",
              "      <td>0</td>\n",
              "      <td>0</td>\n",
              "    </tr>\n",
              "    <tr>\n",
              "      <th>8939</th>\n",
              "      <td>parade</td>\n",
              "      <td>0</td>\n",
              "      <td>1</td>\n",
              "      <td>0</td>\n",
              "      <td>1</td>\n",
              "      <td>1</td>\n",
              "      <td>1</td>\n",
              "      <td>1</td>\n",
              "      <td>0</td>\n",
              "      <td>1</td>\n",
              "      <td>0</td>\n",
              "    </tr>\n",
              "    <tr>\n",
              "      <th>10198</th>\n",
              "      <td>rave</td>\n",
              "      <td>1</td>\n",
              "      <td>0</td>\n",
              "      <td>1</td>\n",
              "      <td>0</td>\n",
              "      <td>1</td>\n",
              "      <td>1</td>\n",
              "      <td>1</td>\n",
              "      <td>0</td>\n",
              "      <td>1</td>\n",
              "      <td>1</td>\n",
              "    </tr>\n",
              "    <tr>\n",
              "      <th>10202</th>\n",
              "      <td>raving</td>\n",
              "      <td>1</td>\n",
              "      <td>1</td>\n",
              "      <td>0</td>\n",
              "      <td>1</td>\n",
              "      <td>1</td>\n",
              "      <td>1</td>\n",
              "      <td>0</td>\n",
              "      <td>0</td>\n",
              "      <td>1</td>\n",
              "      <td>0</td>\n",
              "    </tr>\n",
              "    <tr>\n",
              "      <th>10438</th>\n",
              "      <td>rekindle</td>\n",
              "      <td>0</td>\n",
              "      <td>1</td>\n",
              "      <td>0</td>\n",
              "      <td>1</td>\n",
              "      <td>1</td>\n",
              "      <td>1</td>\n",
              "      <td>1</td>\n",
              "      <td>0</td>\n",
              "      <td>1</td>\n",
              "      <td>0</td>\n",
              "    </tr>\n",
              "    <tr>\n",
              "      <th>10676</th>\n",
              "      <td>retirement</td>\n",
              "      <td>0</td>\n",
              "      <td>1</td>\n",
              "      <td>0</td>\n",
              "      <td>1</td>\n",
              "      <td>1</td>\n",
              "      <td>1</td>\n",
              "      <td>1</td>\n",
              "      <td>1</td>\n",
              "      <td>0</td>\n",
              "      <td>1</td>\n",
              "    </tr>\n",
              "    <tr>\n",
              "      <th>11216</th>\n",
              "      <td>sensual</td>\n",
              "      <td>0</td>\n",
              "      <td>1</td>\n",
              "      <td>0</td>\n",
              "      <td>0</td>\n",
              "      <td>1</td>\n",
              "      <td>1</td>\n",
              "      <td>1</td>\n",
              "      <td>0</td>\n",
              "      <td>1</td>\n",
              "      <td>1</td>\n",
              "    </tr>\n",
              "    <tr>\n",
              "      <th>11451</th>\n",
              "      <td>silly</td>\n",
              "      <td>0</td>\n",
              "      <td>0</td>\n",
              "      <td>0</td>\n",
              "      <td>0</td>\n",
              "      <td>1</td>\n",
              "      <td>1</td>\n",
              "      <td>0</td>\n",
              "      <td>0</td>\n",
              "      <td>0</td>\n",
              "      <td>0</td>\n",
              "    </tr>\n",
              "    <tr>\n",
              "      <th>12030</th>\n",
              "      <td>sterling</td>\n",
              "      <td>1</td>\n",
              "      <td>1</td>\n",
              "      <td>0</td>\n",
              "      <td>0</td>\n",
              "      <td>1</td>\n",
              "      <td>1</td>\n",
              "      <td>1</td>\n",
              "      <td>0</td>\n",
              "      <td>0</td>\n",
              "      <td>1</td>\n",
              "    </tr>\n",
              "    <tr>\n",
              "      <th>12350</th>\n",
              "      <td>supremacy</td>\n",
              "      <td>1</td>\n",
              "      <td>1</td>\n",
              "      <td>0</td>\n",
              "      <td>1</td>\n",
              "      <td>1</td>\n",
              "      <td>1</td>\n",
              "      <td>1</td>\n",
              "      <td>0</td>\n",
              "      <td>1</td>\n",
              "      <td>1</td>\n",
              "    </tr>\n",
              "    <tr>\n",
              "      <th>12532</th>\n",
              "      <td>tantalizing</td>\n",
              "      <td>0</td>\n",
              "      <td>1</td>\n",
              "      <td>0</td>\n",
              "      <td>0</td>\n",
              "      <td>1</td>\n",
              "      <td>1</td>\n",
              "      <td>1</td>\n",
              "      <td>0</td>\n",
              "      <td>1</td>\n",
              "      <td>0</td>\n",
              "    </tr>\n",
              "    <tr>\n",
              "      <th>13013</th>\n",
              "      <td>treat</td>\n",
              "      <td>1</td>\n",
              "      <td>1</td>\n",
              "      <td>1</td>\n",
              "      <td>1</td>\n",
              "      <td>1</td>\n",
              "      <td>1</td>\n",
              "      <td>1</td>\n",
              "      <td>1</td>\n",
              "      <td>1</td>\n",
              "      <td>1</td>\n",
              "    </tr>\n",
              "    <tr>\n",
              "      <th>13215</th>\n",
              "      <td>unbeaten</td>\n",
              "      <td>0</td>\n",
              "      <td>1</td>\n",
              "      <td>0</td>\n",
              "      <td>0</td>\n",
              "      <td>1</td>\n",
              "      <td>1</td>\n",
              "      <td>1</td>\n",
              "      <td>1</td>\n",
              "      <td>1</td>\n",
              "      <td>0</td>\n",
              "    </tr>\n",
              "    <tr>\n",
              "      <th>13313</th>\n",
              "      <td>unexpected</td>\n",
              "      <td>0</td>\n",
              "      <td>1</td>\n",
              "      <td>0</td>\n",
              "      <td>1</td>\n",
              "      <td>1</td>\n",
              "      <td>1</td>\n",
              "      <td>1</td>\n",
              "      <td>0</td>\n",
              "      <td>1</td>\n",
              "      <td>0</td>\n",
              "    </tr>\n",
              "    <tr>\n",
              "      <th>13478</th>\n",
              "      <td>untie</td>\n",
              "      <td>0</td>\n",
              "      <td>0</td>\n",
              "      <td>0</td>\n",
              "      <td>0</td>\n",
              "      <td>1</td>\n",
              "      <td>1</td>\n",
              "      <td>1</td>\n",
              "      <td>0</td>\n",
              "      <td>0</td>\n",
              "      <td>0</td>\n",
              "    </tr>\n",
              "    <tr>\n",
              "      <th>13794</th>\n",
              "      <td>vote</td>\n",
              "      <td>1</td>\n",
              "      <td>1</td>\n",
              "      <td>0</td>\n",
              "      <td>0</td>\n",
              "      <td>1</td>\n",
              "      <td>1</td>\n",
              "      <td>1</td>\n",
              "      <td>1</td>\n",
              "      <td>1</td>\n",
              "      <td>1</td>\n",
              "    </tr>\n",
              "    <tr>\n",
              "      <th>13920</th>\n",
              "      <td>weight</td>\n",
              "      <td>0</td>\n",
              "      <td>1</td>\n",
              "      <td>1</td>\n",
              "      <td>1</td>\n",
              "      <td>1</td>\n",
              "      <td>1</td>\n",
              "      <td>1</td>\n",
              "      <td>1</td>\n",
              "      <td>1</td>\n",
              "      <td>1</td>\n",
              "    </tr>\n",
              "    <tr>\n",
              "      <th>13950</th>\n",
              "      <td>whim</td>\n",
              "      <td>0</td>\n",
              "      <td>1</td>\n",
              "      <td>0</td>\n",
              "      <td>0</td>\n",
              "      <td>1</td>\n",
              "      <td>1</td>\n",
              "      <td>0</td>\n",
              "      <td>0</td>\n",
              "      <td>1</td>\n",
              "      <td>0</td>\n",
              "    </tr>\n",
              "    <tr>\n",
              "      <th>14144</th>\n",
              "      <td>yearning</td>\n",
              "      <td>0</td>\n",
              "      <td>1</td>\n",
              "      <td>0</td>\n",
              "      <td>0</td>\n",
              "      <td>1</td>\n",
              "      <td>1</td>\n",
              "      <td>1</td>\n",
              "      <td>0</td>\n",
              "      <td>0</td>\n",
              "      <td>1</td>\n",
              "    </tr>\n",
              "  </tbody>\n",
              "</table>\n",
              "</div>"
            ],
            "text/plain": [
              "sentimento      palavra  anger  anticipation  ...  sadness  surprise  trust\n",
              "62            abundance      0             1  ...        0         0      1\n",
              "1019               balm      0             1  ...        0         0      0\n",
              "1383         boisterous      1             1  ...        0         0      0\n",
              "1917          celebrity      1             1  ...        0         1      1\n",
              "2005            charmed      0             0  ...        0         0      0\n",
              "4281            endless      1             0  ...        1         0      1\n",
              "4417             erotic      0             1  ...        0         1      1\n",
              "4819            feeling      1             1  ...        1         1      1\n",
              "5009              flirt      0             1  ...        0         1      1\n",
              "5717               gush      0             0  ...        0         0      0\n",
              "5896           hedonism      0             0  ...        0         0      0\n",
              "5976            highest      0             1  ...        0         1      0\n",
              "6428             income      0             1  ...        1         0      1\n",
              "6737            intense      1             0  ...        0         1      1\n",
              "7398             liquor      1             0  ...        1         0      0\n",
              "7924            midwife      0             1  ...        0         0      1\n",
              "8158             mother      0             1  ...        1         0      1\n",
              "8762           outburst      1             0  ...        1         1      0\n",
              "8793        outstanding      0             0  ...        0         0      0\n",
              "8939             parade      0             1  ...        0         1      0\n",
              "10198              rave      1             0  ...        0         1      1\n",
              "10202            raving      1             1  ...        0         1      0\n",
              "10438          rekindle      0             1  ...        0         1      0\n",
              "10676        retirement      0             1  ...        1         0      1\n",
              "11216           sensual      0             1  ...        0         1      1\n",
              "11451             silly      0             0  ...        0         0      0\n",
              "12030          sterling      1             1  ...        0         0      1\n",
              "12350         supremacy      1             1  ...        0         1      1\n",
              "12532       tantalizing      0             1  ...        0         1      0\n",
              "13013             treat      1             1  ...        1         1      1\n",
              "13215          unbeaten      0             1  ...        1         1      0\n",
              "13313        unexpected      0             1  ...        0         1      0\n",
              "13478             untie      0             0  ...        0         0      0\n",
              "13794              vote      1             1  ...        1         1      1\n",
              "13920            weight      0             1  ...        1         1      1\n",
              "13950              whim      0             1  ...        0         1      0\n",
              "14144          yearning      0             1  ...        0         0      1\n",
              "\n",
              "[37 rows x 11 columns]"
            ]
          },
          "metadata": {
            "tags": []
          },
          "execution_count": 15
        }
      ]
    },
    {
      "cell_type": "code",
      "metadata": {
        "id": "YqbB2I6D3WOc",
        "colab_type": "code",
        "colab": {
          "base_uri": "https://localhost:8080/",
          "height": 237
        },
        "outputId": "b59630d5-6968-4b74-f3c5-f0215dd2ec78"
      },
      "source": [
        "#palavras da categoria joy\n",
        "pivot_lexicon[pivot_lexicon.joy == 1].palavra"
      ],
      "execution_count": 32,
      "outputs": [
        {
          "output_type": "execute_result",
          "data": {
            "text/plain": [
              "50          absolution\n",
              "62           abundance\n",
              "63            abundant\n",
              "86            accolade\n",
              "89       accompaniment\n",
              "             ...      \n",
              "14162            young\n",
              "14164            youth\n",
              "14167             zeal\n",
              "14169          zealous\n",
              "14174             zest\n",
              "Name: palavra, Length: 689, dtype: object"
            ]
          },
          "metadata": {
            "tags": []
          },
          "execution_count": 32
        }
      ]
    },
    {
      "cell_type": "code",
      "metadata": {
        "id": "Bk8FK9fV3WOt",
        "colab_type": "code",
        "colab": {}
      },
      "source": [
        "#listas de palavras negativas e positivas\n",
        "nrc_neg = set(pivot_lexicon[pivot_lexicon.negative == 1].palavra)\n",
        "nrc_pos = set(pivot_lexicon[pivot_lexicon.positive == 1].palavra)"
      ],
      "execution_count": 17,
      "outputs": []
    },
    {
      "cell_type": "markdown",
      "metadata": {
        "id": "E5hkGfFs3WO3",
        "colab_type": "text"
      },
      "source": [
        "### Opinion Lexicon"
      ]
    },
    {
      "cell_type": "markdown",
      "metadata": {
        "id": "N1Xp5oYR3WO5",
        "colab_type": "text"
      },
      "source": [
        "Hu & Liu Opinion Lexicon - https://www.cs.uic.edu/~liub/FBS/sentiment-analysis.html"
      ]
    },
    {
      "cell_type": "code",
      "metadata": {
        "id": "kk97V9QJ3WO7",
        "colab_type": "code",
        "colab": {
          "base_uri": "https://localhost:8080/",
          "height": 35
        },
        "outputId": "7ebe7909-d19b-439c-825e-c37c47a5cbb4"
      },
      "source": [
        "opinion_lexicon.words()"
      ],
      "execution_count": 23,
      "outputs": [
        {
          "output_type": "execute_result",
          "data": {
            "text/plain": [
              "['2-faced', '2-faces', 'abnormal', 'abolish', ...]"
            ]
          },
          "metadata": {
            "tags": []
          },
          "execution_count": 23
        }
      ]
    },
    {
      "cell_type": "code",
      "metadata": {
        "id": "LynuJDRw3WPP",
        "colab_type": "code",
        "colab": {
          "base_uri": "https://localhost:8080/",
          "height": 35
        },
        "outputId": "3db7f48f-53dc-4885-ad30-d998d711ac61"
      },
      "source": [
        "len(opinion_lexicon.words())"
      ],
      "execution_count": 24,
      "outputs": [
        {
          "output_type": "execute_result",
          "data": {
            "text/plain": [
              "6789"
            ]
          },
          "metadata": {
            "tags": []
          },
          "execution_count": 24
        }
      ]
    },
    {
      "cell_type": "code",
      "metadata": {
        "id": "bOoZ9Xfe3WPb",
        "colab_type": "code",
        "colab": {
          "base_uri": "https://localhost:8080/",
          "height": 201
        },
        "outputId": "927eb67d-2359-4a03-89fe-8199917c5c75"
      },
      "source": [
        "opinion_lexicon.negative()[0:10]"
      ],
      "execution_count": 25,
      "outputs": [
        {
          "output_type": "execute_result",
          "data": {
            "text/plain": [
              "['2-faced',\n",
              " '2-faces',\n",
              " 'abnormal',\n",
              " 'abolish',\n",
              " 'abominable',\n",
              " 'abominably',\n",
              " 'abominate',\n",
              " 'abomination',\n",
              " 'abort',\n",
              " 'aborted']"
            ]
          },
          "metadata": {
            "tags": []
          },
          "execution_count": 25
        }
      ]
    },
    {
      "cell_type": "code",
      "metadata": {
        "id": "or0sEdRg3WPk",
        "colab_type": "code",
        "colab": {
          "base_uri": "https://localhost:8080/",
          "height": 201
        },
        "outputId": "a263de0b-dfda-4797-ce1a-c8e9b4bc7d20"
      },
      "source": [
        "opinion_lexicon.positive()[0:10]"
      ],
      "execution_count": 26,
      "outputs": [
        {
          "output_type": "execute_result",
          "data": {
            "text/plain": [
              "['a+',\n",
              " 'abound',\n",
              " 'abounds',\n",
              " 'abundance',\n",
              " 'abundant',\n",
              " 'accessable',\n",
              " 'accessible',\n",
              " 'acclaim',\n",
              " 'acclaimed',\n",
              " 'acclamation']"
            ]
          },
          "metadata": {
            "tags": []
          },
          "execution_count": 26
        }
      ]
    },
    {
      "cell_type": "code",
      "metadata": {
        "id": "PBLXS3Xr3WP5",
        "colab_type": "code",
        "colab": {}
      },
      "source": [
        "#listas de palavras negativas e positivas - opinion lexicon\n",
        "pos_list = set(opinion_lexicon.positive())\n",
        "neg_list = set(opinion_lexicon.negative())"
      ],
      "execution_count": 27,
      "outputs": []
    },
    {
      "cell_type": "markdown",
      "metadata": {
        "id": "X78weLkD3WQL",
        "colab_type": "text"
      },
      "source": [
        "### Aplicando léxicos a um dataset"
      ]
    },
    {
      "cell_type": "markdown",
      "metadata": {
        "id": "ad-BETlQ3WQT",
        "colab_type": "text"
      },
      "source": [
        "Vamos usar uma parte dos dados do conjunto de dados Economic News Article Tone 2016 (https://data.world/crowdflower/economic-news-article-tone), disponível por CrowdFlower. As notícias sobre a economia americana são coletadas de vários sites de notícias publicadas entre 1951 e 2014. Há para cada notícia, um sentimento dado por um humano em uma escala de 1 a 9, onde 1 é o mais negativo e 9 o mais positivo. Também existe o nível de confidência sobre a classificação dada em uma escala de 0 a.\n",
        "\n",
        "Há 8000 artigos de notícias e quinze colunas:\n",
        "\n",
        "- articleid: id do artigo\n",
        "- text: conteúdo textual \n",
        "- date: data de publicação\n",
        "- positivity: sentimento dado por humano (ground truth)human-rated sentiment - 1(most negative)-9(most positive)\n",
        "- positivity.confidence: confidence of human rating"
      ]
    },
    {
      "cell_type": "code",
      "metadata": {
        "id": "kHNluT-X6xon",
        "colab_type": "code",
        "colab": {
          "base_uri": "https://localhost:8080/",
          "height": 129
        },
        "outputId": "65279d43-784e-498e-9e77-4cf4fab9b5d8"
      },
      "source": [
        "from google.colab import drive\n",
        "drive.mount('/content/drive')"
      ],
      "execution_count": 31,
      "outputs": [
        {
          "output_type": "stream",
          "text": [
            "Go to this URL in a browser: https://accounts.google.com/o/oauth2/auth?client_id=947318989803-6bn6qk8qdgf4n4g3pfee6491hc0brc4i.apps.googleusercontent.com&redirect_uri=urn%3aietf%3awg%3aoauth%3a2.0%3aoob&scope=email%20https%3a%2f%2fwww.googleapis.com%2fauth%2fdocs.test%20https%3a%2f%2fwww.googleapis.com%2fauth%2fdrive%20https%3a%2f%2fwww.googleapis.com%2fauth%2fdrive.photos.readonly%20https%3a%2f%2fwww.googleapis.com%2fauth%2fpeopleapi.readonly&response_type=code\n",
            "\n",
            "Enter your authorization code:\n",
            "··········\n",
            "Mounted at /content/drive\n"
          ],
          "name": "stdout"
        }
      ]
    },
    {
      "cell_type": "code",
      "metadata": {
        "id": "iQD-uCpZ3WQY",
        "colab_type": "code",
        "colab": {
          "base_uri": "https://localhost:8080/",
          "height": 35
        },
        "outputId": "2289f86c-d21c-42b0-d949-c1d60fe286e1"
      },
      "source": [
        "#extraindo arquivo de dados\n",
        "#path_to_zip = 'data/dataset.zip'\n",
        "path_to_zip = '/content/drive/My Drive/Colab Notebooks/POS_IA_ML_PUC_Minas/13 - Analise Sentimentos/dados/dataset.zip'\n",
        "path_to_file = 'crowdflower-economic-news-article-tone/data/full_economic_news_dfe_839861.csv'\n",
        "path_write = 'data/'\n",
        "\n",
        "extract_from_zip(path_to_zip, path_to_file, path_to_write)"
      ],
      "execution_count": 33,
      "outputs": [
        {
          "output_type": "stream",
          "text": [
            "Extraindo...\n"
          ],
          "name": "stdout"
        }
      ]
    },
    {
      "cell_type": "code",
      "metadata": {
        "id": "oLmJMwwr3WQi",
        "colab_type": "code",
        "colab": {}
      },
      "source": [
        "#lendo dataset\n",
        "file = 'data/crowdflower-economic-news-article-tone/data/full_economic_news_dfe_839861.csv'\n",
        "\n",
        "dataset = pd.read_csv(file)"
      ],
      "execution_count": 34,
      "outputs": []
    },
    {
      "cell_type": "code",
      "metadata": {
        "id": "edoN-ZTb3WQ6",
        "colab_type": "code",
        "colab": {
          "base_uri": "https://localhost:8080/",
          "height": 306
        },
        "outputId": "64deb34b-1a56-4b18-f9ec-d8fb9161c2e7"
      },
      "source": [
        "dataset.head(2)"
      ],
      "execution_count": 35,
      "outputs": [
        {
          "output_type": "execute_result",
          "data": {
            "text/html": [
              "<div>\n",
              "<style scoped>\n",
              "    .dataframe tbody tr th:only-of-type {\n",
              "        vertical-align: middle;\n",
              "    }\n",
              "\n",
              "    .dataframe tbody tr th {\n",
              "        vertical-align: top;\n",
              "    }\n",
              "\n",
              "    .dataframe thead th {\n",
              "        text-align: right;\n",
              "    }\n",
              "</style>\n",
              "<table border=\"1\" class=\"dataframe\">\n",
              "  <thead>\n",
              "    <tr style=\"text-align: right;\">\n",
              "      <th></th>\n",
              "      <th>unit_id</th>\n",
              "      <th>golden</th>\n",
              "      <th>unit_state</th>\n",
              "      <th>trusted_judgments</th>\n",
              "      <th>last_judgment_at</th>\n",
              "      <th>positivity</th>\n",
              "      <th>positivity_confidence</th>\n",
              "      <th>relevance</th>\n",
              "      <th>relevance_confidence</th>\n",
              "      <th>articleid</th>\n",
              "      <th>date</th>\n",
              "      <th>headline</th>\n",
              "      <th>positivity_gold</th>\n",
              "      <th>relevance_gold</th>\n",
              "      <th>text</th>\n",
              "    </tr>\n",
              "  </thead>\n",
              "  <tbody>\n",
              "    <tr>\n",
              "      <th>0</th>\n",
              "      <td>842613455</td>\n",
              "      <td>False</td>\n",
              "      <td>finalized</td>\n",
              "      <td>3</td>\n",
              "      <td>2015-12-05T17:48:00</td>\n",
              "      <td>3.0</td>\n",
              "      <td>0.64</td>\n",
              "      <td>yes</td>\n",
              "      <td>0.64</td>\n",
              "      <td>wsj_398217788</td>\n",
              "      <td>8/14/91</td>\n",
              "      <td>Yields on CDs Fell in the Latest Week</td>\n",
              "      <td>NaN</td>\n",
              "      <td>NaN</td>\n",
              "      <td>NEW YORK -- Yields on most certificates of dep...</td>\n",
              "    </tr>\n",
              "    <tr>\n",
              "      <th>1</th>\n",
              "      <td>842613456</td>\n",
              "      <td>False</td>\n",
              "      <td>finalized</td>\n",
              "      <td>3</td>\n",
              "      <td>2015-12-05T16:54:00</td>\n",
              "      <td>NaN</td>\n",
              "      <td>NaN</td>\n",
              "      <td>no</td>\n",
              "      <td>1.00</td>\n",
              "      <td>wsj_399019502</td>\n",
              "      <td>8/21/07</td>\n",
              "      <td>The Morning Brief: White House Seeks to Limit ...</td>\n",
              "      <td>NaN</td>\n",
              "      <td>NaN</td>\n",
              "      <td>The Wall Street Journal Online&lt;/br&gt;&lt;/br&gt;The Mo...</td>\n",
              "    </tr>\n",
              "  </tbody>\n",
              "</table>\n",
              "</div>"
            ],
            "text/plain": [
              "     unit_id  ...                                               text\n",
              "0  842613455  ...  NEW YORK -- Yields on most certificates of dep...\n",
              "1  842613456  ...  The Wall Street Journal Online</br></br>The Mo...\n",
              "\n",
              "[2 rows x 15 columns]"
            ]
          },
          "metadata": {
            "tags": []
          },
          "execution_count": 35
        }
      ]
    },
    {
      "cell_type": "code",
      "metadata": {
        "id": "6morRJop3WRF",
        "colab_type": "code",
        "colab": {
          "base_uri": "https://localhost:8080/",
          "height": 311
        },
        "outputId": "0e28b08c-a8c5-4b45-b1d2-8e1e227cfb24"
      },
      "source": [
        "#verificando dados \n",
        "dataset.apply(lambda x: x.count(), axis=0)"
      ],
      "execution_count": 36,
      "outputs": [
        {
          "output_type": "execute_result",
          "data": {
            "text/plain": [
              "unit_id                  8000\n",
              "golden                   8000\n",
              "unit_state               8000\n",
              "trusted_judgments        8000\n",
              "last_judgment_at         8000\n",
              "positivity               1420\n",
              "positivity_confidence    3775\n",
              "relevance                8000\n",
              "relevance_confidence     8000\n",
              "articleid                8000\n",
              "date                     8000\n",
              "headline                 8000\n",
              "positivity_gold             0\n",
              "relevance_gold              0\n",
              "text                     8000\n",
              "dtype: int64"
            ]
          },
          "metadata": {
            "tags": []
          },
          "execution_count": 36
        }
      ]
    },
    {
      "cell_type": "code",
      "metadata": {
        "id": "oJ6xr0fq3WRc",
        "colab_type": "code",
        "colab": {
          "base_uri": "https://localhost:8080/",
          "height": 35
        },
        "outputId": "208acabc-e755-407f-ca12-55292142018a"
      },
      "source": [
        "#selecionando colunas que irão ser usadas\n",
        "dataset = dataset.loc[:, ['positivity', 'positivity_confidence', 'text']]\n",
        "dataset.shape"
      ],
      "execution_count": 37,
      "outputs": [
        {
          "output_type": "execute_result",
          "data": {
            "text/plain": [
              "(8000, 3)"
            ]
          },
          "metadata": {
            "tags": []
          },
          "execution_count": 37
        }
      ]
    },
    {
      "cell_type": "code",
      "metadata": {
        "id": "1s8sB1UQ3WR5",
        "colab_type": "code",
        "colab": {
          "base_uri": "https://localhost:8080/",
          "height": 35
        },
        "outputId": "335dcc78-fac9-42d7-ee4c-0be2fd548bed"
      },
      "source": [
        "#removendo linhas com valores nulos\n",
        "dataset.dropna(inplace=True)\n",
        "dataset.shape"
      ],
      "execution_count": 39,
      "outputs": [
        {
          "output_type": "execute_result",
          "data": {
            "text/plain": [
              "(1420, 3)"
            ]
          },
          "metadata": {
            "tags": []
          },
          "execution_count": 39
        }
      ]
    },
    {
      "cell_type": "code",
      "metadata": {
        "id": "QkSZ6xe-3WSx",
        "colab_type": "code",
        "colab": {
          "base_uri": "https://localhost:8080/",
          "height": 303
        },
        "outputId": "6042774f-fa56-4e46-ae16-362ab72d2dcf"
      },
      "source": [
        "#distribuição dos rótulos\n",
        "ax = dataset.positivity.value_counts(sort=True).plot(kind='bar')\n",
        "ax.set_xlabel('Rótulos')\n",
        "ax.set_ylabel('Count')\n"
      ],
      "execution_count": 40,
      "outputs": [
        {
          "output_type": "execute_result",
          "data": {
            "text/plain": [
              "Text(0, 0.5, 'Count')"
            ]
          },
          "metadata": {
            "tags": []
          },
          "execution_count": 40
        },
        {
          "output_type": "display_data",
          "data": {
            "image/png": "[encoded data removed]",
            "text/plain": [
              "<Figure size 432x288 with 1 Axes>"
            ]
          },
          "metadata": {
            "tags": [],
            "needs_background": "light"
          }
        }
      ]
    },
    {
      "cell_type": "code",
      "metadata": {
        "id": "Nwk_eRTO3WUH",
        "colab_type": "code",
        "colab": {
          "base_uri": "https://localhost:8080/",
          "height": 183
        },
        "outputId": "c43da5b0-dd34-4c18-acd8-d57b445b6450"
      },
      "source": [
        "#exemplo de texto\n",
        "dataset['text'][0]"
      ],
      "execution_count": 41,
      "outputs": [
        {
          "output_type": "execute_result",
          "data": {
            "application/vnd.google.colaboratory.intrinsic+json": {
              "type": "string"
            },
            "text/plain": [
              "'NEW YORK -- Yields on most certificates of deposit offered by major banks dropped more than a tenth of a percentage point in the latest week, reflecting the overall decline in short-term interest rates.</br></br>On small-denomination, or \"consumer,\" CDs sold directly by banks, the average yield on six-month deposits fell to 5.49% from 5.62% in the week ended yesterday, according to an 18-bank survey by Banxquote Money Markets, a Wilmington, Del., information service.</br></br>On three-month \"consumer\" deposits, the average yield sank to 5.29% from 5.42% the week before, according to Banxquote. Two banks in the Banxquote survey, Citibank in New York and CoreStates in Pennsylvania, are paying less than 5% on threemonth small-denomination CDs.</br></br>Declines were somewhat smaller on five-year consumer CDs, which eased to 7.37% from 7.45%, Banxquote said.</br></br>Yields on three-month and six-month Treasury bills sold at Monday\\'s auction plummeted more than a fifth of a percentage point from the previous week, to 5.46% and 5.63%, respectively.'"
            ]
          },
          "metadata": {
            "tags": []
          },
          "execution_count": 41
        }
      ]
    },
    {
      "cell_type": "code",
      "metadata": {
        "id": "tli-CqyQ3WUV",
        "colab_type": "code",
        "colab": {}
      },
      "source": [
        "#métodos para limpeza simples do texto\n",
        "def clean_html(text):\n",
        "    soup = BeautifulSoup(text, 'html')\n",
        "    for s in soup(['script', 'style']):\n",
        "        s.decompose()\n",
        "\n",
        "    return \"\".join(soup.stripped_strings)\n",
        "\n",
        "\n",
        "def remove_punctuation(text):\n",
        "    \n",
        "    text = [word for word in text if word not in string.punctuation]\n",
        "    text = ''.join(text)\n",
        "    \n",
        "    return text\n",
        "\n",
        "def remove_stopwords(text):\n",
        "    text = unidecode(text)\n",
        "    text = [word.lower() for word in text.split() if word.lower() not in stopwords]\n",
        "    \n",
        "    return \" \".join(text)"
      ],
      "execution_count": 42,
      "outputs": []
    },
    {
      "cell_type": "code",
      "metadata": {
        "id": "pdLK66cF3WUd",
        "colab_type": "code",
        "colab": {}
      },
      "source": [
        "#aplicando limpeza no dataset e salvando em nova coluna\n",
        "\n",
        "dataset['clean_text'] = dataset['text'].apply(clean_html)\n",
        "dataset['clean_text'] = dataset['clean_text'].apply(remove_punctuation)\n",
        "dataset['clean_text'] = dataset['clean_text'].apply(remove_stopwords)\n",
        "\n",
        "dataset['text'] = dataset['text'].str.lower()"
      ],
      "execution_count": 43,
      "outputs": []
    },
    {
      "cell_type": "code",
      "metadata": {
        "id": "Z8kFbMfv3WUr",
        "colab_type": "code",
        "colab": {
          "base_uri": "https://localhost:8080/",
          "height": 146
        },
        "outputId": "944b932b-471e-4206-9f7a-28840b173924"
      },
      "source": [
        "dataset['clean_text'][0]"
      ],
      "execution_count": 44,
      "outputs": [
        {
          "output_type": "execute_result",
          "data": {
            "application/vnd.google.colaboratory.intrinsic+json": {
              "type": "string"
            },
            "text/plain": [
              "'new york yields certificates deposit offered major banks dropped tenth percentage point latest week reflecting overall decline shortterm interest rateson smalldenomination consumer cds sold directly banks average yield sixmonth deposits fell 549 562 week ended yesterday according 18bank survey banxquote money markets wilmington del information serviceon threemonth consumer deposits average yield sank 529 542 week according banxquote two banks banxquote survey citibank new york corestates pennsylvania paying less 5 threemonth smalldenomination cdsdeclines somewhat smaller fiveyear consumer cds eased 737 745 banxquote saidyields threemonth sixmonth treasury bills sold mondays auction plummeted fifth percentage point previous week 546 563 respectively'"
            ]
          },
          "metadata": {
            "tags": []
          },
          "execution_count": 44
        }
      ]
    },
    {
      "cell_type": "code",
      "metadata": {
        "id": "smQsKm053WU4",
        "colab_type": "code",
        "colab": {}
      },
      "source": [
        "corpus = \" \".join(dataset['clean_text'].tolist())"
      ],
      "execution_count": 45,
      "outputs": []
    },
    {
      "cell_type": "code",
      "metadata": {
        "id": "eu5oj17k3WVD",
        "colab_type": "code",
        "colab": {
          "base_uri": "https://localhost:8080/",
          "height": 310
        },
        "outputId": "9d21d490-8876-4a5f-8f3b-7326ae85a3bb"
      },
      "source": [
        "wc = WordCloud(width=800, height=400, max_words=200, stopwords=stopwords)\n",
        "\n",
        "wc.generate(corpus)\n",
        "plt.figure(figsize=(10,20))\n",
        "plt.imshow(wc)\n",
        "plt.axis('off')\n",
        "plt.show()"
      ],
      "execution_count": 46,
      "outputs": [
        {
          "output_type": "display_data",
          "data": {
            "image/png": "[encoded data removed]",
            "text/plain": [
              "<Figure size 720x1440 with 1 Axes>"
            ]
          },
          "metadata": {
            "tags": [],
            "needs_background": "light"
          }
        }
      ]
    },
    {
      "cell_type": "code",
      "metadata": {
        "id": "4Pkz-RUw3WVP",
        "colab_type": "code",
        "colab": {}
      },
      "source": [
        "#função que conta sentimentos\n",
        "\n",
        "def sentiment(sentence, pos_list, neg_list):\n",
        "    sent = 0\n",
        "    words = [word for word in tokenizer.tokenize(sentence)]\n",
        "    \n",
        "    for word in words:\n",
        "        if word in pos_list:\n",
        "            sent += 1\n",
        "        elif word in neg_list:\n",
        "            sent -= 1\n",
        "    \n",
        "    return sent"
      ],
      "execution_count": 47,
      "outputs": []
    },
    {
      "cell_type": "markdown",
      "metadata": {
        "id": "NpXtc1Mb3WVe",
        "colab_type": "text"
      },
      "source": [
        "### Aplicando regra de sentimento ao dataset com opinion lexicon"
      ]
    },
    {
      "cell_type": "code",
      "metadata": {
        "id": "wZHBrrGI3WVh",
        "colab_type": "code",
        "colab": {}
      },
      "source": [
        "dataset['sentiment_clean'] = dataset['clean_text'].apply(sentiment, args=(pos_list, neg_list))"
      ],
      "execution_count": 57,
      "outputs": []
    },
    {
      "cell_type": "code",
      "metadata": {
        "scrolled": true,
        "id": "19_uSnq33WVn",
        "colab_type": "code",
        "colab": {
          "base_uri": "https://localhost:8080/",
          "height": 237
        },
        "outputId": "e2f426ae-bda8-4a3e-94e7-227a91ede54a"
      },
      "source": [
        "dataset['sentiment_clean']"
      ],
      "execution_count": 58,
      "outputs": [
        {
          "output_type": "execute_result",
          "data": {
            "text/plain": [
              "0      -1\n",
              "4      -2\n",
              "5      -6\n",
              "9      -6\n",
              "12      2\n",
              "       ..\n",
              "7973   -1\n",
              "7974    5\n",
              "7984    3\n",
              "7987   -7\n",
              "7995    0\n",
              "Name: sentiment_clean, Length: 1420, dtype: int64"
            ]
          },
          "metadata": {
            "tags": []
          },
          "execution_count": 58
        }
      ]
    },
    {
      "cell_type": "markdown",
      "metadata": {
        "id": "loKJPZm43WVv",
        "colab_type": "text"
      },
      "source": [
        "### Aplicando regra de sentimento ao dataset com NRC"
      ]
    },
    {
      "cell_type": "code",
      "metadata": {
        "id": "lW-u7rnW3WVy",
        "colab_type": "code",
        "colab": {}
      },
      "source": [
        "nrc_pos = set(pivot_lexicon[pivot_lexicon.positive == 1].palavra)\n",
        "nrc_neg = set(pivot_lexicon[pivot_lexicon.negative == 1].palavra)"
      ],
      "execution_count": 62,
      "outputs": []
    },
    {
      "cell_type": "code",
      "metadata": {
        "id": "dCUmBeZZ3WV_",
        "colab_type": "code",
        "colab": {}
      },
      "source": [
        "#léxico NRC\n",
        "dataset['sentiment_clean_nrc'] = dataset['clean_text'].apply(sentiment, args=(nrc_pos, nrc_neg))"
      ],
      "execution_count": 63,
      "outputs": []
    },
    {
      "cell_type": "code",
      "metadata": {
        "id": "j65P0xW43WWG",
        "colab_type": "code",
        "colab": {
          "base_uri": "https://localhost:8080/",
          "height": 237
        },
        "outputId": "cff26f9b-000f-475c-ae95-c3a0e8bdba7d"
      },
      "source": [
        "dataset['sentiment_clean_nrc']"
      ],
      "execution_count": 64,
      "outputs": [
        {
          "output_type": "execute_result",
          "data": {
            "text/plain": [
              "0        2\n",
              "4        5\n",
              "5       -2\n",
              "9       -2\n",
              "12      -9\n",
              "        ..\n",
              "7973     4\n",
              "7974     8\n",
              "7984    10\n",
              "7987     2\n",
              "7995    10\n",
              "Name: sentiment_clean_nrc, Length: 1420, dtype: int64"
            ]
          },
          "metadata": {
            "tags": []
          },
          "execution_count": 64
        }
      ]
    },
    {
      "cell_type": "markdown",
      "metadata": {
        "id": "ThLH7Z3v3WWK",
        "colab_type": "text"
      },
      "source": [
        "### Padronização de rótulos e estimativas de sentimento"
      ]
    },
    {
      "cell_type": "code",
      "metadata": {
        "id": "BoAv6eOV3WWM",
        "colab_type": "code",
        "colab": {}
      },
      "source": [
        "### Função para padronizar rotulação\n",
        "def group_dataset_sentiment(value):\n",
        "    if value <= 3:\n",
        "        final_value = -1\n",
        "    elif value > 3 and value <= 6:\n",
        "        final_value = 0\n",
        "    elif value > 6:\n",
        "        final_value = 1\n",
        "    return final_value"
      ],
      "execution_count": 65,
      "outputs": []
    },
    {
      "cell_type": "code",
      "metadata": {
        "id": "sHYqoEzD3WWR",
        "colab_type": "code",
        "colab": {}
      },
      "source": [
        "### Função para padronizar estimativa\n",
        "def group_dataset_sentiment(value):\n",
        "    if value < 0:\n",
        "        final_value = -1\n",
        "    elif value >=0 and value <= 2:\n",
        "        final_value = 0\n",
        "    elif value > 2:\n",
        "        final_value = 1\n",
        "    return final_value"
      ],
      "execution_count": 66,
      "outputs": []
    },
    {
      "cell_type": "code",
      "metadata": {
        "id": "_7lO85ji3WWf",
        "colab_type": "code",
        "colab": {
          "base_uri": "https://localhost:8080/",
          "height": 143
        },
        "outputId": "7b569635-d436-4519-de72-3f9d21f1f438"
      },
      "source": [
        "#aplicar padronização de rótulos no dataset\n",
        "\n",
        "dataset['grouped_label'] = dataset['positivity'].apply(group_dataset_sentiment)\n",
        "dataset['grouped_label']\n",
        "dataset.groupby('grouped_label').count()"
      ],
      "execution_count": 67,
      "outputs": [
        {
          "output_type": "execute_result",
          "data": {
            "text/html": [
              "<div>\n",
              "<style scoped>\n",
              "    .dataframe tbody tr th:only-of-type {\n",
              "        vertical-align: middle;\n",
              "    }\n",
              "\n",
              "    .dataframe tbody tr th {\n",
              "        vertical-align: top;\n",
              "    }\n",
              "\n",
              "    .dataframe thead th {\n",
              "        text-align: right;\n",
              "    }\n",
              "</style>\n",
              "<table border=\"1\" class=\"dataframe\">\n",
              "  <thead>\n",
              "    <tr style=\"text-align: right;\">\n",
              "      <th></th>\n",
              "      <th>positivity</th>\n",
              "      <th>positivity_confidence</th>\n",
              "      <th>text</th>\n",
              "      <th>clean_text</th>\n",
              "      <th>sentiment_clean</th>\n",
              "      <th>sentiment_clean_nrc</th>\n",
              "    </tr>\n",
              "    <tr>\n",
              "      <th>grouped_label</th>\n",
              "      <th></th>\n",
              "      <th></th>\n",
              "      <th></th>\n",
              "      <th></th>\n",
              "      <th></th>\n",
              "      <th></th>\n",
              "    </tr>\n",
              "  </thead>\n",
              "  <tbody>\n",
              "    <tr>\n",
              "      <th>0</th>\n",
              "      <td>35</td>\n",
              "      <td>35</td>\n",
              "      <td>35</td>\n",
              "      <td>35</td>\n",
              "      <td>35</td>\n",
              "      <td>35</td>\n",
              "    </tr>\n",
              "    <tr>\n",
              "      <th>1</th>\n",
              "      <td>1385</td>\n",
              "      <td>1385</td>\n",
              "      <td>1385</td>\n",
              "      <td>1385</td>\n",
              "      <td>1385</td>\n",
              "      <td>1385</td>\n",
              "    </tr>\n",
              "  </tbody>\n",
              "</table>\n",
              "</div>"
            ],
            "text/plain": [
              "               positivity  ...  sentiment_clean_nrc\n",
              "grouped_label              ...                     \n",
              "0                      35  ...                   35\n",
              "1                    1385  ...                 1385\n",
              "\n",
              "[2 rows x 6 columns]"
            ]
          },
          "metadata": {
            "tags": []
          },
          "execution_count": 67
        }
      ]
    },
    {
      "cell_type": "code",
      "metadata": {
        "id": "fKpInY723WWp",
        "colab_type": "code",
        "colab": {
          "base_uri": "https://localhost:8080/",
          "height": 283
        },
        "outputId": "e7ea3d83-4f9e-41fd-96a9-d61ad24984c1"
      },
      "source": [
        "#visualizar densidade de rótulos agrupados\n",
        "dataset['grouped_label'].plot(kind='density')"
      ],
      "execution_count": 68,
      "outputs": [
        {
          "output_type": "execute_result",
          "data": {
            "text/plain": [
              "<matplotlib.axes._subplots.AxesSubplot at 0x7f5c0b69e0f0>"
            ]
          },
          "metadata": {
            "tags": []
          },
          "execution_count": 68
        },
        {
          "output_type": "display_data",
          "data": {
            "image/png": "[encoded data removed]",
            "text/plain": [
              "<Figure size 432x288 with 1 Axes>"
            ]
          },
          "metadata": {
            "tags": [],
            "needs_background": "light"
          }
        }
      ]
    },
    {
      "cell_type": "code",
      "metadata": {
        "id": "Z9xaFr783WWy",
        "colab_type": "code",
        "colab": {
          "base_uri": "https://localhost:8080/",
          "height": 35
        },
        "outputId": "abd20dd0-b910-42e7-9fd9-a9127b8569df"
      },
      "source": [
        "#aplicando padronização de estimativas nas estimativas com opinion lexicon\n",
        "dataset['grouped_sent'] = dataset['sentiment_clean'].apply(group_dataset_sentiment)\n",
        "dataset['grouped_sent'].unique()"
      ],
      "execution_count": 69,
      "outputs": [
        {
          "output_type": "execute_result",
          "data": {
            "text/plain": [
              "array([-1,  0,  1])"
            ]
          },
          "metadata": {
            "tags": []
          },
          "execution_count": 69
        }
      ]
    },
    {
      "cell_type": "code",
      "metadata": {
        "id": "EVCnA5_B3WW5",
        "colab_type": "code",
        "colab": {
          "base_uri": "https://localhost:8080/",
          "height": 195
        },
        "outputId": "04860d8b-5ff4-4b37-cc3a-79f296507b7d"
      },
      "source": [
        "dataset.groupby('grouped_sent').count()"
      ],
      "execution_count": 70,
      "outputs": [
        {
          "output_type": "execute_result",
          "data": {
            "text/html": [
              "<div>\n",
              "<style scoped>\n",
              "    .dataframe tbody tr th:only-of-type {\n",
              "        vertical-align: middle;\n",
              "    }\n",
              "\n",
              "    .dataframe tbody tr th {\n",
              "        vertical-align: top;\n",
              "    }\n",
              "\n",
              "    .dataframe thead th {\n",
              "        text-align: right;\n",
              "    }\n",
              "</style>\n",
              "<table border=\"1\" class=\"dataframe\">\n",
              "  <thead>\n",
              "    <tr style=\"text-align: right;\">\n",
              "      <th></th>\n",
              "      <th>positivity</th>\n",
              "      <th>positivity_confidence</th>\n",
              "      <th>text</th>\n",
              "      <th>clean_text</th>\n",
              "      <th>sentiment_clean</th>\n",
              "      <th>sentiment_clean_nrc</th>\n",
              "      <th>grouped_label</th>\n",
              "    </tr>\n",
              "    <tr>\n",
              "      <th>grouped_sent</th>\n",
              "      <th></th>\n",
              "      <th></th>\n",
              "      <th></th>\n",
              "      <th></th>\n",
              "      <th></th>\n",
              "      <th></th>\n",
              "      <th></th>\n",
              "    </tr>\n",
              "  </thead>\n",
              "  <tbody>\n",
              "    <tr>\n",
              "      <th>-1</th>\n",
              "      <td>778</td>\n",
              "      <td>778</td>\n",
              "      <td>778</td>\n",
              "      <td>778</td>\n",
              "      <td>778</td>\n",
              "      <td>778</td>\n",
              "      <td>778</td>\n",
              "    </tr>\n",
              "    <tr>\n",
              "      <th>0</th>\n",
              "      <td>335</td>\n",
              "      <td>335</td>\n",
              "      <td>335</td>\n",
              "      <td>335</td>\n",
              "      <td>335</td>\n",
              "      <td>335</td>\n",
              "      <td>335</td>\n",
              "    </tr>\n",
              "    <tr>\n",
              "      <th>1</th>\n",
              "      <td>307</td>\n",
              "      <td>307</td>\n",
              "      <td>307</td>\n",
              "      <td>307</td>\n",
              "      <td>307</td>\n",
              "      <td>307</td>\n",
              "      <td>307</td>\n",
              "    </tr>\n",
              "  </tbody>\n",
              "</table>\n",
              "</div>"
            ],
            "text/plain": [
              "              positivity  ...  grouped_label\n",
              "grouped_sent              ...               \n",
              "-1                   778  ...            778\n",
              " 0                   335  ...            335\n",
              " 1                   307  ...            307\n",
              "\n",
              "[3 rows x 7 columns]"
            ]
          },
          "metadata": {
            "tags": []
          },
          "execution_count": 70
        }
      ]
    },
    {
      "cell_type": "code",
      "metadata": {
        "id": "njQZlVny3WXD",
        "colab_type": "code",
        "colab": {
          "base_uri": "https://localhost:8080/",
          "height": 285
        },
        "outputId": "2e2b62bd-2c5e-4f66-8a3e-0fef17961b0e"
      },
      "source": [
        "#visualizar densidades das estimativas com opinion lexicon\n",
        "dataset['grouped_sent'].plot(kind='density')"
      ],
      "execution_count": 71,
      "outputs": [
        {
          "output_type": "execute_result",
          "data": {
            "text/plain": [
              "<matplotlib.axes._subplots.AxesSubplot at 0x7f5c0b6e5f28>"
            ]
          },
          "metadata": {
            "tags": []
          },
          "execution_count": 71
        },
        {
          "output_type": "display_data",
          "data": {
            "image/png": "[encoded data removed]",
            "text/plain": [
              "<Figure size 432x288 with 1 Axes>"
            ]
          },
          "metadata": {
            "tags": [],
            "needs_background": "light"
          }
        }
      ]
    },
    {
      "cell_type": "code",
      "metadata": {
        "id": "-hsDJ5N13WXv",
        "colab_type": "code",
        "colab": {
          "base_uri": "https://localhost:8080/",
          "height": 35
        },
        "outputId": "a3308ba2-fdb6-4633-b55a-590d246ab708"
      },
      "source": [
        "#aplicando padronização de estimativas nas estimativas com NRC\n",
        "dataset['grouped_sent_nrc'] = dataset['sentiment_clean_nrc'].apply(group_dataset_sentiment)\n",
        "dataset['grouped_sent_nrc'].unique()"
      ],
      "execution_count": 72,
      "outputs": [
        {
          "output_type": "execute_result",
          "data": {
            "text/plain": [
              "array([ 0,  1, -1])"
            ]
          },
          "metadata": {
            "tags": []
          },
          "execution_count": 72
        }
      ]
    },
    {
      "cell_type": "code",
      "metadata": {
        "id": "Vz43WSz93WYP",
        "colab_type": "code",
        "colab": {
          "base_uri": "https://localhost:8080/",
          "height": 195
        },
        "outputId": "e7899881-f393-4e9b-d4f1-a153de57dbf2"
      },
      "source": [
        "dataset.groupby('grouped_sent_nrc').count()"
      ],
      "execution_count": 73,
      "outputs": [
        {
          "output_type": "execute_result",
          "data": {
            "text/html": [
              "<div>\n",
              "<style scoped>\n",
              "    .dataframe tbody tr th:only-of-type {\n",
              "        vertical-align: middle;\n",
              "    }\n",
              "\n",
              "    .dataframe tbody tr th {\n",
              "        vertical-align: top;\n",
              "    }\n",
              "\n",
              "    .dataframe thead th {\n",
              "        text-align: right;\n",
              "    }\n",
              "</style>\n",
              "<table border=\"1\" class=\"dataframe\">\n",
              "  <thead>\n",
              "    <tr style=\"text-align: right;\">\n",
              "      <th></th>\n",
              "      <th>positivity</th>\n",
              "      <th>positivity_confidence</th>\n",
              "      <th>text</th>\n",
              "      <th>clean_text</th>\n",
              "      <th>sentiment_clean</th>\n",
              "      <th>sentiment_clean_nrc</th>\n",
              "      <th>grouped_label</th>\n",
              "      <th>grouped_sent</th>\n",
              "    </tr>\n",
              "    <tr>\n",
              "      <th>grouped_sent_nrc</th>\n",
              "      <th></th>\n",
              "      <th></th>\n",
              "      <th></th>\n",
              "      <th></th>\n",
              "      <th></th>\n",
              "      <th></th>\n",
              "      <th></th>\n",
              "      <th></th>\n",
              "    </tr>\n",
              "  </thead>\n",
              "  <tbody>\n",
              "    <tr>\n",
              "      <th>-1</th>\n",
              "      <td>339</td>\n",
              "      <td>339</td>\n",
              "      <td>339</td>\n",
              "      <td>339</td>\n",
              "      <td>339</td>\n",
              "      <td>339</td>\n",
              "      <td>339</td>\n",
              "      <td>339</td>\n",
              "    </tr>\n",
              "    <tr>\n",
              "      <th>0</th>\n",
              "      <td>307</td>\n",
              "      <td>307</td>\n",
              "      <td>307</td>\n",
              "      <td>307</td>\n",
              "      <td>307</td>\n",
              "      <td>307</td>\n",
              "      <td>307</td>\n",
              "      <td>307</td>\n",
              "    </tr>\n",
              "    <tr>\n",
              "      <th>1</th>\n",
              "      <td>774</td>\n",
              "      <td>774</td>\n",
              "      <td>774</td>\n",
              "      <td>774</td>\n",
              "      <td>774</td>\n",
              "      <td>774</td>\n",
              "      <td>774</td>\n",
              "      <td>774</td>\n",
              "    </tr>\n",
              "  </tbody>\n",
              "</table>\n",
              "</div>"
            ],
            "text/plain": [
              "                  positivity  ...  grouped_sent\n",
              "grouped_sent_nrc              ...              \n",
              "-1                       339  ...           339\n",
              " 0                       307  ...           307\n",
              " 1                       774  ...           774\n",
              "\n",
              "[3 rows x 8 columns]"
            ]
          },
          "metadata": {
            "tags": []
          },
          "execution_count": 73
        }
      ]
    },
    {
      "cell_type": "code",
      "metadata": {
        "id": "E068cJlD3WYW",
        "colab_type": "code",
        "colab": {
          "base_uri": "https://localhost:8080/",
          "height": 283
        },
        "outputId": "3fd8a04a-3559-4a6f-d020-7fac48a6a370"
      },
      "source": [
        "#visualizar densidades das estimativas com NRC\n",
        "\n",
        "dataset['grouped_sent_nrc'].plot(kind='density')"
      ],
      "execution_count": 74,
      "outputs": [
        {
          "output_type": "execute_result",
          "data": {
            "text/plain": [
              "<matplotlib.axes._subplots.AxesSubplot at 0x7f5c0b69edd8>"
            ]
          },
          "metadata": {
            "tags": []
          },
          "execution_count": 74
        },
        {
          "output_type": "display_data",
          "data": {
            "image/png": "[encoded data removed]",
            "text/plain": [
              "<Figure size 432x288 with 1 Axes>"
            ]
          },
          "metadata": {
            "tags": [],
            "needs_background": "light"
          }
        }
      ]
    },
    {
      "cell_type": "code",
      "metadata": {
        "id": "lM_yPKJ83WYe",
        "colab_type": "code",
        "colab": {
          "base_uri": "https://localhost:8080/",
          "height": 283
        },
        "outputId": "ecae6785-3f02-4787-e946-3f74c1945bf1"
      },
      "source": [
        "#visualizar densidades dos labels com alta confiança\n",
        "dataset.loc[dataset['positivity_confidence']>=0.70]['grouped_label'].plot(kind='density')"
      ],
      "execution_count": 75,
      "outputs": [
        {
          "output_type": "execute_result",
          "data": {
            "text/plain": [
              "<matplotlib.axes._subplots.AxesSubplot at 0x7f5c0b6015c0>"
            ]
          },
          "metadata": {
            "tags": []
          },
          "execution_count": 75
        },
        {
          "output_type": "display_data",
          "data": {
            "image/png": "[encoded data removed]",
            "text/plain": [
              "<Figure size 432x288 with 1 Axes>"
            ]
          },
          "metadata": {
            "tags": [],
            "needs_background": "light"
          }
        }
      ]
    },
    {
      "cell_type": "code",
      "metadata": {
        "id": "bsDrUglk3WYn",
        "colab_type": "code",
        "colab": {
          "base_uri": "https://localhost:8080/",
          "height": 287
        },
        "outputId": "c54898ee-24b4-4382-afb5-8c9139bfa148"
      },
      "source": [
        "#visualizar densidades das estimativas com opinion lexicon e alta confiança\n",
        "dataset.loc[dataset['positivity_confidence']>=0.70]['grouped_sent'].plot(kind='density')"
      ],
      "execution_count": 76,
      "outputs": [
        {
          "output_type": "execute_result",
          "data": {
            "text/plain": [
              "<matplotlib.axes._subplots.AxesSubplot at 0x7f5c0b3e4780>"
            ]
          },
          "metadata": {
            "tags": []
          },
          "execution_count": 76
        },
        {
          "output_type": "display_data",
          "data": {
            "image/png": "[encoded data removed]",
            "text/plain": [
              "<Figure size 432x288 with 1 Axes>"
            ]
          },
          "metadata": {
            "tags": [],
            "needs_background": "light"
          }
        }
      ]
    },
    {
      "cell_type": "code",
      "metadata": {
        "id": "0MDwrF_03WYv",
        "colab_type": "code",
        "colab": {
          "base_uri": "https://localhost:8080/",
          "height": 283
        },
        "outputId": "89e0d729-2105-47df-8a4e-91394f5a0a91"
      },
      "source": [
        "#visualizar densidades das estimativas com NRC e alta confiança\n",
        "\n",
        "dataset.loc[dataset['positivity_confidence']>=0.70]['grouped_sent_nrc'].plot(kind='density')"
      ],
      "execution_count": 78,
      "outputs": [
        {
          "output_type": "execute_result",
          "data": {
            "text/plain": [
              "<matplotlib.axes._subplots.AxesSubplot at 0x7f5c0b5dae80>"
            ]
          },
          "metadata": {
            "tags": []
          },
          "execution_count": 78
        },
        {
          "output_type": "display_data",
          "data": {
            "image/png": "[encoded data removed]",
            "text/plain": [
              "<Figure size 432x288 with 1 Axes>"
            ]
          },
          "metadata": {
            "tags": [],
            "needs_background": "light"
          }
        }
      ]
    },
    {
      "cell_type": "markdown",
      "metadata": {
        "id": "vSBQ9oEE3WY6",
        "colab_type": "text"
      },
      "source": [
        "### Aplicando métricas para avaliação do resultado"
      ]
    },
    {
      "cell_type": "code",
      "metadata": {
        "id": "z9GCAdqr3WY9",
        "colab_type": "code",
        "colab": {
          "base_uri": "https://localhost:8080/",
          "height": 112
        },
        "outputId": "877f4551-eba4-4932-e361-f346eafd5c57"
      },
      "source": [
        "dataset.loc[dataset['positivity_confidence']>=0.70, ['grouped_label', 'grouped_sent_nrc']].corr()"
      ],
      "execution_count": 79,
      "outputs": [
        {
          "output_type": "execute_result",
          "data": {
            "text/html": [
              "<div>\n",
              "<style scoped>\n",
              "    .dataframe tbody tr th:only-of-type {\n",
              "        vertical-align: middle;\n",
              "    }\n",
              "\n",
              "    .dataframe tbody tr th {\n",
              "        vertical-align: top;\n",
              "    }\n",
              "\n",
              "    .dataframe thead th {\n",
              "        text-align: right;\n",
              "    }\n",
              "</style>\n",
              "<table border=\"1\" class=\"dataframe\">\n",
              "  <thead>\n",
              "    <tr style=\"text-align: right;\">\n",
              "      <th></th>\n",
              "      <th>grouped_label</th>\n",
              "      <th>grouped_sent_nrc</th>\n",
              "    </tr>\n",
              "  </thead>\n",
              "  <tbody>\n",
              "    <tr>\n",
              "      <th>grouped_label</th>\n",
              "      <td>1.000000</td>\n",
              "      <td>-0.107855</td>\n",
              "    </tr>\n",
              "    <tr>\n",
              "      <th>grouped_sent_nrc</th>\n",
              "      <td>-0.107855</td>\n",
              "      <td>1.000000</td>\n",
              "    </tr>\n",
              "  </tbody>\n",
              "</table>\n",
              "</div>"
            ],
            "text/plain": [
              "                  grouped_label  grouped_sent_nrc\n",
              "grouped_label          1.000000         -0.107855\n",
              "grouped_sent_nrc      -0.107855          1.000000"
            ]
          },
          "metadata": {
            "tags": []
          },
          "execution_count": 79
        }
      ]
    },
    {
      "cell_type": "code",
      "metadata": {
        "id": "ZDQPQfXM3WZF",
        "colab_type": "code",
        "colab": {
          "base_uri": "https://localhost:8080/",
          "height": 112
        },
        "outputId": "8e71ded9-de2b-41dc-c638-f316f255eb86"
      },
      "source": [
        "dataset.loc[dataset['positivity_confidence']>=0.70, ['grouped_label', 'grouped_sent']].corr()"
      ],
      "execution_count": 80,
      "outputs": [
        {
          "output_type": "execute_result",
          "data": {
            "text/html": [
              "<div>\n",
              "<style scoped>\n",
              "    .dataframe tbody tr th:only-of-type {\n",
              "        vertical-align: middle;\n",
              "    }\n",
              "\n",
              "    .dataframe tbody tr th {\n",
              "        vertical-align: top;\n",
              "    }\n",
              "\n",
              "    .dataframe thead th {\n",
              "        text-align: right;\n",
              "    }\n",
              "</style>\n",
              "<table border=\"1\" class=\"dataframe\">\n",
              "  <thead>\n",
              "    <tr style=\"text-align: right;\">\n",
              "      <th></th>\n",
              "      <th>grouped_label</th>\n",
              "      <th>grouped_sent</th>\n",
              "    </tr>\n",
              "  </thead>\n",
              "  <tbody>\n",
              "    <tr>\n",
              "      <th>grouped_label</th>\n",
              "      <td>1.000000</td>\n",
              "      <td>0.098651</td>\n",
              "    </tr>\n",
              "    <tr>\n",
              "      <th>grouped_sent</th>\n",
              "      <td>0.098651</td>\n",
              "      <td>1.000000</td>\n",
              "    </tr>\n",
              "  </tbody>\n",
              "</table>\n",
              "</div>"
            ],
            "text/plain": [
              "               grouped_label  grouped_sent\n",
              "grouped_label       1.000000      0.098651\n",
              "grouped_sent        0.098651      1.000000"
            ]
          },
          "metadata": {
            "tags": []
          },
          "execution_count": 80
        }
      ]
    },
    {
      "cell_type": "code",
      "metadata": {
        "id": "nosC6HsK3WZK",
        "colab_type": "code",
        "colab": {
          "base_uri": "https://localhost:8080/",
          "height": 35
        },
        "outputId": "45addea7-eb1e-4089-d9df-79c7ae66b99d"
      },
      "source": [
        "accuracy_score(dataset['grouped_label'], dataset['grouped_sent'])"
      ],
      "execution_count": 81,
      "outputs": [
        {
          "output_type": "execute_result",
          "data": {
            "text/plain": [
              "0.2176056338028169"
            ]
          },
          "metadata": {
            "tags": []
          },
          "execution_count": 81
        }
      ]
    },
    {
      "cell_type": "code",
      "metadata": {
        "id": "9NhHTdU03WZS",
        "colab_type": "code",
        "colab": {
          "base_uri": "https://localhost:8080/",
          "height": 35
        },
        "outputId": "b3eb8d0e-8f11-4656-e346-d11c7a1e679e"
      },
      "source": [
        "f1_score(dataset['grouped_label'], dataset['grouped_sent'], average='macro')"
      ],
      "execution_count": 82,
      "outputs": [
        {
          "output_type": "execute_result",
          "data": {
            "text/plain": [
              "0.1301961536004089"
            ]
          },
          "metadata": {
            "tags": []
          },
          "execution_count": 82
        }
      ]
    },
    {
      "cell_type": "code",
      "metadata": {
        "id": "5DdEiT103WZd",
        "colab_type": "code",
        "colab": {
          "base_uri": "https://localhost:8080/",
          "height": 35
        },
        "outputId": "024faf1a-730b-4f44-990b-e474d43cca42"
      },
      "source": [
        "accuracy_score(dataset['grouped_label'], dataset['grouped_sent_nrc'])"
      ],
      "execution_count": 83,
      "outputs": [
        {
          "output_type": "execute_result",
          "data": {
            "text/plain": [
              "0.5401408450704225"
            ]
          },
          "metadata": {
            "tags": []
          },
          "execution_count": 83
        }
      ]
    },
    {
      "cell_type": "code",
      "metadata": {
        "id": "J4Mojyel3WZi",
        "colab_type": "code",
        "colab": {
          "base_uri": "https://localhost:8080/",
          "height": 35
        },
        "outputId": "900547c8-648b-42f6-da5f-d2de2055c98b"
      },
      "source": [
        "f1_score(dataset['grouped_label'], dataset['grouped_sent_nrc'], average='macro')"
      ],
      "execution_count": 84,
      "outputs": [
        {
          "output_type": "execute_result",
          "data": {
            "text/plain": [
              "0.24996230476350415"
            ]
          },
          "metadata": {
            "tags": []
          },
          "execution_count": 84
        }
      ]
    },
    {
      "cell_type": "code",
      "metadata": {
        "id": "fezAfyMQ3WZl",
        "colab_type": "code",
        "colab": {
          "base_uri": "https://localhost:8080/",
          "height": 35
        },
        "outputId": "9e95defa-d98d-492d-a9d5-aa1ee3b1b5eb"
      },
      "source": [
        "f1_score(dataset['grouped_label'], dataset['grouped_sent_nrc'], average='micro')"
      ],
      "execution_count": 85,
      "outputs": [
        {
          "output_type": "execute_result",
          "data": {
            "text/plain": [
              "0.5401408450704225"
            ]
          },
          "metadata": {
            "tags": []
          },
          "execution_count": 85
        }
      ]
    },
    {
      "cell_type": "code",
      "metadata": {
        "id": "WPfy01R_3WZt",
        "colab_type": "code",
        "colab": {
          "base_uri": "https://localhost:8080/",
          "height": 257
        },
        "outputId": "8b7d7217-b327-4c77-e9ce-8ff84096d9b0"
      },
      "source": [
        "print(classification_report(dataset['grouped_label'], dataset['grouped_sent']))"
      ],
      "execution_count": 86,
      "outputs": [
        {
          "output_type": "stream",
          "text": [
            "              precision    recall  f1-score   support\n",
            "\n",
            "          -1       0.00      0.00      0.00         0\n",
            "           0       0.02      0.17      0.03        35\n",
            "           1       0.99      0.22      0.36      1385\n",
            "\n",
            "    accuracy                           0.22      1420\n",
            "   macro avg       0.33      0.13      0.13      1420\n",
            "weighted avg       0.96      0.22      0.35      1420\n",
            "\n"
          ],
          "name": "stdout"
        },
        {
          "output_type": "stream",
          "text": [
            "/usr/local/lib/python3.6/dist-packages/sklearn/metrics/_classification.py:1272: UndefinedMetricWarning: Recall and F-score are ill-defined and being set to 0.0 in labels with no true samples. Use `zero_division` parameter to control this behavior.\n",
            "  _warn_prf(average, modifier, msg_start, len(result))\n"
          ],
          "name": "stderr"
        }
      ]
    },
    {
      "cell_type": "code",
      "metadata": {
        "id": "lYmp_H7T3WZy",
        "colab_type": "code",
        "colab": {
          "base_uri": "https://localhost:8080/",
          "height": 257
        },
        "outputId": "a7e9f4c2-deb0-498e-a0b3-41b91b48eebd"
      },
      "source": [
        "print(classification_report(dataset['grouped_label'], dataset['grouped_sent_nrc']))"
      ],
      "execution_count": 87,
      "outputs": [
        {
          "output_type": "stream",
          "text": [
            "              precision    recall  f1-score   support\n",
            "\n",
            "          -1       0.00      0.00      0.00         0\n",
            "           0       0.03      0.23      0.05        35\n",
            "           1       0.98      0.55      0.70      1385\n",
            "\n",
            "    accuracy                           0.54      1420\n",
            "   macro avg       0.34      0.26      0.25      1420\n",
            "weighted avg       0.96      0.54      0.69      1420\n",
            "\n"
          ],
          "name": "stdout"
        },
        {
          "output_type": "stream",
          "text": [
            "/usr/local/lib/python3.6/dist-packages/sklearn/metrics/_classification.py:1272: UndefinedMetricWarning: Recall and F-score are ill-defined and being set to 0.0 in labels with no true samples. Use `zero_division` parameter to control this behavior.\n",
            "  _warn_prf(average, modifier, msg_start, len(result))\n"
          ],
          "name": "stderr"
        }
      ]
    },
    {
      "cell_type": "code",
      "metadata": {
        "id": "ViE0wDtM3WZ3",
        "colab_type": "code",
        "colab": {}
      },
      "source": [
        ""
      ],
      "execution_count": 87,
      "outputs": []
    }
  ]
}